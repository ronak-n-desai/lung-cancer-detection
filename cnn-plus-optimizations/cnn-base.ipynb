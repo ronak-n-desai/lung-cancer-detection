{
 "cells": [
  {
   "cell_type": "code",
   "execution_count": 1,
   "id": "111c0d64",
   "metadata": {
    "execution": {
     "iopub.execute_input": "2024-08-25T18:04:21.682575Z",
     "iopub.status.busy": "2024-08-25T18:04:21.681984Z",
     "iopub.status.idle": "2024-08-25T18:04:28.778918Z",
     "shell.execute_reply": "2024-08-25T18:04:28.778125Z"
    },
    "papermill": {
     "duration": 7.105791,
     "end_time": "2024-08-25T18:04:28.781230",
     "exception": false,
     "start_time": "2024-08-25T18:04:21.675439",
     "status": "completed"
    },
    "tags": []
   },
   "outputs": [],
   "source": [
    "import numpy as np\n",
    "import pandas as pd\n",
    "import matplotlib.pyplot as plt\n",
    "from PIL import Image\n",
    "from glob import glob\n",
    " \n",
    "from sklearn.model_selection import train_test_split\n",
    "from sklearn import metrics\n",
    " \n",
    "import cv2\n",
    "import gc\n",
    "import os \n",
    "import time\n",
    "import torch\n",
    "import torch.nn as nn\n",
    "import torchvision\n",
    "import torchvision.transforms as transforms\n",
    "import warnings\n",
    "warnings.filterwarnings('ignore')\n"
   ]
  },
  {
   "cell_type": "code",
   "execution_count": 2,
   "id": "c5e9c35d",
   "metadata": {
    "execution": {
     "iopub.execute_input": "2024-08-25T18:04:28.792888Z",
     "iopub.status.busy": "2024-08-25T18:04:28.791997Z",
     "iopub.status.idle": "2024-08-25T18:04:28.802678Z",
     "shell.execute_reply": "2024-08-25T18:04:28.801798Z"
    },
    "papermill": {
     "duration": 0.018124,
     "end_time": "2024-08-25T18:04:28.804577",
     "exception": false,
     "start_time": "2024-08-25T18:04:28.786453",
     "status": "completed"
    },
    "tags": []
   },
   "outputs": [
    {
     "name": "stdout",
     "output_type": "stream",
     "text": [
      "['lung_aca', 'lung_scc', 'lung_n']\n"
     ]
    }
   ],
   "source": [
    "dataset_path = '/kaggle/input/lung-and-colon-cancer-histopathological-images/lung_colon_image_set/lung_image_sets/'\n",
    "print(os.listdir(dataset_path))"
   ]
  },
  {
   "cell_type": "code",
   "execution_count": 3,
   "id": "e2dbb051",
   "metadata": {
    "execution": {
     "iopub.execute_input": "2024-08-25T18:04:28.815322Z",
     "iopub.status.busy": "2024-08-25T18:04:28.814687Z",
     "iopub.status.idle": "2024-08-25T18:04:28.820739Z",
     "shell.execute_reply": "2024-08-25T18:04:28.819924Z"
    },
    "papermill": {
     "duration": 0.01329,
     "end_time": "2024-08-25T18:04:28.822553",
     "exception": false,
     "start_time": "2024-08-25T18:04:28.809263",
     "status": "completed"
    },
    "tags": []
   },
   "outputs": [
    {
     "data": {
      "text/plain": [
       "['lung_aca', 'lung_scc', 'lung_n']"
      ]
     },
     "execution_count": 3,
     "metadata": {},
     "output_type": "execute_result"
    }
   ],
   "source": [
    "classes = os.listdir(dataset_path)\n",
    "classes"
   ]
  },
  {
   "cell_type": "code",
   "execution_count": 4,
   "id": "1b590041",
   "metadata": {
    "execution": {
     "iopub.execute_input": "2024-08-25T18:04:28.833545Z",
     "iopub.status.busy": "2024-08-25T18:04:28.832938Z",
     "iopub.status.idle": "2024-08-25T18:04:28.837271Z",
     "shell.execute_reply": "2024-08-25T18:04:28.836429Z"
    },
    "papermill": {
     "duration": 0.01178,
     "end_time": "2024-08-25T18:04:28.839172",
     "exception": false,
     "start_time": "2024-08-25T18:04:28.827392",
     "status": "completed"
    },
    "tags": []
   },
   "outputs": [],
   "source": [
    "IMG_SIZE = 256\n",
    "SPLIT = 0.2\n",
    "EPOCHS = 10\n",
    "BATCH_SIZE = 64\n",
    "learning_rate = 0.001\n",
    "num_epochs = 20\n",
    "NODE = np.int_(IMG_SIZE / 4)"
   ]
  },
  {
   "cell_type": "code",
   "execution_count": 5,
   "id": "4a34c1f8",
   "metadata": {
    "execution": {
     "iopub.execute_input": "2024-08-25T18:04:28.849869Z",
     "iopub.status.busy": "2024-08-25T18:04:28.849366Z",
     "iopub.status.idle": "2024-08-25T18:04:34.237296Z",
     "shell.execute_reply": "2024-08-25T18:04:34.236066Z"
    },
    "papermill": {
     "duration": 5.395401,
     "end_time": "2024-08-25T18:04:34.239337",
     "exception": false,
     "start_time": "2024-08-25T18:04:28.843936",
     "status": "completed"
    },
    "scrolled": true,
    "tags": []
   },
   "outputs": [
    {
     "name": "stdout",
     "output_type": "stream",
     "text": [
      "12000\n",
      "torch.Size([3, 256, 256])\n"
     ]
    }
   ],
   "source": [
    "from torchvision import datasets\n",
    "from torch.utils.data import DataLoader\n",
    "\n",
    "# Define transformations (e.g., resizing, normalization)\n",
    "transform = transforms.Compose([\n",
    "    transforms.Resize((IMG_SIZE, IMG_SIZE)),  # Resize images to 224x224\n",
    "    transforms.ToTensor(),  # Convert PIL image to tensor\n",
    "    transforms.Normalize(mean=[0.485, 0.456, 0.406], std=[0.229, 0.224, 0.225])  # Normalize\n",
    "])\n",
    "\n",
    "# Load dataset from local directory\n",
    "#data_dir = 'C:/Users/abdun/Lung_cancer/lung_colon_image_set/lung_image_sets'\n",
    "dataset = datasets.ImageFolder(root=dataset_path, transform=transform)\n",
    "\n",
    "\n",
    "\n",
    "generator1 = torch.Generator().manual_seed(42)\n",
    "train_set, val_set = torch.utils.data.random_split(dataset, [0.8, 0.2], generator=generator1 )\n",
    "\n",
    "# Create DataLoader\n",
    "train_loader = DataLoader(train_set, batch_size=BATCH_SIZE, shuffle=True, num_workers=8, pin_memory=True)\n",
    "test_loader = DataLoader(val_set, batch_size=BATCH_SIZE, shuffle=True,)\n",
    "\n",
    "print(len(train_set))\n",
    "img, label = dataset[10]\n",
    "print(img.shape)\n"
   ]
  },
  {
   "cell_type": "code",
   "execution_count": 6,
   "id": "b2eff197",
   "metadata": {
    "execution": {
     "iopub.execute_input": "2024-08-25T18:04:34.251259Z",
     "iopub.status.busy": "2024-08-25T18:04:34.250961Z",
     "iopub.status.idle": "2024-08-25T18:04:34.310659Z",
     "shell.execute_reply": "2024-08-25T18:04:34.309908Z"
    },
    "papermill": {
     "duration": 0.067693,
     "end_time": "2024-08-25T18:04:34.312490",
     "exception": false,
     "start_time": "2024-08-25T18:04:34.244797",
     "status": "completed"
    },
    "tags": []
   },
   "outputs": [],
   "source": [
    "device = torch.device('cuda' if torch.cuda.is_available() else 'cpu')"
   ]
  },
  {
   "cell_type": "code",
   "execution_count": 7,
   "id": "28d66450",
   "metadata": {
    "execution": {
     "iopub.execute_input": "2024-08-25T18:04:34.323601Z",
     "iopub.status.busy": "2024-08-25T18:04:34.323325Z",
     "iopub.status.idle": "2024-08-25T18:04:34.332394Z",
     "shell.execute_reply": "2024-08-25T18:04:34.331547Z"
    },
    "papermill": {
     "duration": 0.016768,
     "end_time": "2024-08-25T18:04:34.334275",
     "exception": false,
     "start_time": "2024-08-25T18:04:34.317507",
     "status": "completed"
    },
    "tags": []
   },
   "outputs": [],
   "source": [
    "# Creating a CNN class\n",
    "class Net(nn.Module):\n",
    "  def __init__(self):\n",
    "    super().__init__()\n",
    "    self.conv1 = nn.Conv2d(3, 16, kernel_size=3, padding=1)\n",
    "    self.act1 = nn.Tanh()\n",
    "    self.pool1 = nn.MaxPool2d(2)\n",
    "    self.conv2 = nn.Conv2d(16, 8, kernel_size=3, padding=1)\n",
    "    self.act2 = nn.Tanh()\n",
    "    self.pool2 = nn.MaxPool2d(2)\n",
    "    self.fc1 = nn.Linear(8 * NODE * NODE, 64) # NODE is (IMG_SIZE)devided by (2*2) from the max pool.\n",
    "    self.act3 = nn.ReLU()\n",
    "    self.fc3 = nn.Linear(64, 64)\n",
    "    self.fc4 = nn.Linear(64, 32)\n",
    "    self.fc2 = nn.Linear(32, 3)\n",
    "  def forward(self, x):\n",
    "    out = self.pool1(self.act3(self.conv1(x)))\n",
    "    out = self.pool2(self.act3(self.conv2(out)))\n",
    "    out = out.view(out.size(0), -1)\n",
    "    out = self.act3(self.fc1(out))\n",
    "    out = self.act3(self.fc3(out))\n",
    "    out = self.act3(self.fc4(out))\n",
    "    out = self.fc2(out)\n",
    "    return out\n"
   ]
  },
  {
   "cell_type": "code",
   "execution_count": 8,
   "id": "e92dbc1a",
   "metadata": {
    "execution": {
     "iopub.execute_input": "2024-08-25T18:04:34.345378Z",
     "iopub.status.busy": "2024-08-25T18:04:34.345120Z",
     "iopub.status.idle": "2024-08-25T18:04:34.517842Z",
     "shell.execute_reply": "2024-08-25T18:04:34.517014Z"
    },
    "papermill": {
     "duration": 0.18094,
     "end_time": "2024-08-25T18:04:34.520204",
     "exception": false,
     "start_time": "2024-08-25T18:04:34.339264",
     "status": "completed"
    },
    "tags": []
   },
   "outputs": [],
   "source": [
    "model = Net()\n",
    "model = nn.DataParallel(model)\n",
    "model = model.to(device=device)\n",
    "\n",
    "# Set Loss function with criterion\n",
    "loss_fn = nn.CrossEntropyLoss()\n",
    "\n",
    "# Set optimizer with optimizer\n",
    "optimizer = torch.optim.SGD(model.parameters(), lr=learning_rate, weight_decay = 0.01, momentum = 0.5)  \n",
    "\n",
    "total_step = len(train_loader)"
   ]
  },
  {
   "cell_type": "code",
   "execution_count": 9,
   "id": "f8a93bc2",
   "metadata": {
    "execution": {
     "iopub.execute_input": "2024-08-25T18:04:34.531865Z",
     "iopub.status.busy": "2024-08-25T18:04:34.531252Z",
     "iopub.status.idle": "2024-08-25T18:04:34.535427Z",
     "shell.execute_reply": "2024-08-25T18:04:34.534610Z"
    },
    "papermill": {
     "duration": 0.011908,
     "end_time": "2024-08-25T18:04:34.537336",
     "exception": false,
     "start_time": "2024-08-25T18:04:34.525428",
     "status": "completed"
    },
    "tags": []
   },
   "outputs": [],
   "source": [
    "epoch_list = []\n",
    "time_list = []\n",
    "train_lost_list = []\n",
    "train_acc_list = []\n",
    "val_acc_list =[]"
   ]
  },
  {
   "cell_type": "code",
   "execution_count": 10,
   "id": "16eeb61d",
   "metadata": {
    "execution": {
     "iopub.execute_input": "2024-08-25T18:04:34.548513Z",
     "iopub.status.busy": "2024-08-25T18:04:34.548016Z",
     "iopub.status.idle": "2024-08-25T18:04:34.556822Z",
     "shell.execute_reply": "2024-08-25T18:04:34.555977Z"
    },
    "papermill": {
     "duration": 0.01642,
     "end_time": "2024-08-25T18:04:34.558674",
     "exception": false,
     "start_time": "2024-08-25T18:04:34.542254",
     "status": "completed"
    },
    "tags": []
   },
   "outputs": [],
   "source": [
    "start_time = time.time()\n",
    "def training_loop(n_epochs, optimizer, model, loss_fn, train_loader, inter_test, dump_csv):\n",
    "   \n",
    "  model.train()\n",
    "  for epoch in range(1, n_epochs + 1):\n",
    "      loss_train = 0.0\n",
    "      for imgs, labels in train_loader:\n",
    "            imgs = imgs.to(device=device)\n",
    "            labels = labels.to(device=device)\n",
    "            #model = model.to(device=device)\n",
    "            outputs = model(imgs)\n",
    "            loss = loss_fn(outputs, labels)\n",
    "            optimizer.zero_grad()\n",
    "            loss.backward()\n",
    "            optimizer.step()\n",
    "            loss_train += loss.item()\n",
    "\n",
    "      epoch_time = time.time() - start_time\n",
    "      epoch_time = f\"{epoch_time:.2f}\"\n",
    "      if epoch == 1 or epoch  != 0:\n",
    "         print('{} Epoch {}, Training loss {}'.format(\n",
    "             epoch_time, epoch,\n",
    "             loss_train / len(train_loader)))\n",
    "      if(inter_test == 1 or epoch > 20 or epoch % 5 ==0):  \n",
    "        acc_train, acc_val = validate(model, train_loader, test_loader)\n",
    "      if(dump_csv == 1):\n",
    "        epoch_list.append(epoch)\n",
    "        time_list.append(epoch_time)\n",
    "        train_lost_list.append(loss_train / len(train_loader))\n",
    "        train_acc_list.append(acc_train)\n",
    "        val_acc_list.append(acc_val)\n",
    "\n"
   ]
  },
  {
   "cell_type": "code",
   "execution_count": 11,
   "id": "90b1a6a3",
   "metadata": {
    "execution": {
     "iopub.execute_input": "2024-08-25T18:04:34.569954Z",
     "iopub.status.busy": "2024-08-25T18:04:34.569411Z",
     "iopub.status.idle": "2024-08-25T18:04:34.576891Z",
     "shell.execute_reply": "2024-08-25T18:04:34.576033Z"
    },
    "papermill": {
     "duration": 0.014966,
     "end_time": "2024-08-25T18:04:34.578796",
     "exception": false,
     "start_time": "2024-08-25T18:04:34.563830",
     "status": "completed"
    },
    "tags": []
   },
   "outputs": [],
   "source": [
    "def validate(model, train_loader, val_loader):\n",
    "     model.eval()\n",
    "     for name, loader in [(\"train\", train_loader), (\"val\", val_loader)]:\n",
    "             correct = 0\n",
    "             total = 0\n",
    "             with torch.no_grad():\n",
    "                for imgs, labels in loader:\n",
    "                    imgs = imgs.to(device=device)\n",
    "                    labels = labels.to(device=device)\n",
    "                    model = model.to(device=device)\n",
    "                    outputs = model(imgs)\n",
    "                    _, predicted = torch.max(outputs, dim=1)\n",
    "                    total += labels.shape[0]\n",
    "                    correct += int((predicted == labels).sum())\n",
    "\n",
    "             print(\"Accuracy {}: {:.2f}\".format(name , correct / total))\n",
    "             if(name == \"train\"):\n",
    "                acc_train = correct / total\n",
    "             if(name == \"val\"):\n",
    "                acc_val = correct / total\n",
    "     return f\"{acc_train:.2f}\", f\"{acc_val:.2f}\" \n",
    "\n",
    "\n",
    "             \n",
    "   "
   ]
  },
  {
   "cell_type": "code",
   "execution_count": 12,
   "id": "7893c5a9",
   "metadata": {
    "execution": {
     "iopub.execute_input": "2024-08-25T18:04:34.589610Z",
     "iopub.status.busy": "2024-08-25T18:04:34.589364Z",
     "iopub.status.idle": "2024-08-25T19:22:39.510858Z",
     "shell.execute_reply": "2024-08-25T19:22:39.509763Z"
    },
    "papermill": {
     "duration": 4684.929275,
     "end_time": "2024-08-25T19:22:39.513083",
     "exception": false,
     "start_time": "2024-08-25T18:04:34.583808",
     "status": "completed"
    },
    "tags": []
   },
   "outputs": [
    {
     "name": "stdout",
     "output_type": "stream",
     "text": [
      "46.88 Epoch 1, Training loss 1.0827303750717894\n",
      "Accuracy train: 0.34\n",
      "Accuracy val: 0.32\n",
      "175.02 Epoch 2, Training loss 0.8976666524689249\n",
      "Accuracy train: 0.70\n",
      "Accuracy val: 0.70\n",
      "293.80 Epoch 3, Training loss 0.5527331672133283\n",
      "Accuracy train: 0.75\n",
      "Accuracy val: 0.74\n",
      "410.98 Epoch 4, Training loss 0.4757776415728508\n",
      "Accuracy train: 0.77\n",
      "Accuracy val: 0.76\n",
      "528.42 Epoch 5, Training loss 0.42938669152716374\n",
      "Accuracy train: 0.83\n",
      "Accuracy val: 0.82\n",
      "643.15 Epoch 6, Training loss 0.3822150033046591\n",
      "Accuracy train: 0.86\n",
      "Accuracy val: 0.85\n",
      "760.71 Epoch 7, Training loss 0.3509768816701909\n",
      "Accuracy train: 0.86\n",
      "Accuracy val: 0.86\n",
      "875.71 Epoch 8, Training loss 0.328740175100083\n",
      "Accuracy train: 0.87\n",
      "Accuracy val: 0.85\n",
      "993.94 Epoch 9, Training loss 0.31354047865309614\n",
      "Accuracy train: 0.88\n",
      "Accuracy val: 0.88\n",
      "1113.82 Epoch 10, Training loss 0.3066553894351137\n",
      "Accuracy train: 0.84\n",
      "Accuracy val: 0.83\n",
      "1233.89 Epoch 11, Training loss 0.2987814301506002\n",
      "Accuracy train: 0.88\n",
      "Accuracy val: 0.87\n",
      "1349.47 Epoch 12, Training loss 0.29376293251172025\n",
      "Accuracy train: 0.89\n",
      "Accuracy val: 0.89\n",
      "1466.17 Epoch 13, Training loss 0.2859705814576529\n",
      "Accuracy train: 0.88\n",
      "Accuracy val: 0.88\n",
      "1583.15 Epoch 14, Training loss 0.2840497186209293\n",
      "Accuracy train: 0.90\n",
      "Accuracy val: 0.89\n",
      "1698.79 Epoch 15, Training loss 0.2793041053921618\n",
      "Accuracy train: 0.88\n",
      "Accuracy val: 0.87\n",
      "1817.96 Epoch 16, Training loss 0.2760306954225327\n",
      "Accuracy train: 0.87\n",
      "Accuracy val: 0.86\n",
      "1936.39 Epoch 17, Training loss 0.2704342513325367\n",
      "Accuracy train: 0.89\n",
      "Accuracy val: 0.88\n",
      "2054.29 Epoch 18, Training loss 0.2688260287284217\n",
      "Accuracy train: 0.88\n",
      "Accuracy val: 0.87\n",
      "2172.00 Epoch 19, Training loss 0.2669678496077974\n",
      "Accuracy train: 0.90\n",
      "Accuracy val: 0.89\n",
      "2288.63 Epoch 20, Training loss 0.260576928153317\n",
      "Accuracy train: 0.90\n",
      "Accuracy val: 0.88\n",
      "2406.32 Epoch 21, Training loss 0.25486412529457125\n",
      "Accuracy train: 0.90\n",
      "Accuracy val: 0.89\n",
      "2524.59 Epoch 22, Training loss 0.25157890040823755\n",
      "Accuracy train: 0.90\n",
      "Accuracy val: 0.88\n",
      "2640.52 Epoch 23, Training loss 0.24279622527513098\n",
      "Accuracy train: 0.91\n",
      "Accuracy val: 0.89\n",
      "2754.33 Epoch 24, Training loss 0.23888650841693929\n",
      "Accuracy train: 0.91\n",
      "Accuracy val: 0.89\n",
      "2871.34 Epoch 25, Training loss 0.23314498341146936\n",
      "Accuracy train: 0.91\n",
      "Accuracy val: 0.89\n",
      "2988.81 Epoch 26, Training loss 0.22888100935899197\n",
      "Accuracy train: 0.91\n",
      "Accuracy val: 0.89\n",
      "3105.93 Epoch 27, Training loss 0.22385110777426273\n",
      "Accuracy train: 0.90\n",
      "Accuracy val: 0.88\n",
      "3224.91 Epoch 28, Training loss 0.2171980344710198\n",
      "Accuracy train: 0.91\n",
      "Accuracy val: 0.89\n",
      "3343.04 Epoch 29, Training loss 0.2123495115244642\n",
      "Accuracy train: 0.92\n",
      "Accuracy val: 0.90\n",
      "3460.18 Epoch 30, Training loss 0.20752769161729104\n",
      "Accuracy train: 0.91\n",
      "Accuracy val: 0.89\n",
      "3574.70 Epoch 31, Training loss 0.20106429210368623\n",
      "Accuracy train: 0.92\n",
      "Accuracy val: 0.90\n",
      "3688.22 Epoch 32, Training loss 0.19496640832500256\n",
      "Accuracy train: 0.92\n",
      "Accuracy val: 0.90\n",
      "3801.14 Epoch 33, Training loss 0.19086333788297277\n",
      "Accuracy train: 0.93\n",
      "Accuracy val: 0.90\n",
      "3918.49 Epoch 34, Training loss 0.18651004991632827\n",
      "Accuracy train: 0.91\n",
      "Accuracy val: 0.89\n",
      "4035.35 Epoch 35, Training loss 0.1837059770056859\n",
      "Accuracy train: 0.94\n",
      "Accuracy val: 0.91\n",
      "4150.94 Epoch 36, Training loss 0.1764878697217779\n",
      "Accuracy train: 0.93\n",
      "Accuracy val: 0.90\n",
      "4267.72 Epoch 37, Training loss 0.17301397031529786\n",
      "Accuracy train: 0.94\n",
      "Accuracy val: 0.91\n",
      "4383.68 Epoch 38, Training loss 0.1686449639419926\n",
      "Accuracy train: 0.94\n",
      "Accuracy val: 0.91\n",
      "4499.44 Epoch 39, Training loss 0.16627969105351478\n",
      "Accuracy train: 0.94\n",
      "Accuracy val: 0.91\n",
      "4615.12 Epoch 40, Training loss 0.16033493998916226\n",
      "Accuracy train: 0.94\n",
      "Accuracy val: 0.90\n",
      "Training results successfully exported to csv\n"
     ]
    }
   ],
   "source": [
    "inter_test = 1\n",
    "dump_csv = 1\n",
    "training_loop(n_epochs = 40, optimizer = optimizer, model = model, loss_fn = loss_fn, train_loader = train_loader, \n",
    "                inter_test = inter_test, dump_csv = dump_csv)\n",
    "\n",
    "results = {\n",
    "    \"Epoch\": epoch_list,\n",
    "    \"Time\": time_list,\n",
    "    \"Train_Accuracy\": train_acc_list,\n",
    "    \"Val_Accuracy\":val_acc_list\n",
    "}\n",
    "\n",
    "df = pd.DataFrame(results)\n",
    "df.to_csv('/kaggle/working/BaseCNN_results.csv', index=False)\n",
    "\n",
    "print(f\"Training results successfully exported to csv\")\n",
    "\n",
    " "
   ]
  },
  {
   "cell_type": "code",
   "execution_count": 13,
   "id": "a068c6bc",
   "metadata": {
    "execution": {
     "iopub.execute_input": "2024-08-25T19:22:39.542698Z",
     "iopub.status.busy": "2024-08-25T19:22:39.542136Z",
     "iopub.status.idle": "2024-08-25T19:23:49.130623Z",
     "shell.execute_reply": "2024-08-25T19:23:49.129548Z"
    },
    "papermill": {
     "duration": 69.605588,
     "end_time": "2024-08-25T19:23:49.132833",
     "exception": false,
     "start_time": "2024-08-25T19:22:39.527245",
     "status": "completed"
    },
    "tags": []
   },
   "outputs": [
    {
     "name": "stdout",
     "output_type": "stream",
     "text": [
      "Accuracy train: 0.94\n",
      "Accuracy val: 0.90\n"
     ]
    },
    {
     "data": {
      "text/plain": [
       "('0.94', '0.90')"
      ]
     },
     "execution_count": 13,
     "metadata": {},
     "output_type": "execute_result"
    }
   ],
   "source": [
    "validate(model, train_loader, test_loader)\n"
   ]
  },
  {
   "cell_type": "code",
   "execution_count": 14,
   "id": "f9b8a34b",
   "metadata": {
    "execution": {
     "iopub.execute_input": "2024-08-25T19:23:49.163322Z",
     "iopub.status.busy": "2024-08-25T19:23:49.163041Z",
     "iopub.status.idle": "2024-08-25T19:23:50.163415Z",
     "shell.execute_reply": "2024-08-25T19:23:50.162261Z"
    },
    "papermill": {
     "duration": 1.018224,
     "end_time": "2024-08-25T19:23:50.166119",
     "exception": false,
     "start_time": "2024-08-25T19:23:49.147895",
     "status": "completed"
    },
    "tags": []
   },
   "outputs": [
    {
     "name": "stdout",
     "output_type": "stream",
     "text": [
      "Architecture:                         x86_64\r\n",
      "CPU op-mode(s):                       32-bit, 64-bit\r\n",
      "Byte Order:                           Little Endian\r\n",
      "Address sizes:                        46 bits physical, 48 bits virtual\r\n",
      "CPU(s):                               4\r\n",
      "On-line CPU(s) list:                  0-3\r\n",
      "Thread(s) per core:                   2\r\n",
      "Core(s) per socket:                   2\r\n",
      "Socket(s):                            1\r\n",
      "NUMA node(s):                         1\r\n",
      "Vendor ID:                            GenuineIntel\r\n",
      "CPU family:                           6\r\n",
      "Model:                                85\r\n",
      "Model name:                           Intel(R) Xeon(R) CPU @ 2.00GHz\r\n",
      "Stepping:                             3\r\n",
      "CPU MHz:                              2000.146\r\n",
      "BogoMIPS:                             4000.29\r\n",
      "Hypervisor vendor:                    KVM\r\n",
      "Virtualization type:                  full\r\n",
      "L1d cache:                            64 KiB\r\n",
      "L1i cache:                            64 KiB\r\n",
      "L2 cache:                             2 MiB\r\n",
      "L3 cache:                             38.5 MiB\r\n",
      "NUMA node0 CPU(s):                    0-3\r\n",
      "Vulnerability Gather data sampling:   Not affected\r\n",
      "Vulnerability Itlb multihit:          Not affected\r\n",
      "Vulnerability L1tf:                   Mitigation; PTE Inversion\r\n",
      "Vulnerability Mds:                    Mitigation; Clear CPU buffers; SMT Host st\r\n",
      "                                      ate unknown\r\n",
      "Vulnerability Meltdown:               Mitigation; PTI\r\n",
      "Vulnerability Mmio stale data:        Vulnerable: Clear CPU buffers attempted, n\r\n",
      "                                      o microcode; SMT Host state unknown\r\n",
      "Vulnerability Reg file data sampling: Not affected\r\n",
      "Vulnerability Retbleed:               Mitigation; IBRS\r\n",
      "Vulnerability Spec rstack overflow:   Not affected\r\n",
      "Vulnerability Spec store bypass:      Mitigation; Speculative Store Bypass disab\r\n",
      "                                      led via prctl and seccomp\r\n",
      "Vulnerability Spectre v1:             Mitigation; usercopy/swapgs barriers and _\r\n",
      "                                      _user pointer sanitization\r\n",
      "Vulnerability Spectre v2:             Mitigation; IBRS; IBPB conditional; STIBP \r\n",
      "                                      conditional; RSB filling; PBRSB-eIBRS Not \r\n",
      "                                      affected; BHI SW loop, KVM SW loop\r\n",
      "Vulnerability Srbds:                  Not affected\r\n",
      "Vulnerability Tsx async abort:        Mitigation; Clear CPU buffers; SMT Host st\r\n",
      "                                      ate unknown\r\n",
      "Flags:                                fpu vme de pse tsc msr pae mce cx8 apic se\r\n",
      "                                      p mtrr pge mca cmov pat pse36 clflush mmx \r\n",
      "                                      fxsr sse sse2 ss ht syscall nx pdpe1gb rdt\r\n",
      "                                      scp lm constant_tsc rep_good nopl xtopolog\r\n",
      "                                      y nonstop_tsc cpuid tsc_known_freq pni pcl\r\n",
      "                                      mulqdq ssse3 fma cx16 pcid sse4_1 sse4_2 x\r\n",
      "                                      2apic movbe popcnt aes xsave avx f16c rdra\r\n",
      "                                      nd hypervisor lahf_lm abm 3dnowprefetch in\r\n",
      "                                      vpcid_single pti ssbd ibrs ibpb stibp fsgs\r\n",
      "                                      base tsc_adjust bmi1 hle avx2 smep bmi2 er\r\n",
      "                                      ms invpcid rtm mpx avx512f avx512dq rdseed\r\n",
      "                                       adx smap clflushopt clwb avx512cd avx512b\r\n",
      "                                      w avx512vl xsaveopt xsavec xgetbv1 xsaves \r\n",
      "                                      arat md_clear arch_capabilities\r\n"
     ]
    }
   ],
   "source": [
    "!lscpu"
   ]
  },
  {
   "cell_type": "code",
   "execution_count": 15,
   "id": "73f00a81",
   "metadata": {
    "execution": {
     "iopub.execute_input": "2024-08-25T19:23:50.196716Z",
     "iopub.status.busy": "2024-08-25T19:23:50.196375Z",
     "iopub.status.idle": "2024-08-25T19:23:50.200800Z",
     "shell.execute_reply": "2024-08-25T19:23:50.199934Z"
    },
    "papermill": {
     "duration": 0.021971,
     "end_time": "2024-08-25T19:23:50.202782",
     "exception": false,
     "start_time": "2024-08-25T19:23:50.180811",
     "status": "completed"
    },
    "tags": []
   },
   "outputs": [],
   "source": [
    "#torch.save(model.state_dict(), data_dir + 'Lung_cancer.pt')\n"
   ]
  }
 ],
 "metadata": {
  "kaggle": {
   "accelerator": "none",
   "dataSources": [
    {
     "datasetId": 601280,
     "sourceId": 1079953,
     "sourceType": "datasetVersion"
    }
   ],
   "dockerImageVersionId": 30747,
   "isGpuEnabled": false,
   "isInternetEnabled": false,
   "language": "python",
   "sourceType": "notebook"
  },
  "kernelspec": {
   "display_name": "Python 3",
   "language": "python",
   "name": "python3"
  },
  "language_info": {
   "codemirror_mode": {
    "name": "ipython",
    "version": 3
   },
   "file_extension": ".py",
   "mimetype": "text/x-python",
   "name": "python",
   "nbconvert_exporter": "python",
   "pygments_lexer": "ipython3",
   "version": "3.10.13"
  },
  "papermill": {
   "default_parameters": {},
   "duration": 4772.968663,
   "end_time": "2024-08-25T19:23:51.948480",
   "environment_variables": {},
   "exception": null,
   "input_path": "__notebook__.ipynb",
   "output_path": "__notebook__.ipynb",
   "parameters": {},
   "start_time": "2024-08-25T18:04:18.979817",
   "version": "2.5.0"
  }
 },
 "nbformat": 4,
 "nbformat_minor": 5
}
