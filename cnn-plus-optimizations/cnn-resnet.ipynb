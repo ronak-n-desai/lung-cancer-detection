{
 "cells": [
  {
   "cell_type": "code",
   "execution_count": 1,
   "id": "52057306",
   "metadata": {
    "execution": {
     "iopub.execute_input": "2024-08-25T17:21:46.076455Z",
     "iopub.status.busy": "2024-08-25T17:21:46.076135Z",
     "iopub.status.idle": "2024-08-25T17:21:53.188166Z",
     "shell.execute_reply": "2024-08-25T17:21:53.187375Z"
    },
    "papermill": {
     "duration": 7.121083,
     "end_time": "2024-08-25T17:21:53.190342",
     "exception": false,
     "start_time": "2024-08-25T17:21:46.069259",
     "status": "completed"
    },
    "tags": []
   },
   "outputs": [],
   "source": [
    "import numpy as np\n",
    "import pandas as pd\n",
    "import matplotlib.pyplot as plt\n",
    "from PIL import Image\n",
    "from glob import glob\n",
    " \n",
    "from sklearn.model_selection import train_test_split\n",
    "from sklearn import metrics\n",
    " \n",
    "import cv2\n",
    "import gc\n",
    "import os \n",
    "import time\n",
    "import torch\n",
    "import torch.nn as nn\n",
    "import torchvision\n",
    "import torchvision.transforms as transforms\n",
    "import warnings\n",
    "warnings.filterwarnings('ignore')\n"
   ]
  },
  {
   "cell_type": "code",
   "execution_count": 2,
   "id": "f1ea9008",
   "metadata": {
    "execution": {
     "iopub.execute_input": "2024-08-25T17:21:53.202365Z",
     "iopub.status.busy": "2024-08-25T17:21:53.201378Z",
     "iopub.status.idle": "2024-08-25T17:21:53.212422Z",
     "shell.execute_reply": "2024-08-25T17:21:53.211355Z"
    },
    "papermill": {
     "duration": 0.018695,
     "end_time": "2024-08-25T17:21:53.214370",
     "exception": false,
     "start_time": "2024-08-25T17:21:53.195675",
     "status": "completed"
    },
    "tags": []
   },
   "outputs": [
    {
     "name": "stdout",
     "output_type": "stream",
     "text": [
      "['lung_aca', 'lung_scc', 'lung_n']\n"
     ]
    }
   ],
   "source": [
    "dataset_path = '/kaggle/input/lung-and-colon-cancer-histopathological-images/lung_colon_image_set/lung_image_sets/'\n",
    "print(os.listdir(dataset_path))"
   ]
  },
  {
   "cell_type": "code",
   "execution_count": 3,
   "id": "5668d630",
   "metadata": {
    "execution": {
     "iopub.execute_input": "2024-08-25T17:21:53.225219Z",
     "iopub.status.busy": "2024-08-25T17:21:53.224977Z",
     "iopub.status.idle": "2024-08-25T17:21:53.231588Z",
     "shell.execute_reply": "2024-08-25T17:21:53.230588Z"
    },
    "papermill": {
     "duration": 0.014328,
     "end_time": "2024-08-25T17:21:53.233631",
     "exception": false,
     "start_time": "2024-08-25T17:21:53.219303",
     "status": "completed"
    },
    "tags": []
   },
   "outputs": [
    {
     "data": {
      "text/plain": [
       "['lung_aca', 'lung_scc', 'lung_n']"
      ]
     },
     "execution_count": 3,
     "metadata": {},
     "output_type": "execute_result"
    }
   ],
   "source": [
    "classes = os.listdir(dataset_path)\n",
    "classes"
   ]
  },
  {
   "cell_type": "code",
   "execution_count": 4,
   "id": "6eb978fe",
   "metadata": {
    "execution": {
     "iopub.execute_input": "2024-08-25T17:21:53.244893Z",
     "iopub.status.busy": "2024-08-25T17:21:53.244246Z",
     "iopub.status.idle": "2024-08-25T17:21:53.248675Z",
     "shell.execute_reply": "2024-08-25T17:21:53.247830Z"
    },
    "papermill": {
     "duration": 0.012062,
     "end_time": "2024-08-25T17:21:53.250623",
     "exception": false,
     "start_time": "2024-08-25T17:21:53.238561",
     "status": "completed"
    },
    "tags": []
   },
   "outputs": [],
   "source": [
    "IMG_SIZE = 256\n",
    "SPLIT = 0.2\n",
    "EPOCHS = 10\n",
    "BATCH_SIZE = 64\n",
    "learning_rate = 0.001\n",
    "num_epochs = 20\n",
    "NODE = np.int_(IMG_SIZE / 8)"
   ]
  },
  {
   "cell_type": "code",
   "execution_count": 5,
   "id": "f2640e6e",
   "metadata": {
    "execution": {
     "iopub.execute_input": "2024-08-25T17:21:53.262112Z",
     "iopub.status.busy": "2024-08-25T17:21:53.261472Z",
     "iopub.status.idle": "2024-08-25T17:21:58.943526Z",
     "shell.execute_reply": "2024-08-25T17:21:58.942640Z"
    },
    "papermill": {
     "duration": 5.689937,
     "end_time": "2024-08-25T17:21:58.945588",
     "exception": false,
     "start_time": "2024-08-25T17:21:53.255651",
     "status": "completed"
    },
    "scrolled": true,
    "tags": []
   },
   "outputs": [
    {
     "name": "stdout",
     "output_type": "stream",
     "text": [
      "12000\n",
      "torch.Size([3, 256, 256])\n"
     ]
    }
   ],
   "source": [
    "from torchvision import datasets\n",
    "from torch.utils.data import DataLoader\n",
    "\n",
    "# Define transformations (e.g., resizing, normalization)\n",
    "transform = transforms.Compose([\n",
    "    transforms.Resize((IMG_SIZE, IMG_SIZE)),  # Resize images to 224x224\n",
    "    transforms.ToTensor(),  # Convert PIL image to tensor\n",
    "    transforms.Normalize(mean=[0.485, 0.456, 0.406], std=[0.229, 0.224, 0.225])  # Normalize\n",
    "])\n",
    "\n",
    "# Load dataset from local directory\n",
    "data_dir = 'C:/Users/abdun/Lung_cancer/lung_colon_image_set/lung_image_sets'\n",
    "dataset = datasets.ImageFolder(root=dataset_path, transform=transform)\n",
    "\n",
    "# Create DataLoader\n",
    "#dataloader = DataLoader(dataset, batch_size=32, shuffle=True)\n",
    "# Load dataset\n",
    "\n",
    "\n",
    "generator1 = torch.Generator().manual_seed(42)\n",
    "train_set, val_set = torch.utils.data.random_split(dataset, [0.8, 0.2], generator=generator1 )\n",
    "\n",
    "# Create DataLoader\n",
    "train_loader = DataLoader(train_set, batch_size=BATCH_SIZE, shuffle=True, num_workers=8, pin_memory=True)\n",
    "test_loader = DataLoader(val_set, batch_size=BATCH_SIZE, shuffle=True,)\n",
    "\n",
    "print(len(train_set))\n",
    "img, label = dataset[10]\n",
    "print(img.shape)\n"
   ]
  },
  {
   "cell_type": "code",
   "execution_count": 6,
   "id": "ebd92593",
   "metadata": {
    "execution": {
     "iopub.execute_input": "2024-08-25T17:21:58.957446Z",
     "iopub.status.busy": "2024-08-25T17:21:58.957180Z",
     "iopub.status.idle": "2024-08-25T17:21:59.020278Z",
     "shell.execute_reply": "2024-08-25T17:21:59.019301Z"
    },
    "papermill": {
     "duration": 0.071289,
     "end_time": "2024-08-25T17:21:59.022229",
     "exception": false,
     "start_time": "2024-08-25T17:21:58.950940",
     "status": "completed"
    },
    "tags": []
   },
   "outputs": [],
   "source": [
    "device = torch.device('cuda' if torch.cuda.is_available() else 'cpu')"
   ]
  },
  {
   "cell_type": "code",
   "execution_count": 7,
   "id": "0684e033",
   "metadata": {
    "execution": {
     "iopub.execute_input": "2024-08-25T17:21:59.033961Z",
     "iopub.status.busy": "2024-08-25T17:21:59.033441Z",
     "iopub.status.idle": "2024-08-25T17:21:59.043486Z",
     "shell.execute_reply": "2024-08-25T17:21:59.042721Z"
    },
    "papermill": {
     "duration": 0.01792,
     "end_time": "2024-08-25T17:21:59.045334",
     "exception": false,
     "start_time": "2024-08-25T17:21:59.027414",
     "status": "completed"
    },
    "tags": []
   },
   "outputs": [],
   "source": [
    "# Creating a CNN class\n",
    "class NetResNet(nn.Module):\n",
    "  def __init__(self, n_chanl = 32):\n",
    "    super().__init__()\n",
    "    self.conv1 = nn.Conv2d(3, n_chanl, kernel_size=3, padding=1)\n",
    "    self.act1 = nn.Tanh()\n",
    "    self.pool1 = nn.MaxPool2d(2)\n",
    "    self.conv2 = nn.Conv2d(n_chanl, n_chanl // 2, kernel_size=3, padding=1)\n",
    "    self.act2 = nn.Tanh()\n",
    "    self.conv3 = nn.Conv2d(n_chanl // 2, n_chanl // 2, kernel_size=3, padding=1)\n",
    "    self.pool2 = nn.MaxPool2d(2)\n",
    "    self.fc1 = nn.Linear(n_chanl * NODE * NODE // 2, 64) # NODE is (IMG_SIZE)devided by (2*2) from the max pool.\n",
    "    self.act3 = nn.ReLU()\n",
    "    self.fc3 = nn.Linear(64, 64)\n",
    "    self.fc4 = nn.Linear(64, 32)\n",
    "    self.fc2 = nn.Linear(32, 3)\n",
    "  def forward(self, x):\n",
    "    out = self.pool1(self.act3(self.conv1(x)))\n",
    "    out = self.pool2(self.act3(self.conv2(out)))\n",
    "    out1 = out\n",
    "    out = self.pool2(self.act3(self.conv3(out)) + out1)\n",
    "    out = out.view(out.size(0), -1)\n",
    "    out = self.act3(self.fc1(out))\n",
    "    out = self.act3(self.fc3(out))\n",
    "    out = self.act3(self.fc4(out))\n",
    "    out = self.fc2(out)\n",
    "    return out\n"
   ]
  },
  {
   "cell_type": "code",
   "execution_count": 8,
   "id": "9bf884d7",
   "metadata": {
    "execution": {
     "iopub.execute_input": "2024-08-25T17:21:59.056432Z",
     "iopub.status.busy": "2024-08-25T17:21:59.056175Z",
     "iopub.status.idle": "2024-08-25T17:21:59.225198Z",
     "shell.execute_reply": "2024-08-25T17:21:59.224438Z"
    },
    "papermill": {
     "duration": 0.177246,
     "end_time": "2024-08-25T17:21:59.227553",
     "exception": false,
     "start_time": "2024-08-25T17:21:59.050307",
     "status": "completed"
    },
    "tags": []
   },
   "outputs": [],
   "source": [
    "model = NetResNet()\n",
    "model = nn.DataParallel(model)\n",
    "model = model.to(device=device)\n",
    "\n",
    "# Set Loss function with criterion\n",
    "loss_fn = nn.CrossEntropyLoss()\n",
    "\n",
    "# Set optimizer with optimizer\n",
    "optimizer = torch.optim.SGD(model.parameters(), lr=learning_rate, weight_decay = 0.01, momentum = 0.5)  \n",
    "\n",
    "total_step = len(train_loader)"
   ]
  },
  {
   "cell_type": "code",
   "execution_count": 9,
   "id": "0abb230d",
   "metadata": {
    "execution": {
     "iopub.execute_input": "2024-08-25T17:21:59.239378Z",
     "iopub.status.busy": "2024-08-25T17:21:59.239081Z",
     "iopub.status.idle": "2024-08-25T17:21:59.243359Z",
     "shell.execute_reply": "2024-08-25T17:21:59.242442Z"
    },
    "papermill": {
     "duration": 0.012321,
     "end_time": "2024-08-25T17:21:59.245241",
     "exception": false,
     "start_time": "2024-08-25T17:21:59.232920",
     "status": "completed"
    },
    "tags": []
   },
   "outputs": [],
   "source": [
    "epoch_list = []\n",
    "time_list = []\n",
    "train_lost_list = []\n",
    "train_acc_list = []\n",
    "val_acc_list =[]"
   ]
  },
  {
   "cell_type": "code",
   "execution_count": 10,
   "id": "a64fcbd2",
   "metadata": {
    "execution": {
     "iopub.execute_input": "2024-08-25T17:21:59.257282Z",
     "iopub.status.busy": "2024-08-25T17:21:59.256659Z",
     "iopub.status.idle": "2024-08-25T17:21:59.265692Z",
     "shell.execute_reply": "2024-08-25T17:21:59.264813Z"
    },
    "papermill": {
     "duration": 0.017236,
     "end_time": "2024-08-25T17:21:59.267631",
     "exception": false,
     "start_time": "2024-08-25T17:21:59.250395",
     "status": "completed"
    },
    "tags": []
   },
   "outputs": [],
   "source": [
    "start_time = time.time()\n",
    "def training_loop(n_epochs, optimizer, model, loss_fn, train_loader, inter_test, dump_csv):\n",
    "   \n",
    "  model.train()\n",
    "  for epoch in range(1, n_epochs + 1):\n",
    "      loss_train = 0.0\n",
    "      for imgs, labels in train_loader:\n",
    "            imgs = imgs.to(device=device)\n",
    "            labels = labels.to(device=device)\n",
    "            #model = model.to(device=device)\n",
    "            outputs = model(imgs)\n",
    "            loss = loss_fn(outputs, labels)\n",
    "            optimizer.zero_grad()\n",
    "            loss.backward()\n",
    "            optimizer.step()\n",
    "            loss_train += loss.item()\n",
    "\n",
    "      epoch_time = time.time() - start_time\n",
    "      epoch_time = f\"{epoch_time:.2f}\"\n",
    "      if epoch == 1 or epoch  != 0:\n",
    "         print('{} Epoch {}, Training loss {}'.format(\n",
    "             epoch_time, epoch,\n",
    "             loss_train / len(train_loader)))\n",
    "      if(inter_test == 1 or epoch > 20 or epoch % 5 ==0):  \n",
    "        acc_train, acc_val = validate(model, train_loader, test_loader)\n",
    "      if(dump_csv == 1):\n",
    "        epoch_list.append(epoch)\n",
    "        time_list.append(epoch_time)\n",
    "        train_lost_list.append(loss_train / len(train_loader))\n",
    "        train_acc_list.append(acc_train)\n",
    "        val_acc_list.append(acc_val)\n",
    "\n",
    "\n",
    "            \n",
    "            \n",
    "\n",
    "\n",
    "\n",
    "            \n",
    "            \n"
   ]
  },
  {
   "cell_type": "code",
   "execution_count": 11,
   "id": "c15448e2",
   "metadata": {
    "execution": {
     "iopub.execute_input": "2024-08-25T17:21:59.278828Z",
     "iopub.status.busy": "2024-08-25T17:21:59.278558Z",
     "iopub.status.idle": "2024-08-25T17:21:59.285785Z",
     "shell.execute_reply": "2024-08-25T17:21:59.284970Z"
    },
    "papermill": {
     "duration": 0.014998,
     "end_time": "2024-08-25T17:21:59.287677",
     "exception": false,
     "start_time": "2024-08-25T17:21:59.272679",
     "status": "completed"
    },
    "tags": []
   },
   "outputs": [],
   "source": [
    "def validate(model, train_loader, val_loader):\n",
    "     model.eval()\n",
    "     for name, loader in [(\"train\", train_loader), (\"val\", val_loader)]:\n",
    "             correct = 0\n",
    "             total = 0\n",
    "             with torch.no_grad():\n",
    "                for imgs, labels in loader:\n",
    "                    imgs = imgs.to(device=device)\n",
    "                    labels = labels.to(device=device)\n",
    "                    model = model.to(device=device)\n",
    "                    outputs = model(imgs)\n",
    "                    _, predicted = torch.max(outputs, dim=1)\n",
    "                    total += labels.shape[0]\n",
    "                    correct += int((predicted == labels).sum())\n",
    "\n",
    "             print(\"Accuracy {}: {:.2f}\".format(name , correct / total))\n",
    "             if(name == \"train\"):\n",
    "                acc_train = correct / total\n",
    "             if(name == \"val\"):\n",
    "                acc_val = correct / total\n",
    "     return f\"{acc_train:.2f}\", f\"{acc_val:.2f}\" \n",
    "\n"
   ]
  },
  {
   "cell_type": "code",
   "execution_count": 12,
   "id": "4667a8b9",
   "metadata": {
    "execution": {
     "iopub.execute_input": "2024-08-25T17:21:59.298940Z",
     "iopub.status.busy": "2024-08-25T17:21:59.298678Z",
     "iopub.status.idle": "2024-08-25T18:40:34.647206Z",
     "shell.execute_reply": "2024-08-25T18:40:34.646018Z"
    },
    "papermill": {
     "duration": 4715.356578,
     "end_time": "2024-08-25T18:40:34.649394",
     "exception": false,
     "start_time": "2024-08-25T17:21:59.292816",
     "status": "completed"
    },
    "tags": []
   },
   "outputs": [
    {
     "name": "stdout",
     "output_type": "stream",
     "text": [
      "47.67 Epoch 1, Training loss 1.0926143742622214\n",
      "Accuracy train: 0.33\n",
      "Accuracy val: 0.33\n",
      "176.14 Epoch 2, Training loss 0.9958595516199761\n",
      "Accuracy train: 0.64\n",
      "Accuracy val: 0.62\n",
      "292.87 Epoch 3, Training loss 0.5879904654748896\n",
      "Accuracy train: 0.75\n",
      "Accuracy val: 0.74\n",
      "408.80 Epoch 4, Training loss 0.47310502177223246\n",
      "Accuracy train: 0.76\n",
      "Accuracy val: 0.76\n",
      "525.71 Epoch 5, Training loss 0.4384860543811575\n",
      "Accuracy train: 0.80\n",
      "Accuracy val: 0.79\n",
      "643.46 Epoch 6, Training loss 0.40967375285764956\n",
      "Accuracy train: 0.83\n",
      "Accuracy val: 0.82\n",
      "761.31 Epoch 7, Training loss 0.38741444067118014\n",
      "Accuracy train: 0.78\n",
      "Accuracy val: 0.79\n",
      "878.78 Epoch 8, Training loss 0.3629462367835197\n",
      "Accuracy train: 0.83\n",
      "Accuracy val: 0.83\n",
      "994.34 Epoch 9, Training loss 0.3419015374272428\n",
      "Accuracy train: 0.87\n",
      "Accuracy val: 0.87\n",
      "1109.85 Epoch 10, Training loss 0.3317117151269253\n",
      "Accuracy train: 0.88\n",
      "Accuracy val: 0.87\n",
      "1226.21 Epoch 11, Training loss 0.313172745340048\n",
      "Accuracy train: 0.85\n",
      "Accuracy val: 0.84\n",
      "1343.20 Epoch 12, Training loss 0.3110471115784442\n",
      "Accuracy train: 0.86\n",
      "Accuracy val: 0.85\n",
      "1461.27 Epoch 13, Training loss 0.30089894515719817\n",
      "Accuracy train: 0.86\n",
      "Accuracy val: 0.85\n",
      "1578.58 Epoch 14, Training loss 0.292363277775176\n",
      "Accuracy train: 0.87\n",
      "Accuracy val: 0.86\n",
      "1696.85 Epoch 15, Training loss 0.2834798309238667\n",
      "Accuracy train: 0.87\n",
      "Accuracy val: 0.86\n",
      "1812.47 Epoch 16, Training loss 0.2807613341732228\n",
      "Accuracy train: 0.90\n",
      "Accuracy val: 0.89\n",
      "1930.14 Epoch 17, Training loss 0.2729916288814646\n",
      "Accuracy train: 0.90\n",
      "Accuracy val: 0.88\n",
      "2047.78 Epoch 18, Training loss 0.2678899162230974\n",
      "Accuracy train: 0.87\n",
      "Accuracy val: 0.87\n",
      "2166.42 Epoch 19, Training loss 0.2629388304466897\n",
      "Accuracy train: 0.87\n",
      "Accuracy val: 0.86\n",
      "2285.10 Epoch 20, Training loss 0.25772468373179436\n",
      "Accuracy train: 0.88\n",
      "Accuracy val: 0.87\n",
      "2403.69 Epoch 21, Training loss 0.24872757343852775\n",
      "Accuracy train: 0.91\n",
      "Accuracy val: 0.90\n",
      "2524.05 Epoch 22, Training loss 0.24448506082309054\n",
      "Accuracy train: 0.89\n",
      "Accuracy val: 0.88\n",
      "2642.52 Epoch 23, Training loss 0.23893196789666693\n",
      "Accuracy train: 0.91\n",
      "Accuracy val: 0.90\n",
      "2757.50 Epoch 24, Training loss 0.23435368543451138\n",
      "Accuracy train: 0.92\n",
      "Accuracy val: 0.90\n",
      "2873.48 Epoch 25, Training loss 0.23325114114645948\n",
      "Accuracy train: 0.91\n",
      "Accuracy val: 0.90\n",
      "2990.90 Epoch 26, Training loss 0.22373570394801331\n",
      "Accuracy train: 0.92\n",
      "Accuracy val: 0.90\n",
      "3106.63 Epoch 27, Training loss 0.21976409230301988\n",
      "Accuracy train: 0.92\n",
      "Accuracy val: 0.91\n",
      "3225.14 Epoch 28, Training loss 0.2185072170055293\n",
      "Accuracy train: 0.91\n",
      "Accuracy val: 0.90\n",
      "3345.08 Epoch 29, Training loss 0.2133747250475782\n",
      "Accuracy train: 0.88\n",
      "Accuracy val: 0.88\n",
      "3466.02 Epoch 30, Training loss 0.21267674427400243\n",
      "Accuracy train: 0.93\n",
      "Accuracy val: 0.91\n",
      "3585.67 Epoch 31, Training loss 0.2078036171919171\n",
      "Accuracy train: 0.92\n",
      "Accuracy val: 0.90\n",
      "3704.09 Epoch 32, Training loss 0.20407067790151912\n",
      "Accuracy train: 0.92\n",
      "Accuracy val: 0.91\n",
      "3822.03 Epoch 33, Training loss 0.19847715889757617\n",
      "Accuracy train: 0.90\n",
      "Accuracy val: 0.89\n",
      "3938.85 Epoch 34, Training loss 0.19803447625104417\n",
      "Accuracy train: 0.93\n",
      "Accuracy val: 0.91\n",
      "4057.17 Epoch 35, Training loss 0.19083743665288103\n",
      "Accuracy train: 0.93\n",
      "Accuracy val: 0.91\n",
      "4175.16 Epoch 36, Training loss 0.18831331128294163\n",
      "Accuracy train: 0.91\n",
      "Accuracy val: 0.90\n",
      "4292.14 Epoch 37, Training loss 0.18292180817336479\n",
      "Accuracy train: 0.92\n",
      "Accuracy val: 0.90\n",
      "4408.78 Epoch 38, Training loss 0.18089636446947746\n",
      "Accuracy train: 0.94\n",
      "Accuracy val: 0.92\n",
      "4527.63 Epoch 39, Training loss 0.17697611054841508\n",
      "Accuracy train: 0.92\n",
      "Accuracy val: 0.90\n",
      "4642.94 Epoch 40, Training loss 0.17708635387664778\n",
      "Accuracy train: 0.88\n",
      "Accuracy val: 0.87\n",
      "Training results successfully exported to csv\n"
     ]
    }
   ],
   "source": [
    "inter_test = 1\n",
    "dump_csv = 1\n",
    "training_loop(n_epochs = 40, optimizer = optimizer, model = model, loss_fn = loss_fn, train_loader = train_loader, \n",
    "                inter_test = inter_test, dump_csv = dump_csv)\n",
    "\n",
    "results = {\n",
    "    \"Epoch\": epoch_list,\n",
    "    \"Time\": time_list,\n",
    "    \"Train_Accuracy\": train_acc_list,\n",
    "    \"Val_Accuracy\":val_acc_list\n",
    "}\n",
    "\n",
    "df = pd.DataFrame(results)\n",
    "\n",
    "df.to_csv('/kaggle/working/Rsnt_results.csv', index=False)\n",
    "\n",
    "print(f\"Training results successfully exported to csv\")\n",
    "\n",
    "\n",
    "\n",
    "\n",
    " "
   ]
  },
  {
   "cell_type": "code",
   "execution_count": 13,
   "id": "440dce3f",
   "metadata": {
    "execution": {
     "iopub.execute_input": "2024-08-25T18:40:34.680171Z",
     "iopub.status.busy": "2024-08-25T18:40:34.679311Z",
     "iopub.status.idle": "2024-08-25T18:41:46.939934Z",
     "shell.execute_reply": "2024-08-25T18:41:46.939076Z"
    },
    "papermill": {
     "duration": 72.278137,
     "end_time": "2024-08-25T18:41:46.942077",
     "exception": false,
     "start_time": "2024-08-25T18:40:34.663940",
     "status": "completed"
    },
    "tags": []
   },
   "outputs": [
    {
     "name": "stdout",
     "output_type": "stream",
     "text": [
      "Accuracy train: 0.88\n",
      "Accuracy val: 0.87\n"
     ]
    },
    {
     "data": {
      "text/plain": [
       "('0.88', '0.87')"
      ]
     },
     "execution_count": 13,
     "metadata": {},
     "output_type": "execute_result"
    }
   ],
   "source": [
    "validate(model, train_loader, test_loader)\n"
   ]
  },
  {
   "cell_type": "code",
   "execution_count": 14,
   "id": "9df08460",
   "metadata": {
    "execution": {
     "iopub.execute_input": "2024-08-25T18:41:46.973429Z",
     "iopub.status.busy": "2024-08-25T18:41:46.973100Z",
     "iopub.status.idle": "2024-08-25T18:41:46.977150Z",
     "shell.execute_reply": "2024-08-25T18:41:46.976349Z"
    },
    "papermill": {
     "duration": 0.021898,
     "end_time": "2024-08-25T18:41:46.979059",
     "exception": false,
     "start_time": "2024-08-25T18:41:46.957161",
     "status": "completed"
    },
    "tags": []
   },
   "outputs": [],
   "source": [
    "#Accuracy train: 0.91\n",
    "#Accuracy val: 0.89\n"
   ]
  },
  {
   "cell_type": "code",
   "execution_count": 15,
   "id": "94701ed8",
   "metadata": {
    "execution": {
     "iopub.execute_input": "2024-08-25T18:41:47.009098Z",
     "iopub.status.busy": "2024-08-25T18:41:47.008834Z",
     "iopub.status.idle": "2024-08-25T18:41:48.030221Z",
     "shell.execute_reply": "2024-08-25T18:41:48.029001Z"
    },
    "papermill": {
     "duration": 1.039004,
     "end_time": "2024-08-25T18:41:48.032655",
     "exception": false,
     "start_time": "2024-08-25T18:41:46.993651",
     "status": "completed"
    },
    "tags": []
   },
   "outputs": [
    {
     "name": "stdout",
     "output_type": "stream",
     "text": [
      "Architecture:                         x86_64\r\n",
      "CPU op-mode(s):                       32-bit, 64-bit\r\n",
      "Byte Order:                           Little Endian\r\n",
      "Address sizes:                        46 bits physical, 48 bits virtual\r\n",
      "CPU(s):                               4\r\n",
      "On-line CPU(s) list:                  0-3\r\n",
      "Thread(s) per core:                   2\r\n",
      "Core(s) per socket:                   2\r\n",
      "Socket(s):                            1\r\n",
      "NUMA node(s):                         1\r\n",
      "Vendor ID:                            GenuineIntel\r\n",
      "CPU family:                           6\r\n",
      "Model:                                85\r\n",
      "Model name:                           Intel(R) Xeon(R) CPU @ 2.00GHz\r\n",
      "Stepping:                             3\r\n",
      "CPU MHz:                              2000.186\r\n",
      "BogoMIPS:                             4000.37\r\n",
      "Hypervisor vendor:                    KVM\r\n",
      "Virtualization type:                  full\r\n",
      "L1d cache:                            64 KiB\r\n",
      "L1i cache:                            64 KiB\r\n",
      "L2 cache:                             2 MiB\r\n",
      "L3 cache:                             38.5 MiB\r\n",
      "NUMA node0 CPU(s):                    0-3\r\n",
      "Vulnerability Gather data sampling:   Not affected\r\n",
      "Vulnerability Itlb multihit:          Not affected\r\n",
      "Vulnerability L1tf:                   Mitigation; PTE Inversion\r\n",
      "Vulnerability Mds:                    Mitigation; Clear CPU buffers; SMT Host st\r\n",
      "                                      ate unknown\r\n",
      "Vulnerability Meltdown:               Mitigation; PTI\r\n",
      "Vulnerability Mmio stale data:        Vulnerable: Clear CPU buffers attempted, n\r\n",
      "                                      o microcode; SMT Host state unknown\r\n",
      "Vulnerability Reg file data sampling: Not affected\r\n",
      "Vulnerability Retbleed:               Mitigation; IBRS\r\n",
      "Vulnerability Spec rstack overflow:   Not affected\r\n",
      "Vulnerability Spec store bypass:      Mitigation; Speculative Store Bypass disab\r\n",
      "                                      led via prctl and seccomp\r\n",
      "Vulnerability Spectre v1:             Mitigation; usercopy/swapgs barriers and _\r\n",
      "                                      _user pointer sanitization\r\n",
      "Vulnerability Spectre v2:             Mitigation; IBRS; IBPB conditional; STIBP \r\n",
      "                                      conditional; RSB filling; PBRSB-eIBRS Not \r\n",
      "                                      affected; BHI SW loop, KVM SW loop\r\n",
      "Vulnerability Srbds:                  Not affected\r\n",
      "Vulnerability Tsx async abort:        Mitigation; Clear CPU buffers; SMT Host st\r\n",
      "                                      ate unknown\r\n",
      "Flags:                                fpu vme de pse tsc msr pae mce cx8 apic se\r\n",
      "                                      p mtrr pge mca cmov pat pse36 clflush mmx \r\n",
      "                                      fxsr sse sse2 ss ht syscall nx pdpe1gb rdt\r\n",
      "                                      scp lm constant_tsc rep_good nopl xtopolog\r\n",
      "                                      y nonstop_tsc cpuid tsc_known_freq pni pcl\r\n",
      "                                      mulqdq ssse3 fma cx16 pcid sse4_1 sse4_2 x\r\n",
      "                                      2apic movbe popcnt aes xsave avx f16c rdra\r\n",
      "                                      nd hypervisor lahf_lm abm 3dnowprefetch in\r\n",
      "                                      vpcid_single pti ssbd ibrs ibpb stibp fsgs\r\n",
      "                                      base tsc_adjust bmi1 hle avx2 smep bmi2 er\r\n",
      "                                      ms invpcid rtm mpx avx512f avx512dq rdseed\r\n",
      "                                       adx smap clflushopt clwb avx512cd avx512b\r\n",
      "                                      w avx512vl xsaveopt xsavec xgetbv1 xsaves \r\n",
      "                                      arat md_clear arch_capabilities\r\n"
     ]
    }
   ],
   "source": [
    "!lscpu"
   ]
  },
  {
   "cell_type": "code",
   "execution_count": 16,
   "id": "5ea04c20",
   "metadata": {
    "execution": {
     "iopub.execute_input": "2024-08-25T18:41:48.064830Z",
     "iopub.status.busy": "2024-08-25T18:41:48.064441Z",
     "iopub.status.idle": "2024-08-25T18:41:48.069073Z",
     "shell.execute_reply": "2024-08-25T18:41:48.068205Z"
    },
    "papermill": {
     "duration": 0.023307,
     "end_time": "2024-08-25T18:41:48.071152",
     "exception": false,
     "start_time": "2024-08-25T18:41:48.047845",
     "status": "completed"
    },
    "tags": []
   },
   "outputs": [],
   "source": [
    "#torch.save(model.state_dict(), data_dir + 'Lung_cancer.pt')\n"
   ]
  }
 ],
 "metadata": {
  "kaggle": {
   "accelerator": "gpu",
   "dataSources": [
    {
     "datasetId": 601280,
     "sourceId": 1079953,
     "sourceType": "datasetVersion"
    }
   ],
   "dockerImageVersionId": 30747,
   "isGpuEnabled": true,
   "isInternetEnabled": false,
   "language": "python",
   "sourceType": "notebook"
  },
  "kernelspec": {
   "display_name": "Python 3",
   "language": "python",
   "name": "python3"
  },
  "language_info": {
   "codemirror_mode": {
    "name": "ipython",
    "version": 3
   },
   "file_extension": ".py",
   "mimetype": "text/x-python",
   "name": "python",
   "nbconvert_exporter": "python",
   "pygments_lexer": "ipython3",
   "version": "3.10.13"
  },
  "papermill": {
   "default_parameters": {},
   "duration": 4807.478675,
   "end_time": "2024-08-25T18:41:50.790674",
   "environment_variables": {},
   "exception": null,
   "input_path": "__notebook__.ipynb",
   "output_path": "__notebook__.ipynb",
   "parameters": {},
   "start_time": "2024-08-25T17:21:43.311999",
   "version": "2.5.0"
  }
 },
 "nbformat": 4,
 "nbformat_minor": 5
}
