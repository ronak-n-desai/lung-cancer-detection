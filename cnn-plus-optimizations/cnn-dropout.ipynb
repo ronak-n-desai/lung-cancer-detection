{
 "cells": [
  {
   "cell_type": "code",
   "execution_count": 1,
   "id": "027f92ba",
   "metadata": {
    "execution": {
     "iopub.execute_input": "2024-08-25T15:45:41.452668Z",
     "iopub.status.busy": "2024-08-25T15:45:41.452108Z",
     "iopub.status.idle": "2024-08-25T15:45:48.771945Z",
     "shell.execute_reply": "2024-08-25T15:45:48.771149Z"
    },
    "papermill": {
     "duration": 7.329305,
     "end_time": "2024-08-25T15:45:48.774261",
     "exception": false,
     "start_time": "2024-08-25T15:45:41.444956",
     "status": "completed"
    },
    "tags": []
   },
   "outputs": [],
   "source": [
    "import numpy as np\n",
    "import pandas as pd\n",
    "import matplotlib.pyplot as plt\n",
    "from PIL import Image\n",
    "from glob import glob\n",
    " \n",
    "from sklearn.model_selection import train_test_split\n",
    "from sklearn import metrics\n",
    " \n",
    "import cv2\n",
    "import gc\n",
    "import os \n",
    "import time\n",
    "import torch\n",
    "import torch.nn as nn\n",
    "import torchvision\n",
    "import torchvision.transforms as transforms\n",
    "import warnings\n",
    "warnings.filterwarnings('ignore')\n"
   ]
  },
  {
   "cell_type": "code",
   "execution_count": 2,
   "id": "6991d12f",
   "metadata": {
    "execution": {
     "iopub.execute_input": "2024-08-25T15:45:48.786390Z",
     "iopub.status.busy": "2024-08-25T15:45:48.785799Z",
     "iopub.status.idle": "2024-08-25T15:45:48.795935Z",
     "shell.execute_reply": "2024-08-25T15:45:48.794870Z"
    },
    "papermill": {
     "duration": 0.017923,
     "end_time": "2024-08-25T15:45:48.797866",
     "exception": false,
     "start_time": "2024-08-25T15:45:48.779943",
     "status": "completed"
    },
    "tags": []
   },
   "outputs": [
    {
     "name": "stdout",
     "output_type": "stream",
     "text": [
      "['lung_aca', 'lung_scc', 'lung_n']\n"
     ]
    }
   ],
   "source": [
    "dataset_path = '/kaggle/input/lung-and-colon-cancer-histopathological-images/lung_colon_image_set/lung_image_sets/'\n",
    "print(os.listdir(dataset_path))"
   ]
  },
  {
   "cell_type": "code",
   "execution_count": 3,
   "id": "39c35f53",
   "metadata": {
    "execution": {
     "iopub.execute_input": "2024-08-25T15:45:48.809349Z",
     "iopub.status.busy": "2024-08-25T15:45:48.809033Z",
     "iopub.status.idle": "2024-08-25T15:45:48.815574Z",
     "shell.execute_reply": "2024-08-25T15:45:48.814767Z"
    },
    "papermill": {
     "duration": 0.014264,
     "end_time": "2024-08-25T15:45:48.817405",
     "exception": false,
     "start_time": "2024-08-25T15:45:48.803141",
     "status": "completed"
    },
    "tags": []
   },
   "outputs": [
    {
     "data": {
      "text/plain": [
       "['lung_aca', 'lung_scc', 'lung_n']"
      ]
     },
     "execution_count": 3,
     "metadata": {},
     "output_type": "execute_result"
    }
   ],
   "source": [
    "classes = os.listdir(dataset_path)\n",
    "classes"
   ]
  },
  {
   "cell_type": "code",
   "execution_count": 4,
   "id": "05fbd260",
   "metadata": {
    "execution": {
     "iopub.execute_input": "2024-08-25T15:45:48.829152Z",
     "iopub.status.busy": "2024-08-25T15:45:48.828902Z",
     "iopub.status.idle": "2024-08-25T15:45:48.833474Z",
     "shell.execute_reply": "2024-08-25T15:45:48.832570Z"
    },
    "papermill": {
     "duration": 0.01235,
     "end_time": "2024-08-25T15:45:48.835247",
     "exception": false,
     "start_time": "2024-08-25T15:45:48.822897",
     "status": "completed"
    },
    "tags": []
   },
   "outputs": [],
   "source": [
    "IMG_SIZE = 256\n",
    "SPLIT = 0.2\n",
    "EPOCHS = 10\n",
    "BATCH_SIZE = 64\n",
    "learning_rate = 0.005\n",
    "num_epochs = 20\n",
    "NODE = np.int_(IMG_SIZE / 4)"
   ]
  },
  {
   "cell_type": "code",
   "execution_count": 5,
   "id": "46f9052d",
   "metadata": {
    "execution": {
     "iopub.execute_input": "2024-08-25T15:45:48.847187Z",
     "iopub.status.busy": "2024-08-25T15:45:48.846928Z",
     "iopub.status.idle": "2024-08-25T15:45:58.237787Z",
     "shell.execute_reply": "2024-08-25T15:45:58.236827Z"
    },
    "papermill": {
     "duration": 9.399352,
     "end_time": "2024-08-25T15:45:58.240067",
     "exception": false,
     "start_time": "2024-08-25T15:45:48.840715",
     "status": "completed"
    },
    "scrolled": true,
    "tags": []
   },
   "outputs": [
    {
     "name": "stdout",
     "output_type": "stream",
     "text": [
      "12000\n",
      "torch.Size([3, 256, 256])\n"
     ]
    }
   ],
   "source": [
    "from torchvision import datasets\n",
    "from torch.utils.data import DataLoader\n",
    "\n",
    "# Define transformations (e.g., resizing, normalization)\n",
    "transform = transforms.Compose([\n",
    "    transforms.Resize((IMG_SIZE, IMG_SIZE)),  # Resize images to 224x224\n",
    "    transforms.ToTensor(),  # Convert PIL image to tensor\n",
    "    transforms.Normalize(mean=[0.485, 0.456, 0.406], std=[0.229, 0.224, 0.225])  # Normalize\n",
    "])\n",
    "\n",
    "# Load dataset from local directory\n",
    "data_dir = 'C:/Users/abdun/Lung_cancer/lung_colon_image_set/lung_image_sets'\n",
    "dataset = datasets.ImageFolder(root=dataset_path, transform=transform)\n",
    "\n",
    "# Create DataLoader\n",
    "#dataloader = DataLoader(dataset, batch_size=32, shuffle=True)\n",
    "# Load dataset\n",
    "\n",
    "\n",
    "generator1 = torch.Generator().manual_seed(42)\n",
    "train_set, val_set = torch.utils.data.random_split(dataset, [0.8, 0.2], generator=generator1 )\n",
    "\n",
    "# Create DataLoader\n",
    "train_loader = DataLoader(train_set, batch_size=BATCH_SIZE, shuffle=True, num_workers=8, pin_memory=True)\n",
    "test_loader = DataLoader(val_set, batch_size=BATCH_SIZE, shuffle=True,)\n",
    "\n",
    "print(len(train_set))\n",
    "img, label = dataset[10]\n",
    "print(img.shape)\n"
   ]
  },
  {
   "cell_type": "code",
   "execution_count": 6,
   "id": "fcdbec76",
   "metadata": {
    "execution": {
     "iopub.execute_input": "2024-08-25T15:45:58.253553Z",
     "iopub.status.busy": "2024-08-25T15:45:58.253027Z",
     "iopub.status.idle": "2024-08-25T15:45:58.318392Z",
     "shell.execute_reply": "2024-08-25T15:45:58.317452Z"
    },
    "papermill": {
     "duration": 0.074106,
     "end_time": "2024-08-25T15:45:58.320546",
     "exception": false,
     "start_time": "2024-08-25T15:45:58.246440",
     "status": "completed"
    },
    "tags": []
   },
   "outputs": [],
   "source": [
    "device = torch.device('cuda' if torch.cuda.is_available() else 'cpu')"
   ]
  },
  {
   "cell_type": "code",
   "execution_count": 7,
   "id": "c2d86f9b",
   "metadata": {
    "execution": {
     "iopub.execute_input": "2024-08-25T15:45:58.333711Z",
     "iopub.status.busy": "2024-08-25T15:45:58.333005Z",
     "iopub.status.idle": "2024-08-25T15:45:58.342336Z",
     "shell.execute_reply": "2024-08-25T15:45:58.341547Z"
    },
    "papermill": {
     "duration": 0.017955,
     "end_time": "2024-08-25T15:45:58.344174",
     "exception": false,
     "start_time": "2024-08-25T15:45:58.326219",
     "status": "completed"
    },
    "tags": []
   },
   "outputs": [],
   "source": [
    "# Creating a CNN class\n",
    "class Net(nn.Module):\n",
    "  def __init__(self):\n",
    "    super().__init__()\n",
    "    self.conv1 = nn.Conv2d(3, 16, kernel_size=3, padding=1)\n",
    "    self.act1 = nn.Tanh()\n",
    "    self.pool1 = nn.MaxPool2d(2)\n",
    "    self.conv2 = nn.Conv2d(16, 8, kernel_size=3, padding=1)\n",
    "    self.act2 = nn.Tanh()\n",
    "    self.pool2 = nn.MaxPool2d(2)\n",
    "    self.fc1 = nn.Linear(8 * NODE * NODE, 64) # NODE is (IMG_SIZE)devided by (2*2) from the max pool.\n",
    "    self.act3 = nn.ReLU()\n",
    "    self.fc3 = nn.Linear(64, 64)\n",
    "    self.fc4 = nn.Linear(64, 32)\n",
    "    self.fc2 = nn.Linear(32, 3)\n",
    "  def forward(self, x):\n",
    "    out = self.pool1(self.act3(self.conv1(x)))\n",
    "    out = self.pool2(self.act3(self.conv2(out)))\n",
    "    out = out.view(out.size(0), -1)\n",
    "    out = self.act3(self.fc1(out))\n",
    "    out = self.act3(self.fc3(out))\n",
    "    out = self.act3(self.fc4(out))\n",
    "    out = self.fc2(out)\n",
    "    return out\n"
   ]
  },
  {
   "cell_type": "code",
   "execution_count": 8,
   "id": "a087dbfe",
   "metadata": {
    "execution": {
     "iopub.execute_input": "2024-08-25T15:45:58.355926Z",
     "iopub.status.busy": "2024-08-25T15:45:58.355670Z",
     "iopub.status.idle": "2024-08-25T15:45:58.365810Z",
     "shell.execute_reply": "2024-08-25T15:45:58.365056Z"
    },
    "papermill": {
     "duration": 0.018126,
     "end_time": "2024-08-25T15:45:58.367614",
     "exception": false,
     "start_time": "2024-08-25T15:45:58.349488",
     "status": "completed"
    },
    "tags": []
   },
   "outputs": [],
   "source": [
    "# Creating a CNN class\n",
    "class NetDropout(nn.Module):\n",
    "  def __init__(self, n_chanl = 32):\n",
    "    super().__init__()\n",
    "    self.conv1 = nn.Conv2d(3, n_chanl, kernel_size=3, padding=1)\n",
    "    self.conv1_dropout = nn.Dropout2d(p=0.4)\n",
    "    self.act1 = nn.Tanh()\n",
    "    self.pool1 = nn.MaxPool2d(2)\n",
    "    self.conv2 = nn.Conv2d(n_chanl, n_chanl // 2, kernel_size=3, padding=1)\n",
    "    self.conv2_dropout = nn.Dropout2d(p=0.4)\n",
    "    self.act2 = nn.Tanh()\n",
    "    self.pool2 = nn.MaxPool2d(2)\n",
    "    self.fc1 = nn.Linear(n_chanl * NODE * NODE // 2, 64) # NODE is (IMG_SIZE)devided by (2*2) from the max pool.\n",
    "    self.act3 = nn.ReLU()\n",
    "    self.fc3 = nn.Linear(64, 64)\n",
    "    self.fc4 = nn.Linear(64, 32)\n",
    "    self.fc2 = nn.Linear(32, 3)\n",
    "  def forward(self, x):\n",
    "    out = self.pool1(self.act3(self.conv1(x)))\n",
    "    out = self.conv1_dropout(out)\n",
    "    out = self.pool2(self.act3(self.conv2(out)))\n",
    "    out = self.conv2_dropout(out)\n",
    "    out = out.view(out.size(0), -1)\n",
    "    out = self.act3(self.fc1(out))\n",
    "    out = self.act3(self.fc3(out))\n",
    "    out = self.act3(self.fc4(out))\n",
    "    out = self.fc2(out)\n",
    "    return out\n"
   ]
  },
  {
   "cell_type": "code",
   "execution_count": 9,
   "id": "12f9cf16",
   "metadata": {
    "execution": {
     "iopub.execute_input": "2024-08-25T15:45:58.380791Z",
     "iopub.status.busy": "2024-08-25T15:45:58.380513Z",
     "iopub.status.idle": "2024-08-25T15:45:58.583447Z",
     "shell.execute_reply": "2024-08-25T15:45:58.582672Z"
    },
    "papermill": {
     "duration": 0.212541,
     "end_time": "2024-08-25T15:45:58.585801",
     "exception": false,
     "start_time": "2024-08-25T15:45:58.373260",
     "status": "completed"
    },
    "tags": []
   },
   "outputs": [],
   "source": [
    "model = NetDropout()\n",
    "model = nn.DataParallel(model)\n",
    "model = model.to(device=device)\n",
    "\n",
    "# Set Loss function with criterion\n",
    "loss_fn = nn.CrossEntropyLoss()\n",
    "\n",
    "# Set optimizer with optimizer\n",
    "optimizer = torch.optim.SGD(model.parameters(), lr=learning_rate, weight_decay = 0.01, momentum = 0.5)  \n",
    "\n",
    "total_step = len(train_loader)"
   ]
  },
  {
   "cell_type": "code",
   "execution_count": 10,
   "id": "d82c97ce",
   "metadata": {
    "execution": {
     "iopub.execute_input": "2024-08-25T15:45:58.597846Z",
     "iopub.status.busy": "2024-08-25T15:45:58.597572Z",
     "iopub.status.idle": "2024-08-25T15:45:58.601806Z",
     "shell.execute_reply": "2024-08-25T15:45:58.601051Z"
    },
    "papermill": {
     "duration": 0.012197,
     "end_time": "2024-08-25T15:45:58.603594",
     "exception": false,
     "start_time": "2024-08-25T15:45:58.591397",
     "status": "completed"
    },
    "tags": []
   },
   "outputs": [],
   "source": [
    "epoch_list = []\n",
    "time_list = []\n",
    "train_lost_list = []\n",
    "train_acc_list = []\n",
    "val_acc_list =[]\n"
   ]
  },
  {
   "cell_type": "code",
   "execution_count": 11,
   "id": "9682e6bb",
   "metadata": {
    "execution": {
     "iopub.execute_input": "2024-08-25T15:45:58.615658Z",
     "iopub.status.busy": "2024-08-25T15:45:58.615180Z",
     "iopub.status.idle": "2024-08-25T15:45:58.624236Z",
     "shell.execute_reply": "2024-08-25T15:45:58.623418Z"
    },
    "papermill": {
     "duration": 0.017277,
     "end_time": "2024-08-25T15:45:58.626207",
     "exception": false,
     "start_time": "2024-08-25T15:45:58.608930",
     "status": "completed"
    },
    "tags": []
   },
   "outputs": [],
   "source": [
    "start_time = time.time()\n",
    "def training_loop(n_epochs, optimizer, model, loss_fn, train_loader, inter_test, dump_csv):\n",
    "   \n",
    "  model.train()\n",
    "  for epoch in range(1, n_epochs + 1):\n",
    "      loss_train = 0.0\n",
    "      for imgs, labels in train_loader:\n",
    "            imgs = imgs.to(device=device)\n",
    "            labels = labels.to(device=device)\n",
    "            #model = model.to(device=device)\n",
    "            outputs = model(imgs)\n",
    "            loss = loss_fn(outputs, labels)\n",
    "            optimizer.zero_grad()\n",
    "            loss.backward()\n",
    "            optimizer.step()\n",
    "            loss_train += loss.item()\n",
    "\n",
    "      epoch_time = time.time() - start_time\n",
    "      epoch_time = f\"{epoch_time:.2f}\"\n",
    "      if epoch == 1 or epoch  != 0:\n",
    "         print('{} Epoch {}, Training loss {}'.format(\n",
    "             epoch_time, epoch,\n",
    "             loss_train / len(train_loader)))\n",
    "      if(inter_test == 1 or epoch > 20 or epoch % 5 ==0):  \n",
    "        acc_train, acc_val = validate(model, train_loader, test_loader)\n",
    "      if(dump_csv == 1):\n",
    "        epoch_list.append(epoch)\n",
    "        time_list.append(epoch_time)\n",
    "        train_lost_list.append(loss_train / len(train_loader))\n",
    "        train_acc_list.append(acc_train)\n",
    "        val_acc_list.append(acc_val)\n",
    "\n",
    "            \n",
    "            \n"
   ]
  },
  {
   "cell_type": "code",
   "execution_count": 12,
   "id": "d9412adf",
   "metadata": {
    "execution": {
     "iopub.execute_input": "2024-08-25T15:45:58.637940Z",
     "iopub.status.busy": "2024-08-25T15:45:58.637696Z",
     "iopub.status.idle": "2024-08-25T15:45:58.645274Z",
     "shell.execute_reply": "2024-08-25T15:45:58.644490Z"
    },
    "papermill": {
     "duration": 0.015583,
     "end_time": "2024-08-25T15:45:58.647235",
     "exception": false,
     "start_time": "2024-08-25T15:45:58.631652",
     "status": "completed"
    },
    "tags": []
   },
   "outputs": [],
   "source": [
    "def validate(model, train_loader, val_loader):\n",
    "     model.eval()\n",
    "     for name, loader in [(\"train\", train_loader), (\"val\", val_loader)]:\n",
    "             correct = 0\n",
    "             total = 0\n",
    "             with torch.no_grad():\n",
    "                for imgs, labels in loader:\n",
    "                    imgs = imgs.to(device=device)\n",
    "                    labels = labels.to(device=device)\n",
    "                    model = model.to(device=device)\n",
    "                    outputs = model(imgs)\n",
    "                    _, predicted = torch.max(outputs, dim=1)\n",
    "                    total += labels.shape[0]\n",
    "                    correct += int((predicted == labels).sum())\n",
    "\n",
    "             print(\"Accuracy {}: {:.2f}\".format(name , correct / total))\n",
    "             if(name == \"train\"):\n",
    "                acc_train = correct / total\n",
    "             if(name == \"val\"):\n",
    "                acc_val = correct / total\n",
    "     return f\"{acc_train:.2f}\", f\"{acc_val:.2f}\" \n",
    "\n"
   ]
  },
  {
   "cell_type": "code",
   "execution_count": 13,
   "id": "e8d1f782",
   "metadata": {
    "execution": {
     "iopub.execute_input": "2024-08-25T15:45:58.659043Z",
     "iopub.status.busy": "2024-08-25T15:45:58.658808Z",
     "iopub.status.idle": "2024-08-25T17:05:29.431648Z",
     "shell.execute_reply": "2024-08-25T17:05:29.430492Z"
    },
    "papermill": {
     "duration": 4770.781202,
     "end_time": "2024-08-25T17:05:29.433906",
     "exception": false,
     "start_time": "2024-08-25T15:45:58.652704",
     "status": "completed"
    },
    "tags": []
   },
   "outputs": [
    {
     "name": "stdout",
     "output_type": "stream",
     "text": [
      "48.12 Epoch 1, Training loss 0.8204304780414764\n",
      "Accuracy train: 0.81\n",
      "Accuracy val: 0.80\n",
      "179.32 Epoch 2, Training loss 0.3580008199081776\n",
      "Accuracy train: 0.88\n",
      "Accuracy val: 0.87\n",
      "298.43 Epoch 3, Training loss 0.2895375223869973\n",
      "Accuracy train: 0.90\n",
      "Accuracy val: 0.89\n",
      "417.58 Epoch 4, Training loss 0.26193572382660624\n",
      "Accuracy train: 0.91\n",
      "Accuracy val: 0.90\n",
      "537.28 Epoch 5, Training loss 0.23143952066435458\n",
      "Accuracy train: 0.90\n",
      "Accuracy val: 0.89\n",
      "655.20 Epoch 6, Training loss 0.2167070496510318\n",
      "Accuracy train: 0.93\n",
      "Accuracy val: 0.91\n",
      "775.28 Epoch 7, Training loss 0.19888337975011228\n",
      "Accuracy train: 0.92\n",
      "Accuracy val: 0.90\n",
      "893.28 Epoch 8, Training loss 0.17890696130455175\n",
      "Accuracy train: 0.95\n",
      "Accuracy val: 0.92\n",
      "1014.12 Epoch 9, Training loss 0.16676280895208426\n",
      "Accuracy train: 0.93\n",
      "Accuracy val: 0.91\n",
      "1132.31 Epoch 10, Training loss 0.15201808002955736\n",
      "Accuracy train: 0.95\n",
      "Accuracy val: 0.92\n",
      "1249.96 Epoch 11, Training loss 0.1373725914733207\n",
      "Accuracy train: 0.96\n",
      "Accuracy val: 0.92\n",
      "1370.54 Epoch 12, Training loss 0.12756773639232555\n",
      "Accuracy train: 0.94\n",
      "Accuracy val: 0.91\n",
      "1491.26 Epoch 13, Training loss 0.11116660336785494\n",
      "Accuracy train: 0.97\n",
      "Accuracy val: 0.93\n",
      "1608.84 Epoch 14, Training loss 0.10054971523424412\n",
      "Accuracy train: 0.87\n",
      "Accuracy val: 0.85\n",
      "1727.14 Epoch 15, Training loss 0.09209809007935543\n",
      "Accuracy train: 0.98\n",
      "Accuracy val: 0.93\n",
      "1844.79 Epoch 16, Training loss 0.07957580551861766\n",
      "Accuracy train: 0.92\n",
      "Accuracy val: 0.89\n",
      "1961.90 Epoch 17, Training loss 0.0612953757332202\n",
      "Accuracy train: 0.99\n",
      "Accuracy val: 0.93\n",
      "2080.73 Epoch 18, Training loss 0.055674648770636465\n",
      "Accuracy train: 0.97\n",
      "Accuracy val: 0.92\n",
      "2202.01 Epoch 19, Training loss 0.04156742300441925\n",
      "Accuracy train: 0.99\n",
      "Accuracy val: 0.94\n",
      "2321.43 Epoch 20, Training loss 0.03510976369254925\n",
      "Accuracy train: 1.00\n",
      "Accuracy val: 0.93\n",
      "2440.18 Epoch 21, Training loss 0.02783763296704026\n",
      "Accuracy train: 1.00\n",
      "Accuracy val: 0.94\n",
      "2560.74 Epoch 22, Training loss 0.018577596077328905\n",
      "Accuracy train: 1.00\n",
      "Accuracy val: 0.94\n",
      "2678.18 Epoch 23, Training loss 0.010921596586605178\n",
      "Accuracy train: 1.00\n",
      "Accuracy val: 0.94\n",
      "2797.79 Epoch 24, Training loss 0.007495501063803726\n",
      "Accuracy train: 1.00\n",
      "Accuracy val: 0.94\n",
      "2918.02 Epoch 25, Training loss 0.006192485248283582\n",
      "Accuracy train: 1.00\n",
      "Accuracy val: 0.94\n",
      "3037.39 Epoch 26, Training loss 0.005557894127745617\n",
      "Accuracy train: 1.00\n",
      "Accuracy val: 0.94\n",
      "3155.08 Epoch 27, Training loss 0.06776587103686711\n",
      "Accuracy train: 0.94\n",
      "Accuracy val: 0.89\n",
      "3274.75 Epoch 28, Training loss 0.1166069143491381\n",
      "Accuracy train: 0.99\n",
      "Accuracy val: 0.92\n",
      "3393.14 Epoch 29, Training loss 0.05545395349667586\n",
      "Accuracy train: 1.00\n",
      "Accuracy val: 0.92\n",
      "3513.41 Epoch 30, Training loss 0.02623749684364079\n",
      "Accuracy train: 1.00\n",
      "Accuracy val: 0.93\n",
      "3630.50 Epoch 31, Training loss 0.03506163554513787\n",
      "Accuracy train: 1.00\n",
      "Accuracy val: 0.93\n",
      "3750.96 Epoch 32, Training loss 0.009693888306464168\n",
      "Accuracy train: 1.00\n",
      "Accuracy val: 0.94\n",
      "3867.95 Epoch 33, Training loss 0.006665865697017425\n",
      "Accuracy train: 1.00\n",
      "Accuracy val: 0.94\n",
      "3986.27 Epoch 34, Training loss 0.006298622626692374\n",
      "Accuracy train: 1.00\n",
      "Accuracy val: 0.94\n",
      "4104.17 Epoch 35, Training loss 0.0045358118083466716\n",
      "Accuracy train: 1.00\n",
      "Accuracy val: 0.94\n",
      "4221.85 Epoch 36, Training loss 0.004192305674920097\n",
      "Accuracy train: 1.00\n",
      "Accuracy val: 0.94\n",
      "4342.94 Epoch 37, Training loss 0.004382687817733893\n",
      "Accuracy train: 1.00\n",
      "Accuracy val: 0.94\n",
      "4460.71 Epoch 38, Training loss 0.0042992085905775345\n",
      "Accuracy train: 1.00\n",
      "Accuracy val: 0.94\n",
      "4578.28 Epoch 39, Training loss 0.004322380669652782\n",
      "Accuracy train: 1.00\n",
      "Accuracy val: 0.93\n",
      "4698.46 Epoch 40, Training loss 0.0045262420639157926\n",
      "Accuracy train: 1.00\n",
      "Accuracy val: 0.94\n",
      "Training results successfully exported to csv\n"
     ]
    }
   ],
   "source": [
    "inter_test = 1\n",
    "dump_csv = 1\n",
    "training_loop(n_epochs = 40, optimizer = optimizer, model = model, loss_fn = loss_fn, train_loader = train_loader, \n",
    "                inter_test = inter_test, dump_csv = dump_csv)\n",
    "\n",
    "results = {\n",
    "    \"Epoch\": epoch_list,\n",
    "    \"Time\": time_list,\n",
    "    \"Train_Accuracy\": train_acc_list,\n",
    "    \"Val_Accuracy\":val_acc_list\n",
    "}\n",
    "\n",
    "df = pd.DataFrame(results)\n",
    "df.to_csv('/kaggle/working/Dropout_results.csv', index=False)\n",
    "\n",
    "print(f\"Training results successfully exported to csv\")\n",
    "\n",
    "\n",
    "\n",
    "\n",
    " "
   ]
  },
  {
   "cell_type": "code",
   "execution_count": 14,
   "id": "971eecff",
   "metadata": {
    "execution": {
     "iopub.execute_input": "2024-08-25T17:05:29.464785Z",
     "iopub.status.busy": "2024-08-25T17:05:29.464450Z",
     "iopub.status.idle": "2024-08-25T17:06:42.243920Z",
     "shell.execute_reply": "2024-08-25T17:06:42.242823Z"
    },
    "papermill": {
     "duration": 72.797427,
     "end_time": "2024-08-25T17:06:42.246000",
     "exception": false,
     "start_time": "2024-08-25T17:05:29.448573",
     "status": "completed"
    },
    "tags": []
   },
   "outputs": [
    {
     "name": "stdout",
     "output_type": "stream",
     "text": [
      "Accuracy train: 1.00\n",
      "Accuracy val: 0.94\n"
     ]
    },
    {
     "data": {
      "text/plain": [
       "('1.00', '0.94')"
      ]
     },
     "execution_count": 14,
     "metadata": {},
     "output_type": "execute_result"
    }
   ],
   "source": [
    "model.eval()\n",
    "validate(model, train_loader, test_loader)\n"
   ]
  },
  {
   "cell_type": "code",
   "execution_count": 15,
   "id": "1e99d1cc",
   "metadata": {
    "execution": {
     "iopub.execute_input": "2024-08-25T17:06:42.279223Z",
     "iopub.status.busy": "2024-08-25T17:06:42.278606Z",
     "iopub.status.idle": "2024-08-25T17:06:42.282937Z",
     "shell.execute_reply": "2024-08-25T17:06:42.282035Z"
    },
    "papermill": {
     "duration": 0.02319,
     "end_time": "2024-08-25T17:06:42.284817",
     "exception": false,
     "start_time": "2024-08-25T17:06:42.261627",
     "status": "completed"
    },
    "tags": []
   },
   "outputs": [],
   "source": [
    "#Accuracy train: 0.91\n",
    "#Accuracy val: 0.89\n"
   ]
  },
  {
   "cell_type": "code",
   "execution_count": 16,
   "id": "3ca35fd0",
   "metadata": {
    "execution": {
     "iopub.execute_input": "2024-08-25T17:06:42.316821Z",
     "iopub.status.busy": "2024-08-25T17:06:42.316495Z",
     "iopub.status.idle": "2024-08-25T17:06:43.339865Z",
     "shell.execute_reply": "2024-08-25T17:06:43.338852Z"
    },
    "papermill": {
     "duration": 1.042034,
     "end_time": "2024-08-25T17:06:43.342327",
     "exception": false,
     "start_time": "2024-08-25T17:06:42.300293",
     "status": "completed"
    },
    "tags": []
   },
   "outputs": [
    {
     "name": "stdout",
     "output_type": "stream",
     "text": [
      "Architecture:                         x86_64\r\n",
      "CPU op-mode(s):                       32-bit, 64-bit\r\n",
      "Byte Order:                           Little Endian\r\n",
      "Address sizes:                        46 bits physical, 48 bits virtual\r\n",
      "CPU(s):                               4\r\n",
      "On-line CPU(s) list:                  0-3\r\n",
      "Thread(s) per core:                   2\r\n",
      "Core(s) per socket:                   2\r\n",
      "Socket(s):                            1\r\n",
      "NUMA node(s):                         1\r\n",
      "Vendor ID:                            GenuineIntel\r\n",
      "CPU family:                           6\r\n",
      "Model:                                85\r\n",
      "Model name:                           Intel(R) Xeon(R) CPU @ 2.00GHz\r\n",
      "Stepping:                             3\r\n",
      "CPU MHz:                              2000.156\r\n",
      "BogoMIPS:                             4000.31\r\n",
      "Hypervisor vendor:                    KVM\r\n",
      "Virtualization type:                  full\r\n",
      "L1d cache:                            64 KiB\r\n",
      "L1i cache:                            64 KiB\r\n",
      "L2 cache:                             2 MiB\r\n",
      "L3 cache:                             38.5 MiB\r\n",
      "NUMA node0 CPU(s):                    0-3\r\n",
      "Vulnerability Gather data sampling:   Not affected\r\n",
      "Vulnerability Itlb multihit:          Not affected\r\n",
      "Vulnerability L1tf:                   Mitigation; PTE Inversion\r\n",
      "Vulnerability Mds:                    Mitigation; Clear CPU buffers; SMT Host st\r\n",
      "                                      ate unknown\r\n",
      "Vulnerability Meltdown:               Mitigation; PTI\r\n",
      "Vulnerability Mmio stale data:        Vulnerable: Clear CPU buffers attempted, n\r\n",
      "                                      o microcode; SMT Host state unknown\r\n",
      "Vulnerability Reg file data sampling: Not affected\r\n",
      "Vulnerability Retbleed:               Mitigation; IBRS\r\n",
      "Vulnerability Spec rstack overflow:   Not affected\r\n",
      "Vulnerability Spec store bypass:      Mitigation; Speculative Store Bypass disab\r\n",
      "                                      led via prctl and seccomp\r\n",
      "Vulnerability Spectre v1:             Mitigation; usercopy/swapgs barriers and _\r\n",
      "                                      _user pointer sanitization\r\n",
      "Vulnerability Spectre v2:             Mitigation; IBRS; IBPB conditional; STIBP \r\n",
      "                                      conditional; RSB filling; PBRSB-eIBRS Not \r\n",
      "                                      affected; BHI SW loop, KVM SW loop\r\n",
      "Vulnerability Srbds:                  Not affected\r\n",
      "Vulnerability Tsx async abort:        Mitigation; Clear CPU buffers; SMT Host st\r\n",
      "                                      ate unknown\r\n",
      "Flags:                                fpu vme de pse tsc msr pae mce cx8 apic se\r\n",
      "                                      p mtrr pge mca cmov pat pse36 clflush mmx \r\n",
      "                                      fxsr sse sse2 ss ht syscall nx pdpe1gb rdt\r\n",
      "                                      scp lm constant_tsc rep_good nopl xtopolog\r\n",
      "                                      y nonstop_tsc cpuid tsc_known_freq pni pcl\r\n",
      "                                      mulqdq ssse3 fma cx16 pcid sse4_1 sse4_2 x\r\n",
      "                                      2apic movbe popcnt aes xsave avx f16c rdra\r\n",
      "                                      nd hypervisor lahf_lm abm 3dnowprefetch in\r\n",
      "                                      vpcid_single pti ssbd ibrs ibpb stibp fsgs\r\n",
      "                                      base tsc_adjust bmi1 hle avx2 smep bmi2 er\r\n",
      "                                      ms invpcid rtm mpx avx512f avx512dq rdseed\r\n",
      "                                       adx smap clflushopt clwb avx512cd avx512b\r\n",
      "                                      w avx512vl xsaveopt xsavec xgetbv1 xsaves \r\n",
      "                                      arat md_clear arch_capabilities\r\n"
     ]
    }
   ],
   "source": [
    "!lscpu"
   ]
  },
  {
   "cell_type": "code",
   "execution_count": 17,
   "id": "87a2e313",
   "metadata": {
    "execution": {
     "iopub.execute_input": "2024-08-25T17:06:43.375123Z",
     "iopub.status.busy": "2024-08-25T17:06:43.374506Z",
     "iopub.status.idle": "2024-08-25T17:06:43.379112Z",
     "shell.execute_reply": "2024-08-25T17:06:43.378190Z"
    },
    "papermill": {
     "duration": 0.023162,
     "end_time": "2024-08-25T17:06:43.381065",
     "exception": false,
     "start_time": "2024-08-25T17:06:43.357903",
     "status": "completed"
    },
    "tags": []
   },
   "outputs": [],
   "source": [
    "#torch.save(model.state_dict(), data_dir + 'Lung_cancer.pt')\n"
   ]
  }
 ],
 "metadata": {
  "kaggle": {
   "accelerator": "gpu",
   "dataSources": [
    {
     "datasetId": 601280,
     "sourceId": 1079953,
     "sourceType": "datasetVersion"
    }
   ],
   "dockerImageVersionId": 30747,
   "isGpuEnabled": true,
   "isInternetEnabled": false,
   "language": "python",
   "sourceType": "notebook"
  },
  "kernelspec": {
   "display_name": "Python 3",
   "language": "python",
   "name": "python3"
  },
  "language_info": {
   "codemirror_mode": {
    "name": "ipython",
    "version": 3
   },
   "file_extension": ".py",
   "mimetype": "text/x-python",
   "name": "python",
   "nbconvert_exporter": "python",
   "pygments_lexer": "ipython3",
   "version": "3.10.13"
  },
  "papermill": {
   "default_parameters": {},
   "duration": 4866.520251,
   "end_time": "2024-08-25T17:06:45.229461",
   "environment_variables": {},
   "exception": null,
   "input_path": "__notebook__.ipynb",
   "output_path": "__notebook__.ipynb",
   "parameters": {},
   "start_time": "2024-08-25T15:45:38.709210",
   "version": "2.5.0"
  }
 },
 "nbformat": 4,
 "nbformat_minor": 5
}
