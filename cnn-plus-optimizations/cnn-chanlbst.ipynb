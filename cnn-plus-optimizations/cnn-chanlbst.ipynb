{
 "cells": [
  {
   "cell_type": "code",
   "execution_count": 1,
   "id": "56bd5ca8",
   "metadata": {
    "execution": {
     "iopub.execute_input": "2024-08-23T21:28:13.316961Z",
     "iopub.status.busy": "2024-08-23T21:28:13.316248Z",
     "iopub.status.idle": "2024-08-23T21:28:20.538865Z",
     "shell.execute_reply": "2024-08-23T21:28:20.538105Z"
    },
    "papermill": {
     "duration": 7.232125,
     "end_time": "2024-08-23T21:28:20.541124",
     "exception": false,
     "start_time": "2024-08-23T21:28:13.308999",
     "status": "completed"
    },
    "tags": []
   },
   "outputs": [],
   "source": [
    "import numpy as np\n",
    "import pandas as pd\n",
    "import matplotlib.pyplot as plt\n",
    "from PIL import Image\n",
    "from glob import glob\n",
    "import csv\n",
    "from sklearn.model_selection import train_test_split\n",
    "from sklearn import metrics\n",
    "import time\n",
    "import cv2\n",
    "import gc\n",
    "import os \n",
    "\n",
    "import torch\n",
    "import torch.nn as nn\n",
    "import torch.nn.functional as F\n",
    "import torchvision\n",
    "import torchvision.transforms as transforms\n",
    "import warnings\n",
    "warnings.filterwarnings('ignore')\n"
   ]
  },
  {
   "cell_type": "code",
   "execution_count": 2,
   "id": "e44f9c96",
   "metadata": {
    "execution": {
     "iopub.execute_input": "2024-08-23T21:28:20.554311Z",
     "iopub.status.busy": "2024-08-23T21:28:20.553757Z",
     "iopub.status.idle": "2024-08-23T21:28:20.565962Z",
     "shell.execute_reply": "2024-08-23T21:28:20.564977Z"
    },
    "papermill": {
     "duration": 0.020585,
     "end_time": "2024-08-23T21:28:20.567863",
     "exception": false,
     "start_time": "2024-08-23T21:28:20.547278",
     "status": "completed"
    },
    "tags": []
   },
   "outputs": [
    {
     "name": "stdout",
     "output_type": "stream",
     "text": [
      "['lung_aca', 'lung_scc', 'lung_n']\n"
     ]
    }
   ],
   "source": [
    "dataset_path = '/kaggle/input/lung-and-colon-cancer-histopathological-images/lung_colon_image_set/lung_image_sets/'\n",
    "print(os.listdir(dataset_path))"
   ]
  },
  {
   "cell_type": "code",
   "execution_count": 3,
   "id": "1d97e0df",
   "metadata": {
    "execution": {
     "iopub.execute_input": "2024-08-23T21:28:20.580185Z",
     "iopub.status.busy": "2024-08-23T21:28:20.579937Z",
     "iopub.status.idle": "2024-08-23T21:28:20.586556Z",
     "shell.execute_reply": "2024-08-23T21:28:20.585739Z"
    },
    "papermill": {
     "duration": 0.014775,
     "end_time": "2024-08-23T21:28:20.588375",
     "exception": false,
     "start_time": "2024-08-23T21:28:20.573600",
     "status": "completed"
    },
    "tags": []
   },
   "outputs": [
    {
     "data": {
      "text/plain": [
       "['lung_aca', 'lung_scc', 'lung_n']"
      ]
     },
     "execution_count": 3,
     "metadata": {},
     "output_type": "execute_result"
    }
   ],
   "source": [
    "classes = os.listdir(dataset_path)\n",
    "classes"
   ]
  },
  {
   "cell_type": "code",
   "execution_count": 4,
   "id": "d7ff2b81",
   "metadata": {
    "execution": {
     "iopub.execute_input": "2024-08-23T21:28:20.601193Z",
     "iopub.status.busy": "2024-08-23T21:28:20.600628Z",
     "iopub.status.idle": "2024-08-23T21:28:20.605050Z",
     "shell.execute_reply": "2024-08-23T21:28:20.604220Z"
    },
    "papermill": {
     "duration": 0.012698,
     "end_time": "2024-08-23T21:28:20.606852",
     "exception": false,
     "start_time": "2024-08-23T21:28:20.594154",
     "status": "completed"
    },
    "tags": []
   },
   "outputs": [],
   "source": [
    "IMG_SIZE = 256\n",
    "SPLIT = 0.2\n",
    "EPOCHS = 10\n",
    "BATCH_SIZE = 64\n",
    "learning_rate = 0.001\n",
    "num_epochs = 20\n",
    "NODE = np.int_(IMG_SIZE / 4)"
   ]
  },
  {
   "cell_type": "code",
   "execution_count": 5,
   "id": "91362441",
   "metadata": {
    "execution": {
     "iopub.execute_input": "2024-08-23T21:28:20.619330Z",
     "iopub.status.busy": "2024-08-23T21:28:20.619068Z",
     "iopub.status.idle": "2024-08-23T21:28:27.997828Z",
     "shell.execute_reply": "2024-08-23T21:28:27.996660Z"
    },
    "papermill": {
     "duration": 7.387447,
     "end_time": "2024-08-23T21:28:28.000060",
     "exception": false,
     "start_time": "2024-08-23T21:28:20.612613",
     "status": "completed"
    },
    "scrolled": true,
    "tags": []
   },
   "outputs": [
    {
     "name": "stdout",
     "output_type": "stream",
     "text": [
      "12000\n",
      "torch.Size([3, 256, 256])\n"
     ]
    }
   ],
   "source": [
    "from torchvision import datasets\n",
    "from torch.utils.data import DataLoader\n",
    "\n",
    "# Define transformations (e.g., resizing, normalization)\n",
    "transform = transforms.Compose([\n",
    "    transforms.Resize((IMG_SIZE, IMG_SIZE)),  # Resize images to 224x224\n",
    "    transforms.ToTensor(),  # Convert PIL image to tensor\n",
    "    transforms.Normalize(mean=[0.485, 0.456, 0.406], std=[0.229, 0.224, 0.225])  # Normalize\n",
    "])\n",
    "\n",
    "# Load dataset from local directory\n",
    "data_dir = 'C:/Users/abdun/Lung_cancer/lung_colon_image_set/lung_image_sets'\n",
    "dataset = datasets.ImageFolder(root=dataset_path, transform=transform)\n",
    "\n",
    "# Create DataLoader\n",
    "#dataloader = DataLoader(dataset, batch_size=32, shuffle=True)\n",
    "# Load dataset\n",
    "\n",
    "\n",
    "generator1 = torch.Generator().manual_seed(42)\n",
    "train_set, val_set = torch.utils.data.random_split(dataset, [0.8, 0.2], generator=generator1 )\n",
    "\n",
    "# Create DataLoader\n",
    "train_loader = DataLoader(train_set, batch_size=BATCH_SIZE, shuffle=True, num_workers=8, pin_memory=True)\n",
    "test_loader = DataLoader(val_set, batch_size=BATCH_SIZE, shuffle=True,)\n",
    "\n",
    "print(len(train_set))\n",
    "img, label = dataset[10]\n",
    "print(img.shape)\n"
   ]
  },
  {
   "cell_type": "code",
   "execution_count": 6,
   "id": "d0f3f694",
   "metadata": {
    "execution": {
     "iopub.execute_input": "2024-08-23T21:28:28.015050Z",
     "iopub.status.busy": "2024-08-23T21:28:28.014279Z",
     "iopub.status.idle": "2024-08-23T21:28:28.077936Z",
     "shell.execute_reply": "2024-08-23T21:28:28.077188Z"
    },
    "papermill": {
     "duration": 0.072935,
     "end_time": "2024-08-23T21:28:28.079934",
     "exception": false,
     "start_time": "2024-08-23T21:28:28.006999",
     "status": "completed"
    },
    "tags": []
   },
   "outputs": [],
   "source": [
    "device = torch.device('cuda' if torch.cuda.is_available() else 'cpu')"
   ]
  },
  {
   "cell_type": "code",
   "execution_count": 7,
   "id": "c23a9a5d",
   "metadata": {
    "execution": {
     "iopub.execute_input": "2024-08-23T21:28:28.093167Z",
     "iopub.status.busy": "2024-08-23T21:28:28.092863Z",
     "iopub.status.idle": "2024-08-23T21:28:28.102468Z",
     "shell.execute_reply": "2024-08-23T21:28:28.101629Z"
    },
    "papermill": {
     "duration": 0.018415,
     "end_time": "2024-08-23T21:28:28.104380",
     "exception": false,
     "start_time": "2024-08-23T21:28:28.085965",
     "status": "completed"
    },
    "tags": []
   },
   "outputs": [],
   "source": [
    "# Creating a CNN class\n",
    "class Net(nn.Module):\n",
    "  def __init__(self):\n",
    "    super().__init__()\n",
    "    self.conv1 = nn.Conv2d(3, 16, kernel_size=3, padding=1)\n",
    "    self.act1 = nn.Tanh()\n",
    "    self.pool1 = nn.MaxPool2d(2)\n",
    "    self.conv2 = nn.Conv2d(16, 8, kernel_size=3, padding=1)\n",
    "    self.act2 = nn.Tanh()\n",
    "    self.pool2 = nn.MaxPool2d(2)\n",
    "    self.fc1 = nn.Linear(8 * NODE * NODE, 64) # NODE is (IMG_SIZE)devided by (2*2) from the max pool.\n",
    "    self.act3 = nn.ReLU()\n",
    "    self.fc3 = nn.Linear(64, 64)\n",
    "    self.fc4 = nn.Linear(64, 32)\n",
    "    self.fc2 = nn.Linear(32, 3)\n",
    "  def forward(self, x):\n",
    "    out = self.pool1(self.act3(self.conv1(x)))\n",
    "    out = self.pool2(self.act3(self.conv2(out)))\n",
    "    out = out.view(out.size(0), -1)\n",
    "    out = self.act3(self.fc1(out))\n",
    "    out = self.act3(self.fc3(out))\n",
    "    out = self.act3(self.fc4(out))\n",
    "    out = self.fc2(out)\n",
    "    return out\n"
   ]
  },
  {
   "cell_type": "code",
   "execution_count": 8,
   "id": "dfa503b8",
   "metadata": {
    "execution": {
     "iopub.execute_input": "2024-08-23T21:28:28.117535Z",
     "iopub.status.busy": "2024-08-23T21:28:28.117288Z",
     "iopub.status.idle": "2024-08-23T21:28:28.130834Z",
     "shell.execute_reply": "2024-08-23T21:28:28.130049Z"
    },
    "papermill": {
     "duration": 0.02247,
     "end_time": "2024-08-23T21:28:28.132686",
     "exception": false,
     "start_time": "2024-08-23T21:28:28.110216",
     "status": "completed"
    },
    "tags": []
   },
   "outputs": [],
   "source": [
    "# Creating a CNN class\n",
    "class NetChanlBst(nn.Module):\n",
    "  def __init__(self, n_chanl = 32):\n",
    "    super(NetChanlBst, self).__init__()\n",
    "    self.conv1 = nn.Conv2d(9, n_chanl, kernel_size=3, padding=1)\n",
    "    self.act1 = nn.Tanh()\n",
    "    self.pool1 = nn.MaxPool2d(2)\n",
    "    self.conv2 = nn.Conv2d(n_chanl, n_chanl // 2, kernel_size=3, padding=1)\n",
    "    self.act2 = nn.Tanh()\n",
    "    self.pool2 = nn.MaxPool2d(2)\n",
    "    self.fc1 = nn.Linear(n_chanl * NODE * NODE // 2, 64) # NODE is (IMG_SIZE)devided by (2*2) from the max pool.\n",
    "    self.act3 = nn.ReLU()\n",
    "    self.fc3 = nn.Linear(64, 64)\n",
    "    self.fc4 = nn.Linear(64, 32)\n",
    "    self.fc2 = nn.Linear(32, 3)\n",
    "    \n",
    "    self.sobel_kernel = torch.tensor([[-1, 0, 1],\n",
    "                                          [-2, 0, 2],\n",
    "                                          [-1, 0, 1]], dtype=torch.float32).expand(3, 1, 3, 3)\n",
    "    \n",
    "    self.gaussian_kernel = torch.tensor([[1/16, 2/16, 1/16],\n",
    "                                             [2/16, 4/16, 2/16],\n",
    "                                             [1/16, 2/16, 1/16]], dtype=torch.float32).expand(3, 1, 3, 3)\n",
    "  def forward(self, x):\n",
    "    device = x.device\n",
    "    sobel_kernel = self.sobel_kernel.to(device)\n",
    "    gaussian_kernel = self.gaussian_kernel.to(device)\n",
    "    \n",
    "    edge_x = self.edge_detection(x, sobel_kernel)\n",
    "    blurred_x = self.blur(x, gaussian_kernel)\n",
    "    \n",
    "    boosted_x = torch.cat((x , edge_x, blurred_x), dim = 1)\n",
    "    \n",
    "    out = self.pool1(self.act3(self.conv1(boosted_x)))\n",
    "    out = self.pool2(self.act3(self.conv2(out)))\n",
    "    out = out.view(out.size(0), -1)\n",
    "    out = self.act3(self.fc1(out))\n",
    "    out = self.act3(self.fc3(out))\n",
    "    out = self.act3(self.fc4(out))\n",
    "    out = self.fc2(out)\n",
    "    return out\n",
    "\n",
    "\n",
    "  def edge_detection(self, x, sobel_kernel):\n",
    "        # Simple edge detection using Sobel filters\n",
    "        #x  = torch.tensor(x , dtype=torch.long)\n",
    "        edge_x = F.conv2d(x, sobel_kernel, padding=1, groups=3)\n",
    "        return edge_x \n",
    "    \n",
    "  def blur(self, x, gaussian_kernel):\n",
    "        # Apply Gaussian kernel\n",
    "        blurred_x = F.conv2d(x, gaussian_kernel, padding=1, groups=3)\n",
    "        return blurred_x\n",
    "  "
   ]
  },
  {
   "cell_type": "code",
   "execution_count": 9,
   "id": "f79c71cb",
   "metadata": {
    "execution": {
     "iopub.execute_input": "2024-08-23T21:28:28.145515Z",
     "iopub.status.busy": "2024-08-23T21:28:28.145272Z",
     "iopub.status.idle": "2024-08-23T21:28:28.340401Z",
     "shell.execute_reply": "2024-08-23T21:28:28.339637Z"
    },
    "papermill": {
     "duration": 0.204099,
     "end_time": "2024-08-23T21:28:28.342807",
     "exception": false,
     "start_time": "2024-08-23T21:28:28.138708",
     "status": "completed"
    },
    "tags": []
   },
   "outputs": [],
   "source": [
    "model = NetChanlBst()\n",
    "model = nn.DataParallel(model)\n",
    "model = model.to(device=device)\n",
    "\n",
    "# Set Loss function with criterion\n",
    "loss_fn = nn.CrossEntropyLoss()\n",
    "\n",
    "# Set optimizer with optimizer\n",
    "optimizer = torch.optim.SGD(model.parameters(), lr=learning_rate, weight_decay = 0.01, momentum = 0.5)  \n",
    "\n",
    "total_step = len(train_loader)"
   ]
  },
  {
   "cell_type": "code",
   "execution_count": 10,
   "id": "9e3f3575",
   "metadata": {
    "execution": {
     "iopub.execute_input": "2024-08-23T21:28:28.356228Z",
     "iopub.status.busy": "2024-08-23T21:28:28.355935Z",
     "iopub.status.idle": "2024-08-23T21:28:28.360152Z",
     "shell.execute_reply": "2024-08-23T21:28:28.359326Z"
    },
    "papermill": {
     "duration": 0.013005,
     "end_time": "2024-08-23T21:28:28.362014",
     "exception": false,
     "start_time": "2024-08-23T21:28:28.349009",
     "status": "completed"
    },
    "tags": []
   },
   "outputs": [],
   "source": [
    "epoch_list = []\n",
    "time_list = []\n",
    "train_lost_list = []\n",
    "train_acc_list = []\n",
    "val_acc_list =[]"
   ]
  },
  {
   "cell_type": "code",
   "execution_count": 11,
   "id": "7245b4f9",
   "metadata": {
    "execution": {
     "iopub.execute_input": "2024-08-23T21:28:28.374844Z",
     "iopub.status.busy": "2024-08-23T21:28:28.374576Z",
     "iopub.status.idle": "2024-08-23T21:28:28.383626Z",
     "shell.execute_reply": "2024-08-23T21:28:28.382776Z"
    },
    "papermill": {
     "duration": 0.01782,
     "end_time": "2024-08-23T21:28:28.385624",
     "exception": false,
     "start_time": "2024-08-23T21:28:28.367804",
     "status": "completed"
    },
    "tags": []
   },
   "outputs": [],
   "source": [
    "start_time = time.time()\n",
    "def training_loop(n_epochs, optimizer, model, loss_fn, train_loader, inter_test, dump_csv):\n",
    "   for epoch in range(1, n_epochs + 1):\n",
    "      loss_train = 0.0\n",
    "      for imgs, labels in train_loader:\n",
    "            imgs = imgs.to(device=device)\n",
    "            labels = labels.to(device=device)\n",
    "            #model = model.to(device=device)\n",
    "            outputs = model(imgs)\n",
    "            loss = loss_fn(outputs, labels)\n",
    "            optimizer.zero_grad()\n",
    "            loss.backward()\n",
    "            optimizer.step()\n",
    "            loss_train += loss.item()\n",
    "\n",
    "      epoch_time = time.time() - start_time\n",
    "      epoch_time = f\"{epoch_time:.2f}\"\n",
    "      if epoch == 1 or epoch  != 0:\n",
    "         print('{} Epoch {}, Training loss {}'.format(\n",
    "             epoch_time, epoch,\n",
    "             loss_train / len(train_loader)))\n",
    "      if(inter_test == 1 or epoch > 20 or ephoch % 5 ==0):  \n",
    "        acc_train, acc_val = validate(model, train_loader, test_loader)\n",
    "      if(dump_csv == 1):\n",
    "        epoch_list.append(epoch)\n",
    "        time_list.append(epoch_time)\n",
    "        train_lost_list.append(loss_train / len(train_loader))\n",
    "        train_acc_list.append(acc_train)\n",
    "        val_acc_list.append(acc_val)\n",
    "            \n",
    "            \n"
   ]
  },
  {
   "cell_type": "code",
   "execution_count": 12,
   "id": "ca8eb934",
   "metadata": {
    "execution": {
     "iopub.execute_input": "2024-08-23T21:28:28.398287Z",
     "iopub.status.busy": "2024-08-23T21:28:28.398042Z",
     "iopub.status.idle": "2024-08-23T21:28:28.405305Z",
     "shell.execute_reply": "2024-08-23T21:28:28.404511Z"
    },
    "papermill": {
     "duration": 0.015742,
     "end_time": "2024-08-23T21:28:28.407145",
     "exception": false,
     "start_time": "2024-08-23T21:28:28.391403",
     "status": "completed"
    },
    "tags": []
   },
   "outputs": [],
   "source": [
    "def validate(model, train_loader, val_loader):\n",
    "     for name, loader in [(\"train\", train_loader), (\"val\", val_loader)]:\n",
    "             correct = 0\n",
    "             total = 0\n",
    "             with torch.no_grad():\n",
    "                for imgs, labels in loader:\n",
    "                    imgs = imgs.to(device=device)\n",
    "                    labels = labels.to(device=device)\n",
    "                    model = model.to(device=device)\n",
    "                    outputs = model(imgs)\n",
    "                    _, predicted = torch.max(outputs, dim=1)\n",
    "                    total += labels.shape[0]\n",
    "                    correct += int((predicted == labels).sum())\n",
    "\n",
    "             print(\"Accuracy {}: {:.2f}\".format(name , correct / total))\n",
    "             if(name == \"train\"):\n",
    "                acc_train = correct / total\n",
    "             if(name == \"val\"):\n",
    "                acc_val = correct / total\n",
    "     return f\"{acc_train:.2f}\", f\"{acc_val:.2f}\"          \n",
    "   "
   ]
  },
  {
   "cell_type": "code",
   "execution_count": 13,
   "id": "b289bc9f",
   "metadata": {
    "execution": {
     "iopub.execute_input": "2024-08-23T21:28:28.419745Z",
     "iopub.status.busy": "2024-08-23T21:28:28.419473Z",
     "iopub.status.idle": "2024-08-23T22:47:53.205868Z",
     "shell.execute_reply": "2024-08-23T22:47:53.204686Z"
    },
    "papermill": {
     "duration": 4764.795183,
     "end_time": "2024-08-23T22:47:53.208136",
     "exception": false,
     "start_time": "2024-08-23T21:28:28.412953",
     "status": "completed"
    },
    "tags": []
   },
   "outputs": [
    {
     "name": "stdout",
     "output_type": "stream",
     "text": [
      "47.02 Epoch 1, Training loss 1.0925326144441645\n",
      "Accuracy train: 0.63\n",
      "Accuracy val: 0.61\n",
      "175.42 Epoch 2, Training loss 0.9597340105695927\n",
      "Accuracy train: 0.65\n",
      "Accuracy val: 0.65\n",
      "292.08 Epoch 3, Training loss 0.5224875308414723\n",
      "Accuracy train: 0.77\n",
      "Accuracy val: 0.76\n",
      "409.88 Epoch 4, Training loss 0.42160482324184256\n",
      "Accuracy train: 0.82\n",
      "Accuracy val: 0.81\n",
      "526.99 Epoch 5, Training loss 0.3770523835369881\n",
      "Accuracy train: 0.84\n",
      "Accuracy val: 0.84\n",
      "644.43 Epoch 6, Training loss 0.3400348745127942\n",
      "Accuracy train: 0.86\n",
      "Accuracy val: 0.85\n",
      "763.38 Epoch 7, Training loss 0.3158694764084004\n",
      "Accuracy train: 0.87\n",
      "Accuracy val: 0.86\n",
      "882.66 Epoch 8, Training loss 0.3000296248083419\n",
      "Accuracy train: 0.85\n",
      "Accuracy val: 0.83\n",
      "997.26 Epoch 9, Training loss 0.29240714069059554\n",
      "Accuracy train: 0.88\n",
      "Accuracy val: 0.87\n",
      "1115.80 Epoch 10, Training loss 0.2791156724016083\n",
      "Accuracy train: 0.89\n",
      "Accuracy val: 0.88\n",
      "1234.50 Epoch 11, Training loss 0.2663280294138066\n",
      "Accuracy train: 0.87\n",
      "Accuracy val: 0.86\n",
      "1351.24 Epoch 12, Training loss 0.2558289569743136\n",
      "Accuracy train: 0.89\n",
      "Accuracy val: 0.88\n",
      "1472.28 Epoch 13, Training loss 0.24502488550670604\n",
      "Accuracy train: 0.88\n",
      "Accuracy val: 0.87\n",
      "1589.77 Epoch 14, Training loss 0.23609836986090274\n",
      "Accuracy train: 0.87\n",
      "Accuracy val: 0.87\n",
      "1709.89 Epoch 15, Training loss 0.23044051626261244\n",
      "Accuracy train: 0.86\n",
      "Accuracy val: 0.86\n",
      "1831.00 Epoch 16, Training loss 0.22045090017800636\n",
      "Accuracy train: 0.87\n",
      "Accuracy val: 0.87\n",
      "1949.33 Epoch 17, Training loss 0.2178775164437421\n",
      "Accuracy train: 0.92\n",
      "Accuracy val: 0.90\n",
      "2069.63 Epoch 18, Training loss 0.20701664238375553\n",
      "Accuracy train: 0.91\n",
      "Accuracy val: 0.90\n",
      "2185.43 Epoch 19, Training loss 0.19840934076049227\n",
      "Accuracy train: 0.93\n",
      "Accuracy val: 0.91\n",
      "2303.84 Epoch 20, Training loss 0.1957562505564791\n",
      "Accuracy train: 0.93\n",
      "Accuracy val: 0.91\n",
      "2420.88 Epoch 21, Training loss 0.19516030702977738\n",
      "Accuracy train: 0.91\n",
      "Accuracy val: 0.89\n",
      "2539.22 Epoch 22, Training loss 0.18404641287757995\n",
      "Accuracy train: 0.91\n",
      "Accuracy val: 0.89\n",
      "2658.87 Epoch 23, Training loss 0.17907349283787163\n",
      "Accuracy train: 0.93\n",
      "Accuracy val: 0.91\n",
      "2775.23 Epoch 24, Training loss 0.1768643214426776\n",
      "Accuracy train: 0.91\n",
      "Accuracy val: 0.89\n",
      "2893.81 Epoch 25, Training loss 0.17266448488102315\n",
      "Accuracy train: 0.93\n",
      "Accuracy val: 0.92\n",
      "3012.80 Epoch 26, Training loss 0.16459762299076675\n",
      "Accuracy train: 0.94\n",
      "Accuracy val: 0.92\n",
      "3131.86 Epoch 27, Training loss 0.15673241792048545\n",
      "Accuracy train: 0.95\n",
      "Accuracy val: 0.92\n",
      "3250.96 Epoch 28, Training loss 0.15057075063281872\n",
      "Accuracy train: 0.95\n",
      "Accuracy val: 0.92\n",
      "3368.50 Epoch 29, Training loss 0.14402927192760276\n",
      "Accuracy train: 0.94\n",
      "Accuracy val: 0.92\n",
      "3489.12 Epoch 30, Training loss 0.14249180574366388\n",
      "Accuracy train: 0.96\n",
      "Accuracy val: 0.92\n",
      "3610.22 Epoch 31, Training loss 0.13233022914921982\n",
      "Accuracy train: 0.91\n",
      "Accuracy val: 0.89\n",
      "3732.28 Epoch 32, Training loss 0.13171569362005336\n",
      "Accuracy train: 0.96\n",
      "Accuracy val: 0.92\n",
      "3853.28 Epoch 33, Training loss 0.1311384551821554\n",
      "Accuracy train: 0.97\n",
      "Accuracy val: 0.93\n",
      "3974.02 Epoch 34, Training loss 0.12250284379982251\n",
      "Accuracy train: 0.97\n",
      "Accuracy val: 0.92\n",
      "4094.57 Epoch 35, Training loss 0.11747366202836658\n",
      "Accuracy train: 0.93\n",
      "Accuracy val: 0.90\n",
      "4216.33 Epoch 36, Training loss 0.10948484692167729\n",
      "Accuracy train: 0.97\n",
      "Accuracy val: 0.92\n",
      "4336.20 Epoch 37, Training loss 0.1092097776089894\n",
      "Accuracy train: 0.90\n",
      "Accuracy val: 0.88\n",
      "4454.64 Epoch 38, Training loss 0.11115671804254042\n",
      "Accuracy train: 0.97\n",
      "Accuracy val: 0.92\n",
      "4575.35 Epoch 39, Training loss 0.09466265869188181\n",
      "Accuracy train: 0.98\n",
      "Accuracy val: 0.93\n",
      "4693.37 Epoch 40, Training loss 0.09341919182383633\n",
      "Accuracy train: 0.98\n",
      "Accuracy val: 0.93\n",
      "Training results successfully exported to ChanlBst_results.csv\n"
     ]
    }
   ],
   "source": [
    "inter_test = 1 \n",
    "dump_csv = 1\n",
    "training_loop(n_epochs = 40, optimizer = optimizer, model = model, loss_fn = loss_fn, train_loader = train_loader, \n",
    "                inter_test = inter_test, dump_csv = dump_csv)\n",
    "\n",
    "results = {\n",
    "    \"Epoch\": epoch_list,\n",
    "    \"Time\": time_list,\n",
    "    \"Train_Accuracy\": train_acc_list,\n",
    "    \"Val_Accuracy\":val_acc_list\n",
    "}\n",
    "\n",
    "df = pd.DataFrame(results)\n",
    "csv_file = \"ChanlBst_results.csv\"\n",
    "df.to_csv('/kaggle/working/ChanlBst_results.csv', index=False)\n",
    "\n",
    "print(f\"Training results successfully exported to {csv_file}\")"
   ]
  },
  {
   "cell_type": "code",
   "execution_count": 14,
   "id": "b279e6d0",
   "metadata": {
    "execution": {
     "iopub.execute_input": "2024-08-23T22:47:53.240065Z",
     "iopub.status.busy": "2024-08-23T22:47:53.239692Z",
     "iopub.status.idle": "2024-08-23T22:47:53.244789Z",
     "shell.execute_reply": "2024-08-23T22:47:53.243875Z"
    },
    "papermill": {
     "duration": 0.023808,
     "end_time": "2024-08-23T22:47:53.247015",
     "exception": false,
     "start_time": "2024-08-23T22:47:53.223207",
     "status": "completed"
    },
    "tags": []
   },
   "outputs": [
    {
     "name": "stdout",
     "output_type": "stream",
     "text": [
      "{'Epoch': [1, 2, 3, 4, 5, 6, 7, 8, 9, 10, 11, 12, 13, 14, 15, 16, 17, 18, 19, 20, 21, 22, 23, 24, 25, 26, 27, 28, 29, 30, 31, 32, 33, 34, 35, 36, 37, 38, 39, 40], 'Time': ['47.02', '175.42', '292.08', '409.88', '526.99', '644.43', '763.38', '882.66', '997.26', '1115.80', '1234.50', '1351.24', '1472.28', '1589.77', '1709.89', '1831.00', '1949.33', '2069.63', '2185.43', '2303.84', '2420.88', '2539.22', '2658.87', '2775.23', '2893.81', '3012.80', '3131.86', '3250.96', '3368.50', '3489.12', '3610.22', '3732.28', '3853.28', '3974.02', '4094.57', '4216.33', '4336.20', '4454.64', '4575.35', '4693.37'], 'Train_Accuracy': ['0.63', '0.65', '0.77', '0.82', '0.84', '0.86', '0.87', '0.85', '0.88', '0.89', '0.87', '0.89', '0.88', '0.87', '0.86', '0.87', '0.92', '0.91', '0.93', '0.93', '0.91', '0.91', '0.93', '0.91', '0.93', '0.94', '0.95', '0.95', '0.94', '0.96', '0.91', '0.96', '0.97', '0.97', '0.93', '0.97', '0.90', '0.97', '0.98', '0.98'], 'Val_Accuracy': ['0.61', '0.65', '0.76', '0.81', '0.84', '0.85', '0.86', '0.83', '0.87', '0.88', '0.86', '0.88', '0.87', '0.87', '0.86', '0.87', '0.90', '0.90', '0.91', '0.91', '0.89', '0.89', '0.91', '0.89', '0.92', '0.92', '0.92', '0.92', '0.92', '0.92', '0.89', '0.92', '0.93', '0.92', '0.90', '0.92', '0.88', '0.92', '0.93', '0.93']}\n"
     ]
    }
   ],
   "source": [
    "print(results)"
   ]
  },
  {
   "cell_type": "code",
   "execution_count": 15,
   "id": "388343ae",
   "metadata": {
    "execution": {
     "iopub.execute_input": "2024-08-23T22:47:53.278785Z",
     "iopub.status.busy": "2024-08-23T22:47:53.278451Z",
     "iopub.status.idle": "2024-08-23T22:49:06.893850Z",
     "shell.execute_reply": "2024-08-23T22:49:06.892826Z"
    },
    "papermill": {
     "duration": 73.63354,
     "end_time": "2024-08-23T22:49:06.895989",
     "exception": false,
     "start_time": "2024-08-23T22:47:53.262449",
     "status": "completed"
    },
    "tags": []
   },
   "outputs": [
    {
     "name": "stdout",
     "output_type": "stream",
     "text": [
      "Accuracy train: 0.98\n",
      "Accuracy val: 0.93\n"
     ]
    },
    {
     "data": {
      "text/plain": [
       "('0.98', '0.93')"
      ]
     },
     "execution_count": 15,
     "metadata": {},
     "output_type": "execute_result"
    }
   ],
   "source": [
    "validate(model, train_loader, test_loader)\n"
   ]
  },
  {
   "cell_type": "code",
   "execution_count": 16,
   "id": "80b1c245",
   "metadata": {
    "execution": {
     "iopub.execute_input": "2024-08-23T22:49:06.928430Z",
     "iopub.status.busy": "2024-08-23T22:49:06.928111Z",
     "iopub.status.idle": "2024-08-23T22:49:06.932119Z",
     "shell.execute_reply": "2024-08-23T22:49:06.931335Z"
    },
    "papermill": {
     "duration": 0.022673,
     "end_time": "2024-08-23T22:49:06.934019",
     "exception": false,
     "start_time": "2024-08-23T22:49:06.911346",
     "status": "completed"
    },
    "tags": []
   },
   "outputs": [],
   "source": [
    "#Accuracy train: 0.91\n",
    "#Accuracy val: 0.89\n"
   ]
  },
  {
   "cell_type": "code",
   "execution_count": 17,
   "id": "b4be5554",
   "metadata": {
    "execution": {
     "iopub.execute_input": "2024-08-23T22:49:06.966328Z",
     "iopub.status.busy": "2024-08-23T22:49:06.965569Z",
     "iopub.status.idle": "2024-08-23T22:49:07.998676Z",
     "shell.execute_reply": "2024-08-23T22:49:07.997717Z"
    },
    "papermill": {
     "duration": 1.051555,
     "end_time": "2024-08-23T22:49:08.000894",
     "exception": false,
     "start_time": "2024-08-23T22:49:06.949339",
     "status": "completed"
    },
    "tags": []
   },
   "outputs": [
    {
     "name": "stdout",
     "output_type": "stream",
     "text": [
      "ChanlBst_results.csv  __notebook__.ipynb\r\n"
     ]
    }
   ],
   "source": [
    "!ls /kaggle/working/"
   ]
  },
  {
   "cell_type": "code",
   "execution_count": 18,
   "id": "fdf85148",
   "metadata": {
    "execution": {
     "iopub.execute_input": "2024-08-23T22:49:08.033608Z",
     "iopub.status.busy": "2024-08-23T22:49:08.033284Z",
     "iopub.status.idle": "2024-08-23T22:49:09.050786Z",
     "shell.execute_reply": "2024-08-23T22:49:09.049746Z"
    },
    "papermill": {
     "duration": 1.036665,
     "end_time": "2024-08-23T22:49:09.053158",
     "exception": false,
     "start_time": "2024-08-23T22:49:08.016493",
     "status": "completed"
    },
    "tags": []
   },
   "outputs": [
    {
     "name": "stdout",
     "output_type": "stream",
     "text": [
      "Architecture:                         x86_64\r\n",
      "CPU op-mode(s):                       32-bit, 64-bit\r\n",
      "Byte Order:                           Little Endian\r\n",
      "Address sizes:                        46 bits physical, 48 bits virtual\r\n",
      "CPU(s):                               4\r\n",
      "On-line CPU(s) list:                  0-3\r\n",
      "Thread(s) per core:                   2\r\n",
      "Core(s) per socket:                   2\r\n",
      "Socket(s):                            1\r\n",
      "NUMA node(s):                         1\r\n",
      "Vendor ID:                            GenuineIntel\r\n",
      "CPU family:                           6\r\n",
      "Model:                                85\r\n",
      "Model name:                           Intel(R) Xeon(R) CPU @ 2.00GHz\r\n",
      "Stepping:                             3\r\n",
      "CPU MHz:                              2000.148\r\n",
      "BogoMIPS:                             4000.29\r\n",
      "Hypervisor vendor:                    KVM\r\n",
      "Virtualization type:                  full\r\n",
      "L1d cache:                            64 KiB\r\n",
      "L1i cache:                            64 KiB\r\n",
      "L2 cache:                             2 MiB\r\n",
      "L3 cache:                             38.5 MiB\r\n",
      "NUMA node0 CPU(s):                    0-3\r\n",
      "Vulnerability Gather data sampling:   Not affected\r\n",
      "Vulnerability Itlb multihit:          Not affected\r\n",
      "Vulnerability L1tf:                   Mitigation; PTE Inversion\r\n",
      "Vulnerability Mds:                    Mitigation; Clear CPU buffers; SMT Host st\r\n",
      "                                      ate unknown\r\n",
      "Vulnerability Meltdown:               Mitigation; PTI\r\n",
      "Vulnerability Mmio stale data:        Vulnerable: Clear CPU buffers attempted, n\r\n",
      "                                      o microcode; SMT Host state unknown\r\n",
      "Vulnerability Reg file data sampling: Not affected\r\n",
      "Vulnerability Retbleed:               Mitigation; IBRS\r\n",
      "Vulnerability Spec rstack overflow:   Not affected\r\n",
      "Vulnerability Spec store bypass:      Mitigation; Speculative Store Bypass disab\r\n",
      "                                      led via prctl and seccomp\r\n",
      "Vulnerability Spectre v1:             Mitigation; usercopy/swapgs barriers and _\r\n",
      "                                      _user pointer sanitization\r\n",
      "Vulnerability Spectre v2:             Mitigation; IBRS; IBPB conditional; STIBP \r\n",
      "                                      conditional; RSB filling; PBRSB-eIBRS Not \r\n",
      "                                      affected; BHI SW loop, KVM SW loop\r\n",
      "Vulnerability Srbds:                  Not affected\r\n",
      "Vulnerability Tsx async abort:        Mitigation; Clear CPU buffers; SMT Host st\r\n",
      "                                      ate unknown\r\n",
      "Flags:                                fpu vme de pse tsc msr pae mce cx8 apic se\r\n",
      "                                      p mtrr pge mca cmov pat pse36 clflush mmx \r\n",
      "                                      fxsr sse sse2 ss ht syscall nx pdpe1gb rdt\r\n",
      "                                      scp lm constant_tsc rep_good nopl xtopolog\r\n",
      "                                      y nonstop_tsc cpuid tsc_known_freq pni pcl\r\n",
      "                                      mulqdq ssse3 fma cx16 pcid sse4_1 sse4_2 x\r\n",
      "                                      2apic movbe popcnt aes xsave avx f16c rdra\r\n",
      "                                      nd hypervisor lahf_lm abm 3dnowprefetch in\r\n",
      "                                      vpcid_single pti ssbd ibrs ibpb stibp fsgs\r\n",
      "                                      base tsc_adjust bmi1 hle avx2 smep bmi2 er\r\n",
      "                                      ms invpcid rtm mpx avx512f avx512dq rdseed\r\n",
      "                                       adx smap clflushopt clwb avx512cd avx512b\r\n",
      "                                      w avx512vl xsaveopt xsavec xgetbv1 xsaves \r\n",
      "                                      arat md_clear arch_capabilities\r\n"
     ]
    }
   ],
   "source": [
    "!lscpu"
   ]
  },
  {
   "cell_type": "code",
   "execution_count": 19,
   "id": "6dfe449d",
   "metadata": {
    "execution": {
     "iopub.execute_input": "2024-08-23T22:49:09.087289Z",
     "iopub.status.busy": "2024-08-23T22:49:09.086372Z",
     "iopub.status.idle": "2024-08-23T22:49:09.091175Z",
     "shell.execute_reply": "2024-08-23T22:49:09.090304Z"
    },
    "papermill": {
     "duration": 0.024059,
     "end_time": "2024-08-23T22:49:09.093124",
     "exception": false,
     "start_time": "2024-08-23T22:49:09.069065",
     "status": "completed"
    },
    "tags": []
   },
   "outputs": [],
   "source": [
    "#torch.save(model.state_dict(), data_dir + 'Lung_cancer.pt')\n"
   ]
  }
 ],
 "metadata": {
  "kaggle": {
   "accelerator": "gpu",
   "dataSources": [
    {
     "datasetId": 601280,
     "sourceId": 1079953,
     "sourceType": "datasetVersion"
    }
   ],
   "dockerImageVersionId": 30747,
   "isGpuEnabled": true,
   "isInternetEnabled": false,
   "language": "python",
   "sourceType": "notebook"
  },
  "kernelspec": {
   "display_name": "Python 3",
   "language": "python",
   "name": "python3"
  },
  "language_info": {
   "codemirror_mode": {
    "name": "ipython",
    "version": 3
   },
   "file_extension": ".py",
   "mimetype": "text/x-python",
   "name": "python",
   "nbconvert_exporter": "python",
   "pygments_lexer": "ipython3",
   "version": "3.10.13"
  },
  "papermill": {
   "default_parameters": {},
   "duration": 4860.446473,
   "end_time": "2024-08-23T22:49:11.042760",
   "environment_variables": {},
   "exception": null,
   "input_path": "__notebook__.ipynb",
   "output_path": "__notebook__.ipynb",
   "parameters": {},
   "start_time": "2024-08-23T21:28:10.596287",
   "version": "2.5.0"
  }
 },
 "nbformat": 4,
 "nbformat_minor": 5
}
