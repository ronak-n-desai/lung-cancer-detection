{
 "cells": [
  {
   "cell_type": "code",
   "execution_count": null,
   "id": "81fff0b8",
   "metadata": {
    "papermill": {
     "duration": 7.350476,
     "end_time": "2024-08-08T09:29:05.459506",
     "exception": false,
     "start_time": "2024-08-08T09:28:58.109030",
     "status": "completed"
    },
    "tags": []
   },
   "outputs": [],
   "source": [
    "import numpy as np\n",
    "import pandas as pd\n",
    "import matplotlib.pyplot as plt\n",
    "from PIL import Image\n",
    "from glob import glob\n",
    " \n",
    "from sklearn.model_selection import train_test_split\n",
    "from sklearn import metrics\n",
    " \n",
    "import cv2\n",
    "import gc\n",
    "import os \n",
    "\n",
    "import torch\n",
    "import torch.nn as nn\n",
    "import torchvision\n",
    "import torchvision.transforms as transforms\n",
    "import warnings\n",
    "warnings.filterwarnings('ignore')\n"
   ]
  },
  {
   "cell_type": "code",
   "execution_count": null,
   "id": "0bc0a1d5",
   "metadata": {
    "papermill": {
     "duration": 0.011774,
     "end_time": "2024-08-08T09:29:05.476732",
     "exception": false,
     "start_time": "2024-08-08T09:29:05.464958",
     "status": "completed"
    },
    "tags": []
   },
   "outputs": [],
   "source": [
    "#pip install opencv-python"
   ]
  },
  {
   "cell_type": "code",
   "execution_count": null,
   "id": "02a25f66",
   "metadata": {
    "papermill": {
     "duration": 0.011042,
     "end_time": "2024-08-08T09:29:05.492577",
     "exception": false,
     "start_time": "2024-08-08T09:29:05.481535",
     "status": "completed"
    },
    "tags": []
   },
   "outputs": [],
   "source": [
    "\n",
    "#from zipfile import ZipFile\n",
    " \n",
    "#data_path = 'archive.zip'\n",
    " \n",
    "#with ZipFile(data_path,'r') as zip:\n",
    " # zip.extractall()\n",
    "  #print('The data set has been extracted.')\n"
   ]
  },
  {
   "cell_type": "code",
   "execution_count": null,
   "id": "78f4824b",
   "metadata": {
    "papermill": {
     "duration": 0.01792,
     "end_time": "2024-08-08T09:29:05.515371",
     "exception": false,
     "start_time": "2024-08-08T09:29:05.497451",
     "status": "completed"
    },
    "tags": []
   },
   "outputs": [],
   "source": [
    "dataset_path = '/kaggle/input/lung-and-colon-cancer-histopathological-images/lung_colon_image_set/lung_image_sets/'\n",
    "print(os.listdir(dataset_path))"
   ]
  },
  {
   "cell_type": "code",
   "execution_count": null,
   "id": "568402ca",
   "metadata": {
    "papermill": {
     "duration": 0.017979,
     "end_time": "2024-08-08T09:29:05.538449",
     "exception": false,
     "start_time": "2024-08-08T09:29:05.520470",
     "status": "completed"
    },
    "tags": []
   },
   "outputs": [],
   "source": [
    "classes = os.listdir(dataset_path)\n",
    "classes"
   ]
  },
  {
   "cell_type": "code",
   "execution_count": null,
   "id": "c29e7e11",
   "metadata": {
    "papermill": {
     "duration": 0.01187,
     "end_time": "2024-08-08T09:29:05.555361",
     "exception": false,
     "start_time": "2024-08-08T09:29:05.543491",
     "status": "completed"
    },
    "tags": []
   },
   "outputs": [],
   "source": [
    "IMG_SIZE = 400\n",
    "SPLIT = 0.2\n",
    "EPOCHS = 10\n",
    "BATCH_SIZE = 64\n",
    "learning_rate = 0.001\n",
    "num_epochs = 20\n",
    "NODE = np.int_(IMG_SIZE / 4)"
   ]
  },
  {
   "cell_type": "code",
   "execution_count": null,
   "id": "10ede51d",
   "metadata": {
    "papermill": {
     "duration": 11.100107,
     "end_time": "2024-08-08T09:29:16.660436",
     "exception": false,
     "start_time": "2024-08-08T09:29:05.560329",
     "status": "completed"
    },
    "scrolled": true,
    "tags": []
   },
   "outputs": [],
   "source": [
    "from torchvision import datasets\n",
    "from torch.utils.data import DataLoader\n",
    "\n",
    "# Define transformations (e.g., resizing, normalization)\n",
    "transform = transforms.Compose([\n",
    "    transforms.Resize((IMG_SIZE, IMG_SIZE)),  # Resize images to 224x224\n",
    "    transforms.ToTensor(),  # Convert PIL image to tensor\n",
    "    transforms.Normalize(mean=[0.485, 0.456, 0.406], std=[0.229, 0.224, 0.225])  # Normalize\n",
    "])\n",
    "\n",
    "# Load dataset from local directory\n",
    "data_dir = \"../../lung_colon_image_set/lung_image_sets/\"\n",
    "dataset = datasets.ImageFolder(root=dataset_path, transform=transform)\n",
    "\n",
    "# Create DataLoader\n",
    "#dataloader = DataLoader(dataset, batch_size=32, shuffle=True)\n",
    "# Load dataset\n",
    "\n",
    "\n",
    "generator1 = torch.Generator().manual_seed(42)\n",
    "train_set, val_set = torch.utils.data.random_split(dataset, [0.8, 0.2], generator=generator1 )\n",
    "\n",
    "# Create DataLoader\n",
    "train_loader = DataLoader(train_set, batch_size=BATCH_SIZE, shuffle=True, num_workers=8, pin_memory=True)\n",
    "test_loader = DataLoader(val_set, batch_size=BATCH_SIZE, shuffle=True,)\n",
    "\n",
    "print(len(train_set))\n",
    "img, label = dataset[10]\n",
    "print(img.shape)\n"
   ]
  },
  {
   "cell_type": "code",
   "execution_count": null,
   "id": "f9eaefe1",
   "metadata": {
    "papermill": {
     "duration": 0.09616,
     "end_time": "2024-08-08T09:29:16.762807",
     "exception": false,
     "start_time": "2024-08-08T09:29:16.666647",
     "status": "completed"
    },
    "tags": []
   },
   "outputs": [],
   "source": [
    "device = torch.device('cuda' if torch.cuda.is_available() else 'cpu')"
   ]
  },
  {
   "cell_type": "code",
   "execution_count": null,
   "id": "b0e9e1fc",
   "metadata": {
    "papermill": {
     "duration": 0.017409,
     "end_time": "2024-08-08T09:29:16.785800",
     "exception": false,
     "start_time": "2024-08-08T09:29:16.768391",
     "status": "completed"
    },
    "tags": []
   },
   "outputs": [],
   "source": [
    "# Creating a CNN class\n",
    "class Net(nn.Module):\n",
    "  def __init__(self):\n",
    "    super().__init__()\n",
    "    self.conv1 = nn.Conv2d(3, 32, kernel_size=3, padding=1)\n",
    "    self.act1 = nn.Tanh()\n",
    "    self.pool1 = nn.MaxPool2d(2)\n",
    "    self.conv2 = nn.Conv2d(32, 8, kernel_size=3, padding=1)\n",
    "    self.act2 = nn.Tanh()\n",
    "    self.pool2 = nn.MaxPool2d(2)\n",
    "    self.fc1 = nn.Linear(8 * NODE * NODE, 64) # NODE is (IMG_SIZE)devided by (2*2) from the max pool.\n",
    "    self.act3 = nn.ReLU()\n",
    "    self.fc3 = nn.Linear(64, 64)\n",
    "    self.fc4 = nn.Linear(64, 32)\n",
    "    self.fc2 = nn.Linear(32, 3)\n",
    "  def forward(self, x):\n",
    "    out = self.pool1(self.act3(self.conv1(x)))\n",
    "    out = self.pool2(self.act3(self.conv2(out)))\n",
    "    out = out.view(out.size(0), -1)\n",
    "    out = self.act3(self.fc1(out))\n",
    "    out = self.act3(self.fc3(out))\n",
    "    out = self.act3(self.fc4(out))\n",
    "    out = self.fc2(out)\n",
    "    return out\n"
   ]
  },
  {
   "cell_type": "code",
   "execution_count": null,
   "id": "0027a730",
   "metadata": {
    "papermill": {
     "duration": 0.282205,
     "end_time": "2024-08-08T09:29:17.073277",
     "exception": false,
     "start_time": "2024-08-08T09:29:16.791072",
     "status": "completed"
    },
    "tags": []
   },
   "outputs": [],
   "source": [
    "model = Net()\n",
    "model = nn.DataParallel(model)\n",
    "model = model.to(device=device)\n",
    "\n",
    "# Set Loss function with criterion\n",
    "loss_fn = nn.CrossEntropyLoss()\n",
    "\n",
    "# Set optimizer with optimizer\n",
    "optimizer = torch.optim.SGD(model.parameters(), lr=learning_rate, weight_decay = 0.01, momentum = 0.5)  \n",
    "\n",
    "total_step = len(train_loader)"
   ]
  },
  {
   "cell_type": "code",
   "execution_count": null,
   "id": "9989fa52",
   "metadata": {
    "papermill": {
     "duration": 0.014931,
     "end_time": "2024-08-08T09:29:17.093661",
     "exception": false,
     "start_time": "2024-08-08T09:29:17.078730",
     "status": "completed"
    },
    "tags": []
   },
   "outputs": [],
   "source": [
    "def training_loop(n_epochs, optimizer, model, loss_fn, train_loader):\n",
    "   for epoch in range(1, n_epochs + 1):\n",
    "      loss_train = 0.0\n",
    "      for imgs, labels in train_loader:\n",
    "            imgs = imgs.to(device=device)\n",
    "            labels = labels.to(device=device)\n",
    "            #model = model.to(device=device)\n",
    "            outputs = model(imgs)\n",
    "            loss = loss_fn(outputs, labels)\n",
    "            optimizer.zero_grad()\n",
    "            loss.backward()\n",
    "            optimizer.step()\n",
    "            loss_train += loss.item()\n",
    "\n",
    "\n",
    "      if epoch == 1 or epoch  != 0:\n",
    "         print('{} Epoch {}, Training loss {}'.format(\n",
    "             datetime.datetime.now(), epoch,\n",
    "             loss_train / len(train_loader)))\n",
    "\n",
    "\n",
    "            \n",
    "            \n"
   ]
  },
  {
   "cell_type": "code",
   "execution_count": null,
   "id": "91b75745",
   "metadata": {
    "papermill": {
     "duration": 2494.9501,
     "end_time": "2024-08-08T10:10:52.048820",
     "exception": false,
     "start_time": "2024-08-08T09:29:17.098720",
     "status": "completed"
    },
    "tags": []
   },
   "outputs": [],
   "source": [
    "import datetime\n",
    "training_loop(n_epochs = 30, optimizer = optimizer, model = model, loss_fn = loss_fn, train_loader = train_loader,)\n",
    "\n",
    "\n",
    " "
   ]
  },
  {
   "cell_type": "code",
   "execution_count": null,
   "id": "f1fb013f",
   "metadata": {
    "papermill": {
     "duration": 0.018777,
     "end_time": "2024-08-08T10:10:52.075039",
     "exception": false,
     "start_time": "2024-08-08T10:10:52.056262",
     "status": "completed"
    },
    "tags": []
   },
   "outputs": [],
   "source": [
    "def validate(model, train_loader, val_loader):\n",
    "     for name, loader in [(\"train\", train_loader), (\"val\", val_loader)]:\n",
    "             correct = 0\n",
    "             total = 0\n",
    "             with torch.no_grad():\n",
    "                for imgs, labels in loader:\n",
    "                    imgs = imgs.to(device=device)\n",
    "                    labels = labels.to(device=device)\n",
    "                    model = model.to(device=device)\n",
    "                    outputs = model(imgs)\n",
    "                    _, predicted = torch.max(outputs, dim=1)\n",
    "                    total += labels.shape[0]\n",
    "                    correct += int((predicted == labels).sum())\n",
    "\n",
    "             print(\"Accuracy {}: {:.2f}\".format(name , correct / total))\n",
    "\n",
    "   "
   ]
  },
  {
   "cell_type": "code",
   "execution_count": null,
   "id": "73983cc8",
   "metadata": {
    "papermill": {
     "duration": 142.544005,
     "end_time": "2024-08-08T10:13:14.626429",
     "exception": false,
     "start_time": "2024-08-08T10:10:52.082424",
     "status": "completed"
    },
    "tags": []
   },
   "outputs": [],
   "source": [
    "validate(model, train_loader, test_loader)\n"
   ]
  },
  {
   "cell_type": "code",
   "execution_count": null,
   "id": "3a82c96b",
   "metadata": {
    "papermill": {
     "duration": 1.046877,
     "end_time": "2024-08-08T10:13:15.680818",
     "exception": false,
     "start_time": "2024-08-08T10:13:14.633941",
     "status": "completed"
    },
    "tags": []
   },
   "outputs": [],
   "source": [
    "!lscpu"
   ]
  },
  {
   "cell_type": "code",
   "execution_count": null,
   "id": "38599780",
   "metadata": {
    "papermill": {
     "duration": 0.014953,
     "end_time": "2024-08-08T10:13:15.703788",
     "exception": false,
     "start_time": "2024-08-08T10:13:15.688835",
     "status": "completed"
    },
    "tags": []
   },
   "outputs": [],
   "source": [
    "#torch.save(model.state_dict(), data_dir + 'Lung_cancer.pt')\n"
   ]
  }
 ],
 "metadata": {
  "kaggle": {
   "accelerator": "nvidiaTeslaT4",
   "dataSources": [
    {
     "datasetId": 601280,
     "sourceId": 1079953,
     "sourceType": "datasetVersion"
    }
   ],
   "dockerImageVersionId": 30747,
   "isGpuEnabled": true,
   "isInternetEnabled": false,
   "language": "python",
   "sourceType": "notebook"
  },
  "kernelspec": {
   "display_name": "Python 3 (ipykernel)",
   "language": "python",
   "name": "python3"
  },
  "language_info": {
   "codemirror_mode": {
    "name": "ipython",
    "version": 3
   },
   "file_extension": ".py",
   "mimetype": "text/x-python",
   "name": "python",
   "nbconvert_exporter": "python",
   "pygments_lexer": "ipython3",
   "version": "3.12.4"
  },
  "papermill": {
   "default_parameters": {},
   "duration": 2663.551414,
   "end_time": "2024-08-08T10:13:18.888555",
   "environment_variables": {},
   "exception": null,
   "input_path": "__notebook__.ipynb",
   "output_path": "__notebook__.ipynb",
   "parameters": {},
   "start_time": "2024-08-08T09:28:55.337141",
   "version": "2.5.0"
  }
 },
 "nbformat": 4,
 "nbformat_minor": 5
}
