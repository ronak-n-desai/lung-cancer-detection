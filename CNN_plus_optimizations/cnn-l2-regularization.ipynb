{
 "cells": [
  {
   "cell_type": "code",
   "execution_count": 1,
   "id": "35afb4f2",
   "metadata": {
    "execution": {
     "iopub.execute_input": "2024-08-25T15:10:39.425701Z",
     "iopub.status.busy": "2024-08-25T15:10:39.425321Z",
     "iopub.status.idle": "2024-08-25T15:10:46.555618Z",
     "shell.execute_reply": "2024-08-25T15:10:46.554655Z"
    },
    "papermill": {
     "duration": 7.138638,
     "end_time": "2024-08-25T15:10:46.557942",
     "exception": false,
     "start_time": "2024-08-25T15:10:39.419304",
     "status": "completed"
    },
    "tags": []
   },
   "outputs": [],
   "source": [
    "import numpy as np\n",
    "import pandas as pd\n",
    "import matplotlib.pyplot as plt\n",
    "from PIL import Image\n",
    "from glob import glob\n",
    "import time\n",
    "from sklearn.model_selection import train_test_split\n",
    "from sklearn import metrics\n",
    " \n",
    "import cv2\n",
    "import gc\n",
    "import os \n",
    "\n",
    "import torch\n",
    "import torch.nn as nn\n",
    "import torchvision\n",
    "import torchvision.transforms as transforms\n",
    "import warnings\n",
    "warnings.filterwarnings('ignore')\n"
   ]
  },
  {
   "cell_type": "code",
   "execution_count": 2,
   "id": "de4d41c6",
   "metadata": {
    "execution": {
     "iopub.execute_input": "2024-08-25T15:10:46.567793Z",
     "iopub.status.busy": "2024-08-25T15:10:46.567151Z",
     "iopub.status.idle": "2024-08-25T15:10:46.588174Z",
     "shell.execute_reply": "2024-08-25T15:10:46.587310Z"
    },
    "papermill": {
     "duration": 0.027703,
     "end_time": "2024-08-25T15:10:46.589968",
     "exception": false,
     "start_time": "2024-08-25T15:10:46.562265",
     "status": "completed"
    },
    "tags": []
   },
   "outputs": [
    {
     "name": "stdout",
     "output_type": "stream",
     "text": [
      "['lung_aca', 'lung_scc', 'lung_n']\n"
     ]
    }
   ],
   "source": [
    "dataset_path = '/kaggle/input/lung-and-colon-cancer-histopathological-images/lung_colon_image_set/lung_image_sets/'\n",
    "print(os.listdir(dataset_path))"
   ]
  },
  {
   "cell_type": "code",
   "execution_count": 3,
   "id": "efc30759",
   "metadata": {
    "execution": {
     "iopub.execute_input": "2024-08-25T15:10:46.599075Z",
     "iopub.status.busy": "2024-08-25T15:10:46.598811Z",
     "iopub.status.idle": "2024-08-25T15:10:46.605329Z",
     "shell.execute_reply": "2024-08-25T15:10:46.604542Z"
    },
    "papermill": {
     "duration": 0.013086,
     "end_time": "2024-08-25T15:10:46.607141",
     "exception": false,
     "start_time": "2024-08-25T15:10:46.594055",
     "status": "completed"
    },
    "tags": []
   },
   "outputs": [
    {
     "data": {
      "text/plain": [
       "['lung_aca', 'lung_scc', 'lung_n']"
      ]
     },
     "execution_count": 3,
     "metadata": {},
     "output_type": "execute_result"
    }
   ],
   "source": [
    "classes = os.listdir(dataset_path)\n",
    "classes"
   ]
  },
  {
   "cell_type": "code",
   "execution_count": 4,
   "id": "bb2b7e06",
   "metadata": {
    "execution": {
     "iopub.execute_input": "2024-08-25T15:10:46.616943Z",
     "iopub.status.busy": "2024-08-25T15:10:46.616687Z",
     "iopub.status.idle": "2024-08-25T15:10:46.620876Z",
     "shell.execute_reply": "2024-08-25T15:10:46.620103Z"
    },
    "papermill": {
     "duration": 0.01124,
     "end_time": "2024-08-25T15:10:46.622727",
     "exception": false,
     "start_time": "2024-08-25T15:10:46.611487",
     "status": "completed"
    },
    "tags": []
   },
   "outputs": [],
   "source": [
    "IMG_SIZE = 256\n",
    "SPLIT = 0.2\n",
    "EPOCHS = 10\n",
    "BATCH_SIZE = 64\n",
    "learning_rate = 0.001\n",
    "num_epochs = 20\n",
    "NODE = np.int_(IMG_SIZE / 4)"
   ]
  },
  {
   "cell_type": "code",
   "execution_count": 5,
   "id": "60982997",
   "metadata": {
    "execution": {
     "iopub.execute_input": "2024-08-25T15:10:46.632367Z",
     "iopub.status.busy": "2024-08-25T15:10:46.632095Z",
     "iopub.status.idle": "2024-08-25T15:11:05.451537Z",
     "shell.execute_reply": "2024-08-25T15:11:05.450625Z"
    },
    "papermill": {
     "duration": 18.827017,
     "end_time": "2024-08-25T15:11:05.453978",
     "exception": false,
     "start_time": "2024-08-25T15:10:46.626961",
     "status": "completed"
    },
    "scrolled": true,
    "tags": []
   },
   "outputs": [
    {
     "name": "stdout",
     "output_type": "stream",
     "text": [
      "12000\n",
      "torch.Size([3, 256, 256])\n"
     ]
    }
   ],
   "source": [
    "from torchvision import datasets\n",
    "from torch.utils.data import DataLoader\n",
    "\n",
    "# Define transformations (e.g., resizing, normalization)\n",
    "transform = transforms.Compose([\n",
    "    transforms.Resize((IMG_SIZE, IMG_SIZE)),  # Resize images to 224x224\n",
    "    transforms.ToTensor(),  # Convert PIL image to tensor\n",
    "    transforms.Normalize(mean=[0.485, 0.456, 0.406], std=[0.229, 0.224, 0.225])  # Normalize\n",
    "])\n",
    "\n",
    "# Load dataset from local directory\n",
    "data_dir = 'C:/Users/abdun/Lung_cancer/lung_colon_image_set/lung_image_sets'\n",
    "dataset = datasets.ImageFolder(root=dataset_path, transform=transform)\n",
    "\n",
    "# Create DataLoader\n",
    "#dataloader = DataLoader(dataset, batch_size=32, shuffle=True)\n",
    "# Load dataset\n",
    "\n",
    "\n",
    "generator1 = torch.Generator().manual_seed(42)\n",
    "train_set, val_set = torch.utils.data.random_split(dataset, [0.8, 0.2], generator=generator1 )\n",
    "\n",
    "# Create DataLoader\n",
    "train_loader = DataLoader(train_set, batch_size=BATCH_SIZE, shuffle=True, num_workers=8, pin_memory=True)\n",
    "test_loader = DataLoader(val_set, batch_size=BATCH_SIZE, shuffle=True,)\n",
    "\n",
    "print(len(train_set))\n",
    "img, label = dataset[10]\n",
    "print(img.shape)\n"
   ]
  },
  {
   "cell_type": "code",
   "execution_count": 6,
   "id": "a4373b6d",
   "metadata": {
    "execution": {
     "iopub.execute_input": "2024-08-25T15:11:05.464828Z",
     "iopub.status.busy": "2024-08-25T15:11:05.464518Z",
     "iopub.status.idle": "2024-08-25T15:11:05.524342Z",
     "shell.execute_reply": "2024-08-25T15:11:05.523528Z"
    },
    "papermill": {
     "duration": 0.067323,
     "end_time": "2024-08-25T15:11:05.526270",
     "exception": false,
     "start_time": "2024-08-25T15:11:05.458947",
     "status": "completed"
    },
    "tags": []
   },
   "outputs": [],
   "source": [
    "device = torch.device('cuda' if torch.cuda.is_available() else 'cpu')"
   ]
  },
  {
   "cell_type": "code",
   "execution_count": 7,
   "id": "7fc549ed",
   "metadata": {
    "execution": {
     "iopub.execute_input": "2024-08-25T15:11:05.536468Z",
     "iopub.status.busy": "2024-08-25T15:11:05.536181Z",
     "iopub.status.idle": "2024-08-25T15:11:05.545544Z",
     "shell.execute_reply": "2024-08-25T15:11:05.544663Z"
    },
    "papermill": {
     "duration": 0.016656,
     "end_time": "2024-08-25T15:11:05.547422",
     "exception": false,
     "start_time": "2024-08-25T15:11:05.530766",
     "status": "completed"
    },
    "tags": []
   },
   "outputs": [],
   "source": [
    "# Creating a CNN class\n",
    "class Net(nn.Module):\n",
    "  def __init__(self):\n",
    "    super().__init__()\n",
    "    self.conv1 = nn.Conv2d(3, 16, kernel_size=3, padding=1)\n",
    "    self.act1 = nn.Tanh()\n",
    "    self.pool1 = nn.MaxPool2d(2)\n",
    "    self.conv2 = nn.Conv2d(16, 8, kernel_size=3, padding=1)\n",
    "    self.act2 = nn.Tanh()\n",
    "    self.pool2 = nn.MaxPool2d(2)\n",
    "    self.fc1 = nn.Linear(8 * NODE * NODE, 64) # NODE is (IMG_SIZE)devided by (2*2) from the max pool.\n",
    "    self.act3 = nn.ReLU()\n",
    "    self.fc3 = nn.Linear(64, 64)\n",
    "    self.fc4 = nn.Linear(64, 32)\n",
    "    self.fc2 = nn.Linear(32, 3)\n",
    "  def forward(self, x):\n",
    "    out = self.pool1(self.act3(self.conv1(x)))\n",
    "    out = self.pool2(self.act3(self.conv2(out)))\n",
    "    out = out.view(out.size(0), -1)\n",
    "    out = self.act3(self.fc1(out))\n",
    "    out = self.act3(self.fc3(out))\n",
    "    out = self.act3(self.fc4(out))\n",
    "    out = self.fc2(out)\n",
    "    return out\n"
   ]
  },
  {
   "cell_type": "code",
   "execution_count": 8,
   "id": "18f03b79",
   "metadata": {
    "execution": {
     "iopub.execute_input": "2024-08-25T15:11:05.557571Z",
     "iopub.status.busy": "2024-08-25T15:11:05.557317Z",
     "iopub.status.idle": "2024-08-25T15:11:05.733173Z",
     "shell.execute_reply": "2024-08-25T15:11:05.732389Z"
    },
    "papermill": {
     "duration": 0.183633,
     "end_time": "2024-08-25T15:11:05.735507",
     "exception": false,
     "start_time": "2024-08-25T15:11:05.551874",
     "status": "completed"
    },
    "tags": []
   },
   "outputs": [],
   "source": [
    "model = Net()\n",
    "model = nn.DataParallel(model)\n",
    "model = model.to(device=device)\n",
    "\n",
    "# Set Loss function with criterion\n",
    "loss_fn = nn.CrossEntropyLoss()\n",
    "\n",
    "# Set optimizer with optimizer\n",
    "optimizer = torch.optim.SGD(model.parameters(), lr=learning_rate, weight_decay = 0.01, momentum = 0.5)  \n",
    "\n",
    "total_step = len(train_loader)"
   ]
  },
  {
   "cell_type": "code",
   "execution_count": 9,
   "id": "2e4a1717",
   "metadata": {
    "execution": {
     "iopub.execute_input": "2024-08-25T15:11:05.746461Z",
     "iopub.status.busy": "2024-08-25T15:11:05.745953Z",
     "iopub.status.idle": "2024-08-25T15:11:05.750364Z",
     "shell.execute_reply": "2024-08-25T15:11:05.749575Z"
    },
    "papermill": {
     "duration": 0.011895,
     "end_time": "2024-08-25T15:11:05.752229",
     "exception": false,
     "start_time": "2024-08-25T15:11:05.740334",
     "status": "completed"
    },
    "tags": []
   },
   "outputs": [],
   "source": [
    "epoch_list = []\n",
    "time_list = []\n",
    "train_lost_list = []\n",
    "train_acc_list = []\n",
    "val_acc_list =[]"
   ]
  },
  {
   "cell_type": "code",
   "execution_count": 10,
   "id": "ee36713b",
   "metadata": {
    "execution": {
     "iopub.execute_input": "2024-08-25T15:11:05.762740Z",
     "iopub.status.busy": "2024-08-25T15:11:05.762454Z",
     "iopub.status.idle": "2024-08-25T15:11:05.772284Z",
     "shell.execute_reply": "2024-08-25T15:11:05.771380Z"
    },
    "papermill": {
     "duration": 0.017207,
     "end_time": "2024-08-25T15:11:05.774129",
     "exception": false,
     "start_time": "2024-08-25T15:11:05.756922",
     "status": "completed"
    },
    "tags": []
   },
   "outputs": [],
   "source": [
    "start_time = time.time()\n",
    "def training_loop(n_epochs, optimizer, model, loss_fn, train_loader, inter_test, dump_csv):\n",
    "   \n",
    "  model.train()\n",
    "  for epoch in range(1, n_epochs + 1):\n",
    "      loss_train = 0.0\n",
    "      for imgs, labels in train_loader:\n",
    "            imgs = imgs.to(device=device)\n",
    "            labels = labels.to(device=device)\n",
    "            #model = model.to(device=device)\n",
    "            outputs = model(imgs)\n",
    "            loss = loss_fn(outputs, labels)\n",
    "            \n",
    "            l2_lambda = 0.001\n",
    "            l2_norm = sum(p.pow(2.0).sum()\n",
    "                  for p in model.parameters())\n",
    "            loss = loss + l2_lambda * l2_norm\n",
    "            \n",
    "            optimizer.zero_grad()\n",
    "            loss.backward()\n",
    "            optimizer.step()\n",
    "            loss_train += loss.item()\n",
    "\n",
    "      epoch_time = time.time() - start_time\n",
    "      epoch_time = f\"{epoch_time:.2f}\"\n",
    "      if epoch == 1 or epoch  != 0:\n",
    "         print('{} Epoch {}, Training loss {}'.format(\n",
    "             epoch_time, epoch,\n",
    "             loss_train / len(train_loader)))\n",
    "      if(inter_test == 1 or epoch > 20 or epoch % 5 ==0):  \n",
    "        acc_train, acc_val = validate(model, train_loader, test_loader)\n",
    "      if(dump_csv == 1):\n",
    "        epoch_list.append(epoch)\n",
    "        time_list.append(epoch_time)\n",
    "        train_lost_list.append(loss_train / len(train_loader))\n",
    "        train_acc_list.append(acc_train)\n",
    "        val_acc_list.append(acc_val)\n",
    "\n",
    "\n",
    "            \n",
    "            \n"
   ]
  },
  {
   "cell_type": "code",
   "execution_count": 11,
   "id": "96caf567",
   "metadata": {
    "execution": {
     "iopub.execute_input": "2024-08-25T15:11:05.784541Z",
     "iopub.status.busy": "2024-08-25T15:11:05.784259Z",
     "iopub.status.idle": "2024-08-25T15:11:05.791667Z",
     "shell.execute_reply": "2024-08-25T15:11:05.790898Z"
    },
    "papermill": {
     "duration": 0.014573,
     "end_time": "2024-08-25T15:11:05.793470",
     "exception": false,
     "start_time": "2024-08-25T15:11:05.778897",
     "status": "completed"
    },
    "tags": []
   },
   "outputs": [],
   "source": [
    "def validate(model, train_loader, val_loader):\n",
    "     model.eval()\n",
    "     for name, loader in [(\"train\", train_loader), (\"val\", val_loader)]:\n",
    "             correct = 0\n",
    "             total = 0\n",
    "             with torch.no_grad():\n",
    "                for imgs, labels in loader:\n",
    "                    imgs = imgs.to(device=device)\n",
    "                    labels = labels.to(device=device)\n",
    "                    model = model.to(device=device)\n",
    "                    outputs = model(imgs)\n",
    "                    _, predicted = torch.max(outputs, dim=1)\n",
    "                    total += labels.shape[0]\n",
    "                    correct += int((predicted == labels).sum())\n",
    "\n",
    "             print(\"Accuracy {}: {:.2f}\".format(name , correct / total))\n",
    "             if(name == \"train\"):\n",
    "                acc_train = correct / total\n",
    "             if(name == \"val\"):\n",
    "                acc_val = correct / total\n",
    "     return f\"{acc_train:.2f}\", f\"{acc_val:.2f}\" "
   ]
  },
  {
   "cell_type": "code",
   "execution_count": 12,
   "id": "47b2e878",
   "metadata": {
    "execution": {
     "iopub.execute_input": "2024-08-25T15:11:05.804069Z",
     "iopub.status.busy": "2024-08-25T15:11:05.803810Z",
     "iopub.status.idle": "2024-08-25T16:34:18.644962Z",
     "shell.execute_reply": "2024-08-25T16:34:18.643912Z"
    },
    "papermill": {
     "duration": 4992.86271,
     "end_time": "2024-08-25T16:34:18.661076",
     "exception": false,
     "start_time": "2024-08-25T15:11:05.798366",
     "status": "completed"
    },
    "tags": []
   },
   "outputs": [
    {
     "name": "stdout",
     "output_type": "stream",
     "text": [
      "48.64 Epoch 1, Training loss 1.1410425514616864\n",
      "Accuracy train: 0.33\n",
      "Accuracy val: 0.33\n",
      "191.19 Epoch 2, Training loss 0.8711358743145111\n",
      "Accuracy train: 0.75\n",
      "Accuracy val: 0.74\n",
      "315.73 Epoch 3, Training loss 0.5384800432527319\n",
      "Accuracy train: 0.77\n",
      "Accuracy val: 0.76\n",
      "442.38 Epoch 4, Training loss 0.5073950946965116\n",
      "Accuracy train: 0.77\n",
      "Accuracy val: 0.76\n",
      "567.31 Epoch 5, Training loss 0.49179323081006393\n",
      "Accuracy train: 0.79\n",
      "Accuracy val: 0.78\n",
      "688.41 Epoch 6, Training loss 0.47133246476345875\n",
      "Accuracy train: 0.83\n",
      "Accuracy val: 0.81\n",
      "810.61 Epoch 7, Training loss 0.4388571089886604\n",
      "Accuracy train: 0.85\n",
      "Accuracy val: 0.84\n",
      "933.17 Epoch 8, Training loss 0.4104006334822229\n",
      "Accuracy train: 0.86\n",
      "Accuracy val: 0.86\n",
      "1056.44 Epoch 9, Training loss 0.394113671113836\n",
      "Accuracy train: 0.86\n",
      "Accuracy val: 0.85\n",
      "1183.43 Epoch 10, Training loss 0.38067357757307113\n",
      "Accuracy train: 0.87\n",
      "Accuracy val: 0.87\n",
      "1307.14 Epoch 11, Training loss 0.3690333203115362\n",
      "Accuracy train: 0.88\n",
      "Accuracy val: 0.87\n",
      "1433.81 Epoch 12, Training loss 0.3620767038553319\n",
      "Accuracy train: 0.88\n",
      "Accuracy val: 0.88\n",
      "1558.73 Epoch 13, Training loss 0.35507014266988063\n",
      "Accuracy train: 0.88\n",
      "Accuracy val: 0.87\n",
      "1680.73 Epoch 14, Training loss 0.3461382938350769\n",
      "Accuracy train: 0.85\n",
      "Accuracy val: 0.84\n",
      "1805.77 Epoch 15, Training loss 0.33828816713487847\n",
      "Accuracy train: 0.90\n",
      "Accuracy val: 0.89\n",
      "1930.01 Epoch 16, Training loss 0.3309704288840294\n",
      "Accuracy train: 0.88\n",
      "Accuracy val: 0.87\n",
      "2054.99 Epoch 17, Training loss 0.331215205503271\n",
      "Accuracy train: 0.86\n",
      "Accuracy val: 0.85\n",
      "2178.17 Epoch 18, Training loss 0.31944438434661704\n",
      "Accuracy train: 0.89\n",
      "Accuracy val: 0.88\n",
      "2301.31 Epoch 19, Training loss 0.31598763278824216\n",
      "Accuracy train: 0.90\n",
      "Accuracy val: 0.89\n",
      "2423.46 Epoch 20, Training loss 0.30915389717259306\n",
      "Accuracy train: 0.90\n",
      "Accuracy val: 0.88\n",
      "2548.47 Epoch 21, Training loss 0.3058207103229584\n",
      "Accuracy train: 0.90\n",
      "Accuracy val: 0.89\n",
      "2674.05 Epoch 22, Training loss 0.29796211992172483\n",
      "Accuracy train: 0.90\n",
      "Accuracy val: 0.88\n",
      "2799.13 Epoch 23, Training loss 0.2947197346452703\n",
      "Accuracy train: 0.90\n",
      "Accuracy val: 0.88\n",
      "2921.50 Epoch 24, Training loss 0.29088696385634705\n",
      "Accuracy train: 0.90\n",
      "Accuracy val: 0.88\n",
      "3047.10 Epoch 25, Training loss 0.28412739449041957\n",
      "Accuracy train: 0.87\n",
      "Accuracy val: 0.86\n",
      "3171.13 Epoch 26, Training loss 0.27875606945537507\n",
      "Accuracy train: 0.89\n",
      "Accuracy val: 0.88\n",
      "3291.26 Epoch 27, Training loss 0.2790766318744801\n",
      "Accuracy train: 0.91\n",
      "Accuracy val: 0.89\n",
      "3411.54 Epoch 28, Training loss 0.2739046073340355\n",
      "Accuracy train: 0.91\n",
      "Accuracy val: 0.89\n",
      "3531.72 Epoch 29, Training loss 0.26967956886646594\n",
      "Accuracy train: 0.91\n",
      "Accuracy val: 0.89\n",
      "3658.25 Epoch 30, Training loss 0.2611880986455907\n",
      "Accuracy train: 0.92\n",
      "Accuracy val: 0.90\n",
      "3782.83 Epoch 31, Training loss 0.25622217602869296\n",
      "Accuracy train: 0.88\n",
      "Accuracy val: 0.87\n",
      "3909.82 Epoch 32, Training loss 0.2515443498466877\n",
      "Accuracy train: 0.92\n",
      "Accuracy val: 0.90\n",
      "4034.38 Epoch 33, Training loss 0.2467743681466326\n",
      "Accuracy train: 0.93\n",
      "Accuracy val: 0.90\n",
      "4158.33 Epoch 34, Training loss 0.24464876838821045\n",
      "Accuracy train: 0.93\n",
      "Accuracy val: 0.91\n",
      "4285.51 Epoch 35, Training loss 0.23918129047973358\n",
      "Accuracy train: 0.92\n",
      "Accuracy val: 0.90\n",
      "4411.50 Epoch 36, Training loss 0.2360168279723284\n",
      "Accuracy train: 0.93\n",
      "Accuracy val: 0.90\n",
      "4537.32 Epoch 37, Training loss 0.23417268439810326\n",
      "Accuracy train: 0.93\n",
      "Accuracy val: 0.91\n",
      "4661.43 Epoch 38, Training loss 0.2277988686840585\n",
      "Accuracy train: 0.92\n",
      "Accuracy val: 0.90\n",
      "4788.35 Epoch 39, Training loss 0.22414482523627738\n",
      "Accuracy train: 0.93\n",
      "Accuracy val: 0.91\n",
      "4915.59 Epoch 40, Training loss 0.22037331831265003\n",
      "Accuracy train: 0.93\n",
      "Accuracy val: 0.91\n",
      "Training results successfully exported to csv\n"
     ]
    }
   ],
   "source": [
    "\n",
    "\n",
    "inter_test = 1\n",
    "dump_csv = 1\n",
    "training_loop(n_epochs = 40, optimizer = optimizer, model = model, loss_fn = loss_fn, train_loader = train_loader, \n",
    "                inter_test = inter_test, dump_csv = dump_csv)\n",
    "\n",
    "results = {\n",
    "    \"Epoch\": epoch_list,\n",
    "    \"Time\": time_list,\n",
    "    \"Train_Accuracy\": train_acc_list,\n",
    "    \"Val_Accuracy\":val_acc_list\n",
    "}\n",
    "\n",
    "df = pd.DataFrame(results)\n",
    "df.to_csv('/kaggle/working/L2reg_results.csv', index=False)\n",
    "\n",
    "print(f\"Training results successfully exported to csv\")\n",
    "\n",
    "\n",
    "\n",
    "\n",
    " "
   ]
  },
  {
   "cell_type": "code",
   "execution_count": 13,
   "id": "aeb0ae61",
   "metadata": {
    "execution": {
     "iopub.execute_input": "2024-08-25T16:34:18.691519Z",
     "iopub.status.busy": "2024-08-25T16:34:18.690769Z",
     "iopub.status.idle": "2024-08-25T16:35:37.672487Z",
     "shell.execute_reply": "2024-08-25T16:35:37.671549Z"
    },
    "papermill": {
     "duration": 79.013285,
     "end_time": "2024-08-25T16:35:37.688530",
     "exception": false,
     "start_time": "2024-08-25T16:34:18.675245",
     "status": "completed"
    },
    "tags": []
   },
   "outputs": [
    {
     "name": "stdout",
     "output_type": "stream",
     "text": [
      "Accuracy train: 0.93\n",
      "Accuracy val: 0.91\n"
     ]
    },
    {
     "data": {
      "text/plain": [
       "('0.93', '0.91')"
      ]
     },
     "execution_count": 13,
     "metadata": {},
     "output_type": "execute_result"
    }
   ],
   "source": [
    "validate(model, train_loader, test_loader)\n"
   ]
  },
  {
   "cell_type": "code",
   "execution_count": 14,
   "id": "b9484cc2",
   "metadata": {
    "execution": {
     "iopub.execute_input": "2024-08-25T16:35:37.720262Z",
     "iopub.status.busy": "2024-08-25T16:35:37.719699Z",
     "iopub.status.idle": "2024-08-25T16:35:38.778111Z",
     "shell.execute_reply": "2024-08-25T16:35:38.776917Z"
    },
    "papermill": {
     "duration": 1.077659,
     "end_time": "2024-08-25T16:35:38.780580",
     "exception": false,
     "start_time": "2024-08-25T16:35:37.702921",
     "status": "completed"
    },
    "tags": []
   },
   "outputs": [
    {
     "name": "stdout",
     "output_type": "stream",
     "text": [
      "Architecture:                         x86_64\r\n",
      "CPU op-mode(s):                       32-bit, 64-bit\r\n",
      "Byte Order:                           Little Endian\r\n",
      "Address sizes:                        46 bits physical, 48 bits virtual\r\n",
      "CPU(s):                               4\r\n",
      "On-line CPU(s) list:                  0-3\r\n",
      "Thread(s) per core:                   2\r\n",
      "Core(s) per socket:                   2\r\n",
      "Socket(s):                            1\r\n",
      "NUMA node(s):                         1\r\n",
      "Vendor ID:                            GenuineIntel\r\n",
      "CPU family:                           6\r\n",
      "Model:                                85\r\n",
      "Model name:                           Intel(R) Xeon(R) CPU @ 2.00GHz\r\n",
      "Stepping:                             3\r\n",
      "CPU MHz:                              2000.210\r\n",
      "BogoMIPS:                             4000.42\r\n",
      "Hypervisor vendor:                    KVM\r\n",
      "Virtualization type:                  full\r\n",
      "L1d cache:                            64 KiB\r\n",
      "L1i cache:                            64 KiB\r\n",
      "L2 cache:                             2 MiB\r\n",
      "L3 cache:                             38.5 MiB\r\n",
      "NUMA node0 CPU(s):                    0-3\r\n",
      "Vulnerability Gather data sampling:   Not affected\r\n",
      "Vulnerability Itlb multihit:          Not affected\r\n",
      "Vulnerability L1tf:                   Mitigation; PTE Inversion\r\n",
      "Vulnerability Mds:                    Mitigation; Clear CPU buffers; SMT Host st\r\n",
      "                                      ate unknown\r\n",
      "Vulnerability Meltdown:               Mitigation; PTI\r\n",
      "Vulnerability Mmio stale data:        Vulnerable: Clear CPU buffers attempted, n\r\n",
      "                                      o microcode; SMT Host state unknown\r\n",
      "Vulnerability Reg file data sampling: Not affected\r\n",
      "Vulnerability Retbleed:               Mitigation; IBRS\r\n",
      "Vulnerability Spec rstack overflow:   Not affected\r\n",
      "Vulnerability Spec store bypass:      Mitigation; Speculative Store Bypass disab\r\n",
      "                                      led via prctl and seccomp\r\n",
      "Vulnerability Spectre v1:             Mitigation; usercopy/swapgs barriers and _\r\n",
      "                                      _user pointer sanitization\r\n",
      "Vulnerability Spectre v2:             Mitigation; IBRS; IBPB conditional; STIBP \r\n",
      "                                      conditional; RSB filling; PBRSB-eIBRS Not \r\n",
      "                                      affected; BHI SW loop, KVM SW loop\r\n",
      "Vulnerability Srbds:                  Not affected\r\n",
      "Vulnerability Tsx async abort:        Mitigation; Clear CPU buffers; SMT Host st\r\n",
      "                                      ate unknown\r\n",
      "Flags:                                fpu vme de pse tsc msr pae mce cx8 apic se\r\n",
      "                                      p mtrr pge mca cmov pat pse36 clflush mmx \r\n",
      "                                      fxsr sse sse2 ss ht syscall nx pdpe1gb rdt\r\n",
      "                                      scp lm constant_tsc rep_good nopl xtopolog\r\n",
      "                                      y nonstop_tsc cpuid tsc_known_freq pni pcl\r\n",
      "                                      mulqdq ssse3 fma cx16 pcid sse4_1 sse4_2 x\r\n",
      "                                      2apic movbe popcnt aes xsave avx f16c rdra\r\n",
      "                                      nd hypervisor lahf_lm abm 3dnowprefetch in\r\n",
      "                                      vpcid_single pti ssbd ibrs ibpb stibp fsgs\r\n",
      "                                      base tsc_adjust bmi1 hle avx2 smep bmi2 er\r\n",
      "                                      ms invpcid rtm mpx avx512f avx512dq rdseed\r\n",
      "                                       adx smap clflushopt clwb avx512cd avx512b\r\n",
      "                                      w avx512vl xsaveopt xsavec xgetbv1 xsaves \r\n",
      "                                      arat md_clear arch_capabilities\r\n"
     ]
    }
   ],
   "source": [
    "!lscpu"
   ]
  },
  {
   "cell_type": "code",
   "execution_count": 15,
   "id": "2f789dc4",
   "metadata": {
    "execution": {
     "iopub.execute_input": "2024-08-25T16:35:38.812332Z",
     "iopub.status.busy": "2024-08-25T16:35:38.811953Z",
     "iopub.status.idle": "2024-08-25T16:35:38.816518Z",
     "shell.execute_reply": "2024-08-25T16:35:38.815682Z"
    },
    "papermill": {
     "duration": 0.022614,
     "end_time": "2024-08-25T16:35:38.818356",
     "exception": false,
     "start_time": "2024-08-25T16:35:38.795742",
     "status": "completed"
    },
    "tags": []
   },
   "outputs": [],
   "source": [
    "#torch.save(model.state_dict(), data_dir + 'Lung_cancer.pt')\n"
   ]
  }
 ],
 "metadata": {
  "kaggle": {
   "accelerator": "gpu",
   "dataSources": [
    {
     "datasetId": 601280,
     "sourceId": 1079953,
     "sourceType": "datasetVersion"
    }
   ],
   "dockerImageVersionId": 30747,
   "isGpuEnabled": true,
   "isInternetEnabled": false,
   "language": "python",
   "sourceType": "notebook"
  },
  "kernelspec": {
   "display_name": "Python 3",
   "language": "python",
   "name": "python3"
  },
  "language_info": {
   "codemirror_mode": {
    "name": "ipython",
    "version": 3
   },
   "file_extension": ".py",
   "mimetype": "text/x-python",
   "name": "python",
   "nbconvert_exporter": "python",
   "pygments_lexer": "ipython3",
   "version": "3.10.13"
  },
  "papermill": {
   "default_parameters": {},
   "duration": 5104.715818,
   "end_time": "2024-08-25T16:35:41.381567",
   "environment_variables": {},
   "exception": null,
   "input_path": "__notebook__.ipynb",
   "output_path": "__notebook__.ipynb",
   "parameters": {},
   "start_time": "2024-08-25T15:10:36.665749",
   "version": "2.5.0"
  }
 },
 "nbformat": 4,
 "nbformat_minor": 5
}
