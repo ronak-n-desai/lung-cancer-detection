{
 "cells": [
  {
   "cell_type": "markdown",
   "id": "78551886",
   "metadata": {
    "papermill": {
     "duration": 0.006379,
     "end_time": "2024-08-22T05:21:39.546453",
     "exception": false,
     "start_time": "2024-08-22T05:21:39.540074",
     "status": "completed"
    },
    "tags": []
   },
   "source": [
    "<!DOCTYPE html>\n",
    "<html>\n",
    "<head>\n",
    "<style>\n",
    "* {\n",
    "  box-sizing: border-box;\n",
    "}\n",
    "\n",
    ".column {\n",
    "  float: left;\n",
    "  width: 50%;\n",
    "  padding: 1px;\n",
    "}\n",
    "\n",
    "/* Clearfix (clear floats) */\n",
    ".row::after {\n",
    "  content: \"\";\n",
    "  clear: both;\n",
    "  display: table;\n",
    "}\n",
    "\n",
    "\n",
    "</style>\n",
    "</head>\n",
    "<body>\n",
    "\n",
    "<h2>CNN and Application to lung cancer</h2>\n",
    "<h6 style=\"color:Tomato;\">https://doi.org/10.3390/cancers14225569</h6>\n",
    "\n",
    "<div class=\"row\">\n",
    "  <div class=\"column\">\n",
    "    <img src=\"cnn.png\" alt=\"General CNN\" width=500 height=100>\n",
    "  </div>\n",
    "  <div class=\"column\">\n",
    "    <img src=\"Celebr.png\" alt=\"CNN celebs, from google images\"  width=500 height=100>\n",
    "  </div>\n",
    "</div>\n",
    "\n",
    "</body>\n",
    "</html>\n",
    "\n"
   ]
  },
  {
   "cell_type": "markdown",
   "id": "ac1451cb",
   "metadata": {
    "papermill": {
     "duration": 0.005458,
     "end_time": "2024-08-22T05:21:39.557733",
     "exception": false,
     "start_time": "2024-08-22T05:21:39.552275",
     "status": "completed"
    },
    "tags": []
   },
   "source": [
    "<h3 style=\"color: red;\">Student: Rexiati Dilimulati </h3>\n",
    "<h4 style=\"color: red;\">rishat.dilmurat@gmail.com</h4>"
   ]
  },
  {
   "cell_type": "code",
   "execution_count": 1,
   "id": "73038827",
   "metadata": {
    "execution": {
     "iopub.execute_input": "2024-08-22T05:21:39.570411Z",
     "iopub.status.busy": "2024-08-22T05:21:39.570116Z",
     "iopub.status.idle": "2024-08-22T05:21:49.610102Z",
     "shell.execute_reply": "2024-08-22T05:21:49.609315Z"
    },
    "papermill": {
     "duration": 10.04881,
     "end_time": "2024-08-22T05:21:49.612402",
     "exception": false,
     "start_time": "2024-08-22T05:21:39.563592",
     "status": "completed"
    },
    "tags": []
   },
   "outputs": [],
   "source": [
    "import numpy as np\n",
    "import pandas as pd\n",
    "import matplotlib.pylab as plt\n",
    "import torch \n",
    "import torch.nn as nn\n",
    "import torch.nn.functional as F\n",
    "import torchvision.transforms as transforms\n",
    "import torchvision.datasets as dsets\n",
    "import torchvision.models as models\n",
    "from torch.utils.data import DataLoader, Dataset\n",
    "from IPython.display import Image, HTML, display\n",
    "import time\n",
    "import cv2\n",
    "from fastai.vision.all import *\n",
    "import os"
   ]
  },
  {
   "cell_type": "code",
   "execution_count": 2,
   "id": "dee7b966",
   "metadata": {
    "execution": {
     "iopub.execute_input": "2024-08-22T05:21:49.626283Z",
     "iopub.status.busy": "2024-08-22T05:21:49.625995Z",
     "iopub.status.idle": "2024-08-22T05:21:49.699278Z",
     "shell.execute_reply": "2024-08-22T05:21:49.698365Z"
    },
    "papermill": {
     "duration": 0.082354,
     "end_time": "2024-08-22T05:21:49.701412",
     "exception": false,
     "start_time": "2024-08-22T05:21:49.619058",
     "status": "completed"
    },
    "tags": []
   },
   "outputs": [
    {
     "name": "stdout",
     "output_type": "stream",
     "text": [
      "Using device: cuda\n"
     ]
    }
   ],
   "source": [
    "device = torch.device(\"cuda\" if torch.cuda.is_available() else \"cpu\")\n",
    "print(f\"Using device: {device}\")"
   ]
  },
  {
   "cell_type": "code",
   "execution_count": 3,
   "id": "ed528e62",
   "metadata": {
    "execution": {
     "iopub.execute_input": "2024-08-22T05:21:49.714571Z",
     "iopub.status.busy": "2024-08-22T05:21:49.714297Z",
     "iopub.status.idle": "2024-08-22T05:21:49.720195Z",
     "shell.execute_reply": "2024-08-22T05:21:49.719515Z"
    },
    "papermill": {
     "duration": 0.014593,
     "end_time": "2024-08-22T05:21:49.722114",
     "exception": false,
     "start_time": "2024-08-22T05:21:49.707521",
     "status": "completed"
    },
    "tags": []
   },
   "outputs": [],
   "source": [
    "torch.manual_seed(0);"
   ]
  },
  {
   "cell_type": "code",
   "execution_count": 4,
   "id": "2e4751a4",
   "metadata": {
    "execution": {
     "iopub.execute_input": "2024-08-22T05:21:49.736344Z",
     "iopub.status.busy": "2024-08-22T05:21:49.736073Z",
     "iopub.status.idle": "2024-08-22T05:21:49.746446Z",
     "shell.execute_reply": "2024-08-22T05:21:49.745487Z"
    },
    "papermill": {
     "duration": 0.019435,
     "end_time": "2024-08-22T05:21:49.748314",
     "exception": false,
     "start_time": "2024-08-22T05:21:49.728879",
     "status": "completed"
    },
    "tags": []
   },
   "outputs": [
    {
     "name": "stdout",
     "output_type": "stream",
     "text": [
      "['lung_aca', 'lung_scc', 'lung_n']\n"
     ]
    }
   ],
   "source": [
    "import os\n",
    "dataset_path = \"/kaggle/input/lung_colon_image_set/lung_image_sets\"\n",
    "\n",
    "print(os.listdir(dataset_path))"
   ]
  },
  {
   "cell_type": "markdown",
   "id": "e0c96034",
   "metadata": {
    "papermill": {
     "duration": 0.005915,
     "end_time": "2024-08-22T05:21:49.760264",
     "exception": false,
     "start_time": "2024-08-22T05:21:49.754349",
     "status": "completed"
    },
    "tags": []
   },
   "source": [
    "<header class=\"centered-header\">\n",
    "    <h1 style=\"color:Tomato;\">My Mission</h1>\n",
    "    <h2>Classify Lung Cancer Dataset Using CNN</h2>\n",
    "</header>\n",
    "<table><tr><td><img src='typeLungCanser.jpg'></td>"
   ]
  },
  {
   "cell_type": "markdown",
   "id": "0a2210af",
   "metadata": {
    "papermill": {
     "duration": 0.006012,
     "end_time": "2024-08-22T05:21:49.772596",
     "exception": false,
     "start_time": "2024-08-22T05:21:49.766584",
     "status": "completed"
    },
    "tags": []
   },
   "source": [
    "<img src=\"outputSize.jpg\" alt=\"CNN celebs, from google images\"  width=500 height=100>"
   ]
  },
  {
   "cell_type": "markdown",
   "id": "91be2657",
   "metadata": {
    "papermill": {
     "duration": 0.005904,
     "end_time": "2024-08-22T05:21:49.784569",
     "exception": false,
     "start_time": "2024-08-22T05:21:49.778665",
     "status": "completed"
    },
    "tags": []
   },
   "source": [
    "<h1 style=\"color:Tomato;\">Inception v3</h1>\n",
    "<p>https://www.mdpi.com/2073-8994/14/12/2679</p>\n",
    "<table><tr><td><img src='inception.jpg' style=\"width:600px;height:405px;\"></td><td><img src='inception_01.jpg' ></td></tr>\n",
    "<td><img src='inception_02.jpg' ></td></tr></table>"
   ]
  },
  {
   "cell_type": "code",
   "execution_count": 5,
   "id": "08496bfe",
   "metadata": {
    "execution": {
     "iopub.execute_input": "2024-08-22T05:21:49.797756Z",
     "iopub.status.busy": "2024-08-22T05:21:49.797453Z",
     "iopub.status.idle": "2024-08-22T05:21:49.806487Z",
     "shell.execute_reply": "2024-08-22T05:21:49.805842Z"
    },
    "jupyter": {
     "source_hidden": true
    },
    "papermill": {
     "duration": 0.017537,
     "end_time": "2024-08-22T05:21:49.808182",
     "exception": false,
     "start_time": "2024-08-22T05:21:49.790645",
     "status": "completed"
    },
    "tags": []
   },
   "outputs": [],
   "source": [
    "class InceptionA(nn.Module):\n",
    "    def __init__(self, in_channels):\n",
    "        super(InceptionA, self).__init__()\n",
    "        # Define branches with different pooling strategies\n",
    "        self.branch1x1 = nn.Sequential(\n",
    "            nn.Conv2d(in_channels, 64, kernel_size=1),\n",
    "            nn.BatchNorm2d(64),\n",
    "            nn.ReLU(inplace=True)\n",
    "        )\n",
    "\n",
    "        self.branch5x5 = nn.Sequential(\n",
    "            nn.Conv2d(in_channels, 48, kernel_size=1),\n",
    "            nn.BatchNorm2d(48),\n",
    "            nn.ReLU(inplace=True),\n",
    "            nn.Conv2d(48, 64, kernel_size=5, padding=2),\n",
    "            nn.BatchNorm2d(64),\n",
    "            nn.ReLU(inplace=True)\n",
    "        )\n",
    "\n",
    "        self.branch_pool = nn.Sequential(\n",
    "            nn.AvgPool2d(kernel_size=3, stride=1, padding=1),  # Using AvgPool2d instead of MaxPool2d\n",
    "            nn.Conv2d(in_channels, 32, kernel_size=1),\n",
    "            nn.BatchNorm2d(32),\n",
    "            nn.ReLU(inplace=True)\n",
    "        )\n",
    "\n",
    "    def forward(self, x):\n",
    "        print(x.shape)\n",
    "        branch1x1 = self.branch1x1(x)\n",
    "        print(branch1x1.shape)\n",
    "        branch5x5 = self.branch5x5(x)\n",
    "        print(branch5x5.shape)\n",
    "        branch_pool = self.branch_pool(x)\n",
    "        print(branch_pool.shape)\n",
    "\n",
    "        outputs = [branch1x1, branch5x5, branch_pool]\n",
    "        return torch.cat(outputs, 1)\n"
   ]
  },
  {
   "cell_type": "code",
   "execution_count": 6,
   "id": "995404ce",
   "metadata": {
    "execution": {
     "iopub.execute_input": "2024-08-22T05:21:49.821325Z",
     "iopub.status.busy": "2024-08-22T05:21:49.821061Z",
     "iopub.status.idle": "2024-08-22T05:21:49.829183Z",
     "shell.execute_reply": "2024-08-22T05:21:49.828410Z"
    },
    "jupyter": {
     "source_hidden": true
    },
    "papermill": {
     "duration": 0.016865,
     "end_time": "2024-08-22T05:21:49.831083",
     "exception": false,
     "start_time": "2024-08-22T05:21:49.814218",
     "status": "completed"
    },
    "tags": []
   },
   "outputs": [],
   "source": [
    "class InceptionB(nn.Module):\n",
    "    def __init__(self, in_channels):\n",
    "        super(InceptionB, self).__init__()\n",
    "        # Branches\n",
    "        self.branch3x3 = nn.Sequential(\n",
    "            nn.Conv2d(in_channels, 384, kernel_size=3, stride=2),\n",
    "            nn.BatchNorm2d(384),\n",
    "            nn.ReLU(inplace=True)\n",
    "        )\n",
    "        self.branch3x3dbl = nn.Sequential(\n",
    "            nn.Conv2d(in_channels, 64, kernel_size=1),\n",
    "            nn.BatchNorm2d(64),\n",
    "            nn.ReLU(inplace=True),\n",
    "            nn.Conv2d(64, 96, kernel_size=3, padding=1),\n",
    "            nn.BatchNorm2d(96),\n",
    "            nn.ReLU(inplace=True),\n",
    "            nn.Conv2d(96, 128, kernel_size=3, stride=2),\n",
    "            nn.BatchNorm2d(128),\n",
    "            nn.ReLU(inplace=True)\n",
    "        )\n",
    "        self.branch_pool = nn.Sequential(\n",
    "            nn.MaxPool2d(kernel_size=3, stride=2)\n",
    "        )\n",
    "\n",
    "    def forward(self, x):\n",
    "        branch3x3 = self.branch3x3(x)\n",
    "        branch3x3dbl = self.branch3x3dbl(x)\n",
    "        branch_pool = self.branch_pool(x)\n",
    "\n",
    "        outputs = [branch3x3, branch3x3dbl, branch_pool]\n",
    "        return torch.cat(outputs, 1)"
   ]
  },
  {
   "cell_type": "code",
   "execution_count": 7,
   "id": "636b597f",
   "metadata": {
    "execution": {
     "iopub.execute_input": "2024-08-22T05:21:49.845098Z",
     "iopub.status.busy": "2024-08-22T05:21:49.844844Z",
     "iopub.status.idle": "2024-08-22T05:21:49.856246Z",
     "shell.execute_reply": "2024-08-22T05:21:49.855437Z"
    },
    "jupyter": {
     "source_hidden": true
    },
    "papermill": {
     "duration": 0.020137,
     "end_time": "2024-08-22T05:21:49.858086",
     "exception": false,
     "start_time": "2024-08-22T05:21:49.837949",
     "status": "completed"
    },
    "tags": []
   },
   "outputs": [],
   "source": [
    "class InceptionC(nn.Module):\n",
    "    def __init__(self, in_channels):\n",
    "        super(InceptionC, self).__init__()\n",
    "        # Branches\n",
    "        self.branch1x1 = nn.Sequential(\n",
    "            nn.Conv2d(in_channels, 256, kernel_size=1),\n",
    "            nn.BatchNorm2d(256),\n",
    "            nn.ReLU(inplace=True)\n",
    "        )\n",
    "        self.branch7x7x3 = nn.Sequential(\n",
    "            nn.Conv2d(in_channels, 64, kernel_size=1),\n",
    "            nn.BatchNorm2d(64),\n",
    "            nn.ReLU(inplace=True),\n",
    "            nn.Conv2d(64, 128, kernel_size=(1, 7), padding=(0, 3)),\n",
    "            nn.BatchNorm2d(128),\n",
    "            nn.ReLU(inplace=True),\n",
    "            nn.Conv2d(128, 128, kernel_size=(7, 1), padding=(3, 0)),\n",
    "            nn.BatchNorm2d(128),\n",
    "            nn.ReLU(inplace=True)\n",
    "        )\n",
    "        self.branch7x7x3dbl = nn.Sequential(\n",
    "            nn.Conv2d(in_channels, 64, kernel_size=1),\n",
    "            nn.BatchNorm2d(64),\n",
    "            nn.ReLU(inplace=True),\n",
    "            nn.Conv2d(64, 128, kernel_size=3, padding=1),\n",
    "            nn.BatchNorm2d(128),\n",
    "            nn.ReLU(inplace=True),\n",
    "            nn.Conv2d(128, 128, kernel_size=3, padding=1),\n",
    "            nn.BatchNorm2d(128),\n",
    "            nn.ReLU(inplace=True)\n",
    "        )\n",
    "        self.branch_pool = nn.Sequential(\n",
    "            nn.AvgPool2d(kernel_size=3, stride=1, padding=1),\n",
    "            nn.Conv2d(in_channels, 128, kernel_size=1),\n",
    "            nn.BatchNorm2d(128),\n",
    "            nn.ReLU(inplace=True)\n",
    "        )\n",
    "\n",
    "    def forward(self, x):\n",
    "        branch1x1 = self.branch1x1(x)\n",
    "        branch7x7x3 = self.branch7x7x3(x)\n",
    "        branch7x7x3dbl = self.branch7x7x3dbl(x)\n",
    "        branch_pool = self.branch_pool(x)\n",
    "\n",
    "        outputs = [branch1x1, branch7x7x3, branch7x7x3dbl, branch_pool]\n",
    "        return torch.cat(outputs, 1)\n"
   ]
  },
  {
   "cell_type": "markdown",
   "id": "572f058d",
   "metadata": {
    "papermill": {
     "duration": 0.006055,
     "end_time": "2024-08-22T05:21:49.870308",
     "exception": false,
     "start_time": "2024-08-22T05:21:49.864253",
     "status": "completed"
    },
    "tags": []
   },
   "source": [
    "<h1 style=\"color:Tomato;\">Train the model</h1>"
   ]
  },
  {
   "cell_type": "code",
   "execution_count": 8,
   "id": "07463c0d",
   "metadata": {
    "execution": {
     "iopub.execute_input": "2024-08-22T05:21:49.883661Z",
     "iopub.status.busy": "2024-08-22T05:21:49.883402Z",
     "iopub.status.idle": "2024-08-22T05:21:49.897186Z",
     "shell.execute_reply": "2024-08-22T05:21:49.896126Z"
    },
    "papermill": {
     "duration": 0.022843,
     "end_time": "2024-08-22T05:21:49.899285",
     "exception": false,
     "start_time": "2024-08-22T05:21:49.876442",
     "status": "completed"
    },
    "tags": []
   },
   "outputs": [],
   "source": [
    "def train_model(model, criterion, train_loader, validation_loader, optimizer, n_epochs=4):\n",
    "\n",
    "    N_train = len(train_loader.dataset)\n",
    "    N_test = len(validation_loader.dataset)\n",
    "    accuracy_list_traing = []; loss_list_training = []\n",
    "    accuracy_list_test = []; loss_list_test = []\n",
    "    \n",
    "    for epoch in range(n_epochs):\n",
    "        model.train()\n",
    "        cost = 0; correct=0\n",
    "        for x, y in train_loader:\n",
    "            x_train = x.as_subclass(torch.Tensor)\n",
    "            y_train = y.as_subclass(torch.Tensor)\n",
    "            x_train, y_train = x_train.to(device), y_train.to(device)  # with GPU\n",
    "\n",
    "            # forward + backward + optimize\n",
    "            #model.to(device)\n",
    "            optimizer.zero_grad()\n",
    "            z = model(x_train)\n",
    "            z_logits = z.logits if isinstance(z, models.InceptionOutputs) else z\n",
    "            loss = criterion(z_logits, y_train)\n",
    "            loss.backward()\n",
    "            optimizer.step()\n",
    "            \n",
    "            cost = cost+loss.data\n",
    "            _, yhat = torch.max(z_logits.data, 1)\n",
    "            correct += (yhat == y_train).sum().item()\n",
    "        accuracy = correct / N_train\n",
    "        accuracy_list_traing.append(accuracy)\n",
    "        loss_list_training.append(cost.item())\n",
    "        \n",
    "        print(f\"Epoch_{epoch}:training_accuracy {accuracy:.2f} | training_loss {cost:.2f}\")\n",
    "        \n",
    "        #perform a prediction on the validation  data \n",
    "        model.eval()\n",
    "        cost = 0; correct=0\n",
    "        for x_test, y_test in validation_loader:\n",
    "            x_test = x_test.as_subclass(torch.Tensor)\n",
    "            y_test = y_test.as_subclass(torch.Tensor)\n",
    "            x_test, y_test = x_test.to(device), y_test.to(device)  # with GPU      \n",
    "            \n",
    "            optimizer.zero_grad()\n",
    "            z = model(x_test)\n",
    "            z_logits = z.logits if isinstance(z, models.InceptionOutputs) else z\n",
    "            loss = criterion(z_logits, y_test)\n",
    "\n",
    "\n",
    "            cost = cost+loss.data\n",
    "            _, yhat = torch.max(z_logits.data, 1)\n",
    "            correct += (yhat == y_test).sum().item()\n",
    "        accuracy = correct / N_test\n",
    "        accuracy_list_test.append(accuracy)\n",
    "        loss_list_test.append(cost.item())\n",
    "\n",
    "        print(f\"Epoch_{epoch}:testing_accuracy {accuracy:.2f} | testing_loss {cost:.2f}\")\n",
    "        \n",
    "     \n",
    "    return np.round(np.array([accuracy_list_traing, loss_list_training, accuracy_list_test, loss_list_test], dtype=float), decimals=3)"
   ]
  },
  {
   "cell_type": "markdown",
   "id": "d8e18bb0",
   "metadata": {
    "papermill": {
     "duration": 0.005998,
     "end_time": "2024-08-22T05:21:49.911542",
     "exception": false,
     "start_time": "2024-08-22T05:21:49.905544",
     "status": "completed"
    },
    "tags": []
   },
   "source": [
    "<h1 style=\"color:Tomato;\">pytorch like loading images</h1>"
   ]
  },
  {
   "cell_type": "code",
   "execution_count": 9,
   "id": "17e2b951",
   "metadata": {
    "execution": {
     "iopub.execute_input": "2024-08-22T05:21:49.924865Z",
     "iopub.status.busy": "2024-08-22T05:21:49.924615Z",
     "iopub.status.idle": "2024-08-22T05:21:49.928545Z",
     "shell.execute_reply": "2024-08-22T05:21:49.927740Z"
    },
    "papermill": {
     "duration": 0.01275,
     "end_time": "2024-08-22T05:21:49.930474",
     "exception": false,
     "start_time": "2024-08-22T05:21:49.917724",
     "status": "completed"
    },
    "tags": []
   },
   "outputs": [],
   "source": [
    "# Create the training dataset\n",
    "\n",
    "# Define a transform (e.g., convert to tensor, normalize)\n",
    "#transform = transforms.Compose([transforms.Resize((128, 128)),\n",
    "#                                transforms.ToTensor()])\n",
    "\n",
    "# Load the dataset\n",
    "#dataset = dsets.ImageFolder(root='./lung_colon_image_set/lung_image_sets/', transform=transform)\n",
    "\n",
    "# Define the DataLoader\n",
    "#dataloader = DataLoader(dataset, batch_size=50, shuffle=True)\n",
    "\n",
    "# Iterate over the DataLoader\n",
    "#for inputs, labels in dataloader:\n",
    "#    print(inputs.shape, labels.shape)\n",
    "    # Your training code here\n"
   ]
  },
  {
   "cell_type": "markdown",
   "id": "03cf264e",
   "metadata": {
    "papermill": {
     "duration": 0.006094,
     "end_time": "2024-08-22T05:21:49.942954",
     "exception": false,
     "start_time": "2024-08-22T05:21:49.936860",
     "status": "completed"
    },
    "tags": []
   },
   "source": [
    "<h1 style=\"color:Tomato;\">Fastai like loading and showing images</h1>"
   ]
  },
  {
   "cell_type": "code",
   "execution_count": 10,
   "id": "bcaf6599",
   "metadata": {
    "execution": {
     "iopub.execute_input": "2024-08-22T05:21:49.957330Z",
     "iopub.status.busy": "2024-08-22T05:21:49.957055Z",
     "iopub.status.idle": "2024-08-22T05:22:05.472083Z",
     "shell.execute_reply": "2024-08-22T05:22:05.471280Z"
    },
    "papermill": {
     "duration": 15.525402,
     "end_time": "2024-08-22T05:22:05.474711",
     "exception": false,
     "start_time": "2024-08-22T05:21:49.949309",
     "status": "completed"
    },
    "tags": []
   },
   "outputs": [],
   "source": [
    "# Path to the directory containing images\n",
    "#dataset_path=\"../lung_colon_image_set/lung_image_sets/\"\n",
    "path = Path(dataset_path)\n",
    "\n",
    "# Create an ImageDataLoaders object\n",
    "# You can use ImageDataLoaders.from_folder, from_csv, etc., depending on your dataset structure\n",
    "resize = 299\n",
    "dls_lungimagesets = ImageDataLoaders.from_folder(\n",
    "    path, \n",
    "    valid_pct=0.2,       # 20% of data will be used for validation\n",
    "    seed=0,             # Seed for reproducibility\n",
    "    item_tfms=Resize(resize),# Resize images to 224x224\n",
    "    bs=50\n",
    ")\n",
    "\n",
    "# Get a batch of data\n",
    "batch = dls_lungimagesets.one_batch()"
   ]
  },
  {
   "cell_type": "code",
   "execution_count": 11,
   "id": "31bc5090",
   "metadata": {
    "execution": {
     "iopub.execute_input": "2024-08-22T05:22:05.489582Z",
     "iopub.status.busy": "2024-08-22T05:22:05.489305Z",
     "iopub.status.idle": "2024-08-22T05:22:05.493430Z",
     "shell.execute_reply": "2024-08-22T05:22:05.492583Z"
    },
    "papermill": {
     "duration": 0.013679,
     "end_time": "2024-08-22T05:22:05.495426",
     "exception": false,
     "start_time": "2024-08-22T05:22:05.481747",
     "status": "completed"
    },
    "tags": []
   },
   "outputs": [],
   "source": [
    "# Access the training and validation DataLoaders\n",
    "train_dls_lungimagesets = dls_lungimagesets.train\n",
    "valid_dls_lungimagesets = dls_lungimagesets.valid"
   ]
  },
  {
   "cell_type": "code",
   "execution_count": 12,
   "id": "8f513000",
   "metadata": {
    "execution": {
     "iopub.execute_input": "2024-08-22T05:22:05.509666Z",
     "iopub.status.busy": "2024-08-22T05:22:05.509415Z",
     "iopub.status.idle": "2024-08-22T05:22:05.515738Z",
     "shell.execute_reply": "2024-08-22T05:22:05.514929Z"
    },
    "papermill": {
     "duration": 0.015727,
     "end_time": "2024-08-22T05:22:05.517631",
     "exception": false,
     "start_time": "2024-08-22T05:22:05.501904",
     "status": "completed"
    },
    "tags": []
   },
   "outputs": [
    {
     "data": {
      "text/plain": [
       "'/kaggle/working'"
      ]
     },
     "execution_count": 12,
     "metadata": {},
     "output_type": "execute_result"
    }
   ],
   "source": [
    "pwd"
   ]
  },
  {
   "cell_type": "markdown",
   "id": "eebf673f",
   "metadata": {
    "papermill": {
     "duration": 0.00645,
     "end_time": "2024-08-22T05:22:05.530770",
     "exception": false,
     "start_time": "2024-08-22T05:22:05.524320",
     "status": "completed"
    },
    "tags": []
   },
   "source": [
    "<h1 style=\"color:Tomato;\"> With Inception_V3</h1>"
   ]
  },
  {
   "cell_type": "code",
   "execution_count": 13,
   "id": "637cdbf7",
   "metadata": {
    "execution": {
     "iopub.execute_input": "2024-08-22T05:22:05.546300Z",
     "iopub.status.busy": "2024-08-22T05:22:05.546034Z",
     "iopub.status.idle": "2024-08-22T06:22:34.936923Z",
     "shell.execute_reply": "2024-08-22T06:22:34.935455Z"
    },
    "papermill": {
     "duration": 3629.401831,
     "end_time": "2024-08-22T06:22:34.939170",
     "exception": false,
     "start_time": "2024-08-22T05:22:05.537339",
     "status": "completed"
    },
    "tags": []
   },
   "outputs": [
    {
     "name": "stderr",
     "output_type": "stream",
     "text": [
      "Downloading: \"https://download.pytorch.org/models/inception_v3_google-0cc3c7bd.pth\" to /root/.cache/torch/hub/checkpoints/inception_v3_google-0cc3c7bd.pth\n",
      "100%|██████████| 104M/104M [00:00<00:00, 144MB/s] \n"
     ]
    },
    {
     "name": "stdout",
     "output_type": "stream",
     "text": [
      "Epoch_0:training_accuracy 0.96 | training_loss 22.16\n",
      "Epoch_0:testing_accuracy 1.00 | testing_loss 0.59\n",
      "Epoch_1:training_accuracy 0.99 | training_loss 4.44\n",
      "Epoch_1:testing_accuracy 1.00 | testing_loss 0.39\n",
      "Epoch_2:training_accuracy 1.00 | training_loss 1.13\n",
      "Epoch_2:testing_accuracy 1.00 | testing_loss 0.03\n",
      "Epoch_3:training_accuracy 1.00 | training_loss 0.23\n",
      "Epoch_3:testing_accuracy 1.00 | testing_loss 0.01\n",
      "Epoch_4:training_accuracy 1.00 | training_loss 0.27\n",
      "Epoch_4:testing_accuracy 1.00 | testing_loss 0.03\n",
      "Epoch_5:training_accuracy 1.00 | training_loss 0.12\n",
      "Epoch_5:testing_accuracy 1.00 | testing_loss 0.01\n",
      "Epoch_6:training_accuracy 1.00 | training_loss 0.27\n",
      "Epoch_6:testing_accuracy 1.00 | testing_loss 0.01\n",
      "Epoch_7:training_accuracy 1.00 | training_loss 0.06\n",
      "Epoch_7:testing_accuracy 1.00 | testing_loss 0.00\n",
      "Epoch_8:training_accuracy 1.00 | training_loss 0.02\n",
      "Epoch_8:testing_accuracy 1.00 | testing_loss 0.00\n",
      "Epoch_9:training_accuracy 1.00 | training_loss 0.49\n",
      "Epoch_9:testing_accuracy 1.00 | testing_loss 0.09\n",
      "Epoch_10:training_accuracy 1.00 | training_loss 1.23\n",
      "Epoch_10:testing_accuracy 1.00 | testing_loss 0.05\n",
      "Epoch_11:training_accuracy 1.00 | training_loss 0.10\n",
      "Epoch_11:testing_accuracy 1.00 | testing_loss 0.01\n",
      "Epoch_12:training_accuracy 1.00 | training_loss 0.03\n",
      "Epoch_12:testing_accuracy 1.00 | testing_loss 0.02\n",
      "Epoch_13:training_accuracy 1.00 | training_loss 0.02\n",
      "Epoch_13:testing_accuracy 1.00 | testing_loss 0.01\n",
      "Epoch_14:training_accuracy 1.00 | training_loss 0.02\n",
      "Epoch_14:testing_accuracy 1.00 | testing_loss 0.02\n",
      "Epoch_15:training_accuracy 1.00 | training_loss 0.04\n",
      "Epoch_15:testing_accuracy 1.00 | testing_loss 0.01\n",
      "Epoch_16:training_accuracy 1.00 | training_loss 0.14\n",
      "Epoch_16:testing_accuracy 1.00 | testing_loss 0.02\n",
      "Epoch_17:training_accuracy 1.00 | training_loss 0.09\n",
      "Epoch_17:testing_accuracy 1.00 | testing_loss 0.01\n",
      "Epoch_18:training_accuracy 1.00 | training_loss 0.03\n",
      "Epoch_18:testing_accuracy 1.00 | testing_loss 0.00\n",
      "Epoch_19:training_accuracy 1.00 | training_loss 0.19\n",
      "Epoch_19:testing_accuracy 1.00 | testing_loss 0.03\n",
      "Epoch_20:training_accuracy 1.00 | training_loss 0.13\n",
      "Epoch_20:testing_accuracy 1.00 | testing_loss 0.01\n",
      "Epoch_21:training_accuracy 1.00 | training_loss 0.05\n",
      "Epoch_21:testing_accuracy 1.00 | testing_loss 0.01\n",
      "Epoch_22:training_accuracy 1.00 | training_loss 0.02\n",
      "Epoch_22:testing_accuracy 1.00 | testing_loss 0.00\n",
      "Epoch_23:training_accuracy 1.00 | training_loss 0.02\n",
      "Epoch_23:testing_accuracy 1.00 | testing_loss 0.00\n",
      "Epoch_24:training_accuracy 1.00 | training_loss 0.02\n",
      "Epoch_24:testing_accuracy 1.00 | testing_loss 0.00\n",
      "Epoch_25:training_accuracy 1.00 | training_loss 0.01\n",
      "Epoch_25:testing_accuracy 1.00 | testing_loss 0.00\n",
      "Epoch_26:training_accuracy 1.00 | training_loss 0.01\n",
      "Epoch_26:testing_accuracy 1.00 | testing_loss 0.00\n",
      "Epoch_27:training_accuracy 1.00 | training_loss 0.01\n",
      "Epoch_27:testing_accuracy 1.00 | testing_loss 0.00\n",
      "Epoch_28:training_accuracy 1.00 | training_loss 0.01\n",
      "Epoch_28:testing_accuracy 1.00 | testing_loss 0.00\n",
      "Epoch_29:training_accuracy 1.00 | training_loss 0.01\n",
      "Epoch_29:testing_accuracy 1.00 | testing_loss 0.00\n",
      "Total time: 60.466 mins\n"
     ]
    }
   ],
   "source": [
    "# Create the criterion function\n",
    "criterion = nn.CrossEntropyLoss()\n",
    "\n",
    "\n",
    "\n",
    "# Load the pre-trained Inception V3 model\n",
    "model = models.inception_v3(weights=Inception_V3_Weights.DEFAULT)\n",
    "\n",
    "num_classes = 3\n",
    "model.fc = torch.nn.Linear(model.fc.in_features, num_classes).to(device)\n",
    "# the inception_v3 expects tensors with a size of N x 3 x 299 x 299\n",
    "\n",
    "model.to(device)\n",
    "\n",
    "\n",
    "\n",
    "# define optimizer\n",
    "learning_rate = 0.01; momentum=0.9\n",
    "optimizer = torch.optim.SGD(model.parameters(), lr=learning_rate, momentum=momentum)\n",
    "\n",
    "\n",
    "start_time = time.time()\n",
    "training_results_Inception = train_model(model, criterion, train_dls_lungimagesets, valid_dls_lungimagesets, optimizer, n_epochs=30)\n",
    "end_time = time.time()\n",
    "\n",
    "print(f'Total time: {(end_time - start_time)/60:.3f} mins')\n",
    "\n",
    "#%timeit t_cpu @ t_cpu\n",
    "#%timeit t_gpu @ t_gpu"
   ]
  },
  {
   "cell_type": "markdown",
   "id": "89b59ca4",
   "metadata": {
    "papermill": {
     "duration": 0.013136,
     "end_time": "2024-08-22T06:22:34.964990",
     "exception": false,
     "start_time": "2024-08-22T06:22:34.951854",
     "status": "completed"
    },
    "tags": []
   },
   "source": [
    "<h1 style=\"color:Tomato;\">Show results</h1>"
   ]
  },
  {
   "cell_type": "code",
   "execution_count": 14,
   "id": "f85641f4",
   "metadata": {
    "execution": {
     "iopub.execute_input": "2024-08-22T06:22:34.992094Z",
     "iopub.status.busy": "2024-08-22T06:22:34.991286Z",
     "iopub.status.idle": "2024-08-22T06:22:34.997600Z",
     "shell.execute_reply": "2024-08-22T06:22:34.996757Z"
    },
    "papermill": {
     "duration": 0.022289,
     "end_time": "2024-08-22T06:22:34.999680",
     "exception": false,
     "start_time": "2024-08-22T06:22:34.977391",
     "status": "completed"
    },
    "tags": []
   },
   "outputs": [],
   "source": [
    "def show_data(data_sample):\n",
    "    plt.imshow(data_sample[0][0].numpy(), cmap='gray')\n",
    "    plt.title('y = '+ str(data_sample[1]))"
   ]
  },
  {
   "cell_type": "code",
   "execution_count": null,
   "id": "b17b79da",
   "metadata": {
    "execution": {
     "iopub.status.busy": "2024-08-13T13:08:12.416378Z",
     "iopub.status.idle": "2024-08-13T13:08:12.416744Z",
     "shell.execute_reply": "2024-08-13T13:08:12.416582Z",
     "shell.execute_reply.started": "2024-08-13T13:08:12.416566Z"
    },
    "papermill": {
     "duration": 0.01242,
     "end_time": "2024-08-22T06:22:35.024793",
     "exception": false,
     "start_time": "2024-08-22T06:22:35.012373",
     "status": "completed"
    },
    "tags": []
   },
   "outputs": [],
   "source": [
    "### \"\"\"\n",
    "# Plot the loss and accuracy for CNN\n",
    "\n",
    "fig, ax1 = plt.subplots()\n",
    "color = 'tab:red'\n",
    "ax1.plot(torch.tensor(training_results_CNN[1]).numpy(), color=color)\n",
    "ax1.set_xlabel('epoch', color=color)\n",
    "ax1.set_ylabel('Cost', color=color)\n",
    "ax1.tick_params(axis='y', color=color)\n",
    "plt.title(\"CNN\")\n",
    "    \n",
    "ax2 = ax1.twinx()  \n",
    "color = 'tab:blue'\n",
    "ax2.set_ylabel('accuracy', color=color) \n",
    "ax2.set_xlabel('epoch', color=color)\n",
    "ax2.plot(training_results_CNN[0], color=color)\n",
    "ax2.tick_params(axis='y', color=color)\n",
    "fig.tight_layout()\n",
    "plt.savefig('LungCancer_CNN_450_450')\n",
    "\"\"\""
   ]
  },
  {
   "cell_type": "markdown",
   "id": "8ed0373f",
   "metadata": {},
   "source": [
    "![](LungCancer_CNN_450_450.png)"
   ]
  }
 ],
 "metadata": {
  "kaggle": {
   "accelerator": "none",
   "dataSources": [
    {
     "datasetId": 601280,
     "sourceId": 1079953,
     "sourceType": "datasetVersion"
    }
   ],
   "dockerImageVersionId": 30746,
   "isGpuEnabled": false,
   "isInternetEnabled": true,
   "language": "python",
   "sourceType": "notebook"
  },
  "kernelspec": {
   "display_name": "Python 3 (ipykernel)",
   "language": "python",
   "name": "python3"
  },
  "language_info": {
   "codemirror_mode": {
    "name": "ipython",
    "version": 3
   },
   "file_extension": ".py",
   "mimetype": "text/x-python",
   "name": "python",
   "nbconvert_exporter": "python",
   "pygments_lexer": "ipython3",
   "version": "3.12.4"
  },
  "papermill": {
   "default_parameters": {},
   "duration": 3660.818974,
   "end_time": "2024-08-22T06:22:37.627999",
   "environment_variables": {},
   "exception": null,
   "input_path": "__notebook__.ipynb",
   "output_path": "__notebook__.ipynb",
   "parameters": {},
   "start_time": "2024-08-22T05:21:36.809025",
   "version": "2.5.0"
  },
  "widgets": {
   "application/vnd.jupyter.widget-state+json": {
    "state": {},
    "version_major": 2,
    "version_minor": 0
   }
  }
 },
 "nbformat": 4,
 "nbformat_minor": 5
}
